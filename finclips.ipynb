{
 "cells": [
  {
   "cell_type": "code",
   "execution_count": 26,
   "metadata": {},
   "outputs": [],
   "source": [
    "import numpy as np\n",
    "import pandas as pd\n",
    "import matplotlib.pyplot as plt"
   ]
  },
  {
   "cell_type": "markdown",
   "metadata": {},
   "source": [
    "# DX in fin clips vs muscle"
   ]
  },
  {
   "cell_type": "markdown",
   "metadata": {},
   "source": [
    "## Blank Correction & Lipid Nomalization"
   ]
  },
  {
   "cell_type": "code",
   "execution_count": null,
   "metadata": {},
   "outputs": [],
   "source": [
    "tagToId = pd.read_excel('muslce,fin clips dioxcin,furans.xlsx')\n",
    "finclip = pd.read_excel('muslce,fin clips dioxcin,furans.xlsx', sheet_name= 'Fin clips')\n",
    "rl_nd = finclip.loc[finclip.iloc[:, -6] == \"ND\", finclip.columns[-4]].dropna()\n",
    "\n",
    "finclip.loc[rl_nd.index, finclip.columns[-5]] = rl_nd.to_numpy('float32')/np.sqrt(2)\n",
    "\n",
    "c = finclip.columns\n",
    "c = c[~c.str.contains('Unnamed')]\n",
    "finclip = finclip.iloc[5:, [0]].join(finclip.iloc[5:, 2::3])\n",
    "finclip.columns = c.astype('str')\n",
    "id_to_name_dict = dict(zip(tagToId['Tag name'], tagToId['Fish ID']))\n",
    "id_to_name_dict.update({\"13-Trembleur\":\"13\"})\n",
    "finclip.rename(columns=id_to_name_dict, inplace=True)\n",
    "finclip.insert(1, 'tag', 'finclip')\n",
    "finclip.columns = finclip.columns.map(lambda x: str(x))\n",
    "lipid_id = finclip.iloc[:, 0].str.contains('lipid', case=False)\n",
    "id = finclip.loc[~lipid_id, finclip.columns[-2]].dropna().index\n",
    "finclip.loc[id, finclip.columns[2:-2]] -= finclip.loc[id, finclip.columns[-2]].to_numpy('float')[:, np.newaxis]\n",
    "finclip = finclip.iloc[:, :-2]\n",
    "print(f'count of samples corrected to negative: {np.sum((~(finclip.iloc[:, 2:].isna() | (finclip.iloc[:, 2:] > 0)).to_numpy()))}')\n",
    "print(f'position of corrected samples: {np.where((~(finclip.iloc[:, 2:].isna() | (finclip.iloc[:, 2:] > 0))).to_numpy())}')\n",
    "finclip.where((finclip.iloc[:, 2:]>0) | (finclip.iloc[:, 2:].isna()), 0, inplace = True)\n",
    "finclip\n",
    "\n",
    "finclip_l = finclip.copy()\n",
    "\n",
    "lipid_id = np.arange(len(finclip_l.CLIENT_ID))[finclip_l.CLIENT_ID.str.contains('Lipid', case = False)][0]\n",
    "finclip_l.iloc[lipid_id, 2:] /= 100\n",
    "id = list(range(finclip_l.shape[0]))\n",
    "id.pop(lipid_id)\n",
    "finclip_l.iloc[id, 2:] /= finclip_l.iloc[lipid_id, 2:]\n",
    "finclip_l.head()"
   ]
  },
  {
   "cell_type": "code",
   "execution_count": null,
   "metadata": {},
   "outputs": [],
   "source": [
    "muscle = pd.read_excel('muslce,fin clips dioxcin,furans.xlsx', sheet_name= 'Muslce')\n",
    "rl_nd = muscle.loc[muscle.iloc[:, -6] == \"ND\", muscle.columns[-4]].dropna()\n",
    "muscle.loc[rl_nd.index, muscle.columns[-5]] = rl_nd.to_numpy('float32')/np.sqrt(2)\n",
    "\n",
    "c = muscle.columns\n",
    "c = c[~c.str.contains('Unnamed')]\n",
    "muscle = muscle.iloc[5:, [0]].join(muscle.iloc[5:, 2::3])\n",
    "c = list(c.str.removeprefix(\"Nechako mort #\"))\n",
    "muscle.columns = c\n",
    "muscle.insert(1, 'tag', 'muscle')\n",
    "\n",
    "lipid_id = muscle.iloc[:, 0].str.contains('lipid', case=False)\n",
    "id = muscle.loc[~lipid_id, muscle.columns[-2]].dropna().index\n",
    "muscle.loc[id, muscle.columns[2:-2]] -= muscle.loc[id, muscle.columns[-2]].to_numpy('float')[:, np.newaxis]\n",
    "muscle = muscle.iloc[:, :-2]\n",
    "print(f'count of samples corrected to negative: {np.sum((~(muscle.iloc[:, 2:].isna() | (muscle.iloc[:, 2:] > 0)).to_numpy()))}')\n",
    "print(f'position of corrected samples: {np.where((~(muscle.iloc[:, 2:].isna() | (muscle.iloc[:, 2:] > 0))).to_numpy())}')\n",
    "muscle.where((muscle.iloc[:, 2:]>0) | (muscle.iloc[:, 2:].isna()), 0, inplace = True)\n",
    "\n",
    "\n",
    "muscle_l = muscle.copy()\n",
    "\n",
    "lipid_id = np.arange(len(muscle_l.CLIENT_ID))[muscle_l.CLIENT_ID.str.contains('Lipid', case = False)][0]\n",
    "muscle_l.iloc[lipid_id, 2:] /= 100\n",
    "id = list(range(muscle_l.shape[0]))\n",
    "id.pop(lipid_id)\n",
    "muscle_l.iloc[id, 2:] /= muscle_l.iloc[lipid_id, 2:]\n",
    "muscle_l\n",
    "\n",
    "blankcorrect_table = pd.concat([finclip, muscle], axis = 0)\n",
    "\n",
    "blankcorrect_table['CLIENT_ID'] = blankcorrect_table[\"CLIENT_ID\"].astype(\"category\")\n",
    "blankcorrect_table['CLIENT_ID'] = blankcorrect_table['CLIENT_ID'].cat.set_categories(finclip['CLIENT_ID'])\n",
    "blankcorrect_table.sort_values(['CLIENT_ID'], inplace = True)\n",
    "blankcorrect_table.reset_index(drop=True, inplace=True)\n",
    "blankcorrect_table.head()"
   ]
  },
  {
   "cell_type": "markdown",
   "metadata": {},
   "source": [
    "### lipid nomalized"
   ]
  },
  {
   "cell_type": "code",
   "execution_count": null,
   "metadata": {},
   "outputs": [],
   "source": [
    "lipid_table = pd.concat([finclip_l, muscle_l], axis = 0)\n",
    "lipid_table.sort_values(['CLIENT_ID'], inplace = True)\n",
    "lipid_table.reset_index(drop=True, inplace=True)\n",
    "lipid_table.drop(index=[0, 1], inplace=True)\n",
    "lipid_table.drop(index = lipid_table.index[lipid_table.CLIENT_ID.str.contains('WHO', case = False)], inplace=True)\n",
    "lipid_table.drop(index = lipid_table.index[lipid_table.CLIENT_ID.str.contains('Total', case = False)], inplace=True)\n",
    "lipid_table.drop(index = lipid_table.index[lipid_table.CLIENT_ID.str.contains('recovery', case = False)], inplace=True)\n",
    "lipid_table.head()"
   ]
  },
  {
   "cell_type": "markdown",
   "metadata": {},
   "source": [
    "## blank corrected plots"
   ]
  },
  {
   "cell_type": "code",
   "execution_count": null,
   "metadata": {},
   "outputs": [],
   "source": [
    "blankcorrect_table.sort_values(['CLIENT_ID'], inplace = True)\n",
    "blankcorrect_table.reset_index(drop=True, inplace=True)\n",
    "blankcorrect_table.drop(index=[0, 1], inplace=True)\n",
    "blankcorrect_table.drop(index = blankcorrect_table.index[blankcorrect_table.CLIENT_ID.str.contains('WHO', case = False)], inplace=True)\n",
    "blankcorrect_table.drop(index = blankcorrect_table.index[blankcorrect_table.CLIENT_ID.str.contains('Total', case = False)], inplace=True)\n",
    "blankcorrect_table.drop(index = blankcorrect_table.index[blankcorrect_table.CLIENT_ID.str.contains('recovery', case = False)], inplace=True)\n",
    "blankcorrect_table.drop(index = blankcorrect_table.index[blankcorrect_table.CLIENT_ID.str.contains('lipid', case = False)], inplace=True)\n",
    "blankcorrect_table.head()"
   ]
  },
  {
   "cell_type": "code",
   "execution_count": null,
   "metadata": {},
   "outputs": [],
   "source": [
    "t = blankcorrect_table.copy()\n",
    "width = 0.2\n",
    "for r in t[\"CLIENT_ID\"].unique():\n",
    "    plt.figure(facecolor='white', figsize = (8, 8))\n",
    "    temp = t.loc[(t.CLIENT_ID == r) & (t.tag == \"muscle\"), t.columns[2:]].dropna(axis=1)\n",
    "    x = np.arange(len(temp.columns)) - (width/2)\n",
    "    plt.xticks(np.arange(len(temp.columns)), temp.columns)\n",
    "    y = temp.to_numpy(\"float\")[0]\n",
    "\n",
    "    plt.bar(x,y, width=width, label = \"muscle\")\n",
    "\n",
    "\n",
    "    temp = t.loc[(t.CLIENT_ID == r) & (t.tag == \"finclip\"), temp.columns]\n",
    "    \n",
    "    y = temp.to_numpy(\"float\")[0]\n",
    "    \n",
    "    plt.bar(x + width,y, width=width, label = \"finclip\")\n",
    "    plt.title(f'{r}')\n",
    "    plt.legend()\n",
    "    \n"
   ]
  },
  {
   "cell_type": "code",
   "execution_count": null,
   "metadata": {},
   "outputs": [],
   "source": [
    "t = blankcorrect_table.copy()\n",
    "\n",
    "for r in t[\"CLIENT_ID\"].unique():\n",
    "    plt.figure(facecolor='white')\n",
    "    temp = t.loc[(t.CLIENT_ID == r) & (t.tag == \"muscle\"), t.columns[2:]].dropna(axis=1)\n",
    "    x = np.arange(len(temp.columns)) \n",
    "    plt.xticks(np.arange(len(temp.columns)), temp.columns)\n",
    "    y = temp.to_numpy(\"float\")[0]\n",
    "    plt.xlabel(\"fish ID\")\n",
    "    plt.ylabel(\"pg/g lw\")\n",
    "    plt.scatter(x,y, label = \"muscle\")\n",
    "    \n",
    "\n",
    "    temp = t.loc[(t.CLIENT_ID == r) & (t.tag == \"finclip\"), temp.columns]\n",
    "    \n",
    "    y = temp.to_numpy(\"float\")[0]\n",
    "    \n",
    "    plt.scatter(x,y, label = \"finclip\")\n",
    "    plt.title(f'{r}')\n",
    "    plt.legend()"
   ]
  },
  {
   "cell_type": "code",
   "execution_count": null,
   "metadata": {},
   "outputs": [],
   "source": [
    "t = blankcorrect_table.copy()\n",
    "t.set_index('CLIENT_ID', inplace = True)\n",
    "#t = t.loc[:, t.sum(axis=0) != 0]\n",
    "t = t.loc[:, t.loc[t.tag == 'muscle', :].sum(axis=0) != 0] # for removing the rest (without muscle)\n",
    "t.reset_index(inplace = True)\n",
    "x = np.arange(len(t.columns[2:]))*2\n",
    "width = 0.8\n",
    "bottom1 = 0 #muslce\n",
    "bottom2 = 0 #finclip\n",
    "\n",
    "plt.figure(facecolor='white', figsize=(15, 10))\n",
    "plt.xticks(np.r_[x+(width/2), x-(width/2)], np.r_[t.columns[2:]+\"-finclip\", t.columns[2:]+\"-muscle\"], rotation = 60, ha = 'right', fontsize = 15)\n",
    "cmap = plt.get_cmap('Spectral')\n",
    "z_c = len(t['CLIENT_ID'].unique())\n",
    "for i, r in enumerate(t[\"CLIENT_ID\"].unique()):\n",
    "    color = cmap(i/z_c)\n",
    "    temp = t.loc[(t.CLIENT_ID == r) & (t.tag == \"muscle\"), t.columns[2:]]\n",
    "    y = temp.to_numpy(\"float\")[0]#/1000000\n",
    "    plt.bar(x - (width/2),y, width=width, color = color, bottom = bottom1)\n",
    "    y[np.isnan(y)] = 0\n",
    "    bottom1 = y + bottom1\n",
    "\n",
    "    temp = t.loc[(t.CLIENT_ID == r) & (t.tag == \"finclip\"), temp.columns]\n",
    "    y = temp.to_numpy(\"float\")[0]#/1000000\n",
    "    plt.bar(x + width/2, y, width=width, label = f\"{r}\", color = color, bottom = bottom2)\n",
    "    y[np.isnan(y)] = 0\n",
    "    bottom2 = y + bottom2\n",
    "    \n",
    "    plt.title('Polychlorinated dibenzo-p-dioxins (PCDDs) and polychlorinated dibenzofurans (PCDFs)', fontsize = 15)\n",
    "    plt.legend(bbox_to_anchor = (1, 1))\n",
    "plt.ylabel(\"pg/g [ww]\", fontsize = 20)\n",
    "plt.yticks(fontsize = 12);"
   ]
  },
  {
   "cell_type": "code",
   "execution_count": null,
   "metadata": {},
   "outputs": [],
   "source": [
    "t = blankcorrect_table.copy()\n",
    "width = 0.3\n",
    "for c in t.columns[2:]:\n",
    "    plt.figure(facecolor='white', figsize = (8, 6))\n",
    "    temp = t[c].dropna() #removing NANs\n",
    "    # temp = temp.loc[temp != 0]\n",
    "    temp = t.loc[temp.index, :]\n",
    "    x = t.loc[temp.index, 'CLIENT_ID'].unique()\n",
    "    xx = np.arange(x.shape[0])\n",
    "    plt.xticks(xx, labels = x, rotation = 70, ha = 'right')\n",
    "    muscle_id = [i in temp.loc[temp['tag'] == 'muscle', \"CLIENT_ID\"].to_list() for i in x]\n",
    "    finclip_id = [i in temp.loc[temp['tag'] == 'finclip', \"CLIENT_ID\"].to_list() for i in x]\n",
    "    plt.bar(xx[muscle_id] + width/2, temp.loc[temp.tag == 'muscle', c].to_numpy('float'), width = width, color = 'blue', label = 'muscle')\n",
    "    plt.bar(xx[finclip_id] - width/2, temp.loc[temp.tag == 'finclip', c].to_numpy('float'), width = width, color = 'orange', label = 'finclip')\n",
    "    plt.title(f'fish #{c}')\n",
    "    plt.legend();"
   ]
  },
  {
   "cell_type": "markdown",
   "metadata": {},
   "source": [
    "## Lipid normalized plots"
   ]
  },
  {
   "cell_type": "code",
   "execution_count": null,
   "metadata": {},
   "outputs": [],
   "source": [
    "t= lipid_table.copy()\n",
    "width = 0.2\n",
    "for r in t[\"CLIENT_ID\"].unique():\n",
    "    plt.figure(facecolor='white')\n",
    "    temp = t.loc[(t.CLIENT_ID == r) & (t.tag == \"muscle\"), t.columns[2:]].dropna(axis=1)\n",
    "    x = np.arange(len(temp.columns)) - (width/2)\n",
    "    plt.xticks(np.arange(len(temp.columns)), temp.columns)\n",
    "    y = temp.to_numpy(\"float\")[0]\n",
    "\n",
    "    plt.bar(x,y, width=width, label = \"muscle\")\n",
    "\n",
    "\n",
    "    temp = t.loc[(t.CLIENT_ID == r) & (t.tag == \"finclip\"), temp.columns]\n",
    "    \n",
    "    y = temp.to_numpy(\"float\")[0]\n",
    "    \n",
    "    plt.bar(x + width,y, width=width, label = \"finclip\")\n",
    "    plt.title(f'{r}')\n",
    "    plt.legend()\n",
    "    \n"
   ]
  },
  {
   "cell_type": "code",
   "execution_count": null,
   "metadata": {},
   "outputs": [],
   "source": [
    "t = lipid_table.copy()\n",
    "\n",
    "for r in t[\"CLIENT_ID\"].unique():\n",
    "    plt.figure(facecolor='white')\n",
    "    temp = t.loc[(t.CLIENT_ID == r) & (t.tag == \"muscle\"), t.columns[2:]].dropna(axis=1)\n",
    "    x = np.arange(len(temp.columns)) \n",
    "    plt.xticks(np.arange(len(temp.columns)), temp.columns)\n",
    "    y = temp.to_numpy(\"float\")[0]\n",
    "    plt.xlabel(\"fish ID\")\n",
    "    plt.ylabel(\"pg/g lw\")\n",
    "    plt.scatter(x,y, label = \"muscle\")\n",
    "    \n",
    "\n",
    "    temp = t.loc[(t.CLIENT_ID == r) & (t.tag == \"finclip\"), temp.columns]\n",
    "    \n",
    "    y = temp.to_numpy(\"float\")[0]\n",
    "    \n",
    "    plt.scatter(x,y, label = \"finclip\")\n",
    "    plt.title(f'{r}')\n",
    "    plt.legend()"
   ]
  },
  {
   "cell_type": "code",
   "execution_count": null,
   "metadata": {},
   "outputs": [],
   "source": [
    "t = lipid_table.copy()\n",
    "#t = t.loc[:, t.sum(axis=0) != 0]\n",
    "t = t.loc[:, t.loc[t.tag == 'muscle', :].sum(axis=0) != 0] # for removing the rest (without muscle)\n",
    "\n",
    "x = np.arange(len(t.columns[2:]))*2\n",
    "width = 0.8\n",
    "bottom1 = 0 #muslce\n",
    "bottom2 = 0 #finclip\n",
    "\n",
    "plt.figure(facecolor='white', figsize=(10, 10))\n",
    "plt.xticks(np.r_[x+(width/2), x-(width/2)], np.r_[t.columns[2:]+\"-finclip\", t.columns[2:]+\"-muscle\"], rotation = 60, ha = 'right', fontsize = 15)\n",
    "cmap = plt.get_cmap('Spectral')\n",
    "z_c = len(t['CLIENT_ID'].unique())\n",
    "for i, r in enumerate(t[\"CLIENT_ID\"].unique()):\n",
    "    color = cmap(i/z_c)\n",
    "    temp = t.loc[(t.CLIENT_ID == r) & (t.tag == \"muscle\"), t.columns[2:]]\n",
    "    y = temp.to_numpy(\"float\")[0]#/1000000\n",
    "    plt.bar(x - (width/2),y, width=width, color = color, bottom = bottom1)\n",
    "    y[np.isnan(y)] = 0\n",
    "    bottom1 = y + bottom1\n",
    "\n",
    "    temp = t.loc[(t.CLIENT_ID == r) & (t.tag == \"finclip\"), temp.columns]\n",
    "    y = temp.to_numpy(\"float\")[0]#/1000000\n",
    "    plt.bar(x + width/2, y, width=width, label = f\"{r}\", color = color, bottom = bottom2)\n",
    "    y[np.isnan(y)] = 0\n",
    "    bottom2 = y + bottom2\n",
    "    \n",
    "    plt.title('Polychlorinated dibenzo-p-dioxins (PCDDs) and polychlorinated dibenzofurans (PCDFs)', fontsize = 15)\n",
    "    plt.legend(bbox_to_anchor = (1, 1))\n",
    "plt.ylabel(\"pg/g [lw]\", fontsize = 20)\n",
    "plt.yticks(fontsize = 12);"
   ]
  },
  {
   "cell_type": "markdown",
   "metadata": {},
   "source": [
    "### each individual fish"
   ]
  },
  {
   "cell_type": "code",
   "execution_count": null,
   "metadata": {},
   "outputs": [],
   "source": [
    "t = lipid_table.copy()\n",
    "width = 0.3\n",
    "for c in t.columns[2:]:\n",
    "    plt.figure(facecolor='white', figsize = (8, 6))\n",
    "    temp = t[c].dropna() #removing NANs\n",
    "    # temp = temp.loc[temp != 0]\n",
    "    temp = t.loc[temp.index, :]\n",
    "    x = t.loc[temp.index, 'CLIENT_ID'].unique()\n",
    "    xx = np.arange(x.shape[0])\n",
    "    plt.xticks(xx, labels = x, rotation = 70, ha = 'right')\n",
    "    muscle_id = [i in temp.loc[temp['tag'] == 'muscle', \"CLIENT_ID\"].to_list() for i in x]\n",
    "    finclip_id = [i in temp.loc[temp['tag'] == 'finclip', \"CLIENT_ID\"].to_list() for i in x]\n",
    "    plt.bar(xx[muscle_id] + width/2, temp.loc[temp.tag == 'muscle', c].to_numpy('float'), width = width, color = 'blue', label = 'muscle')\n",
    "    plt.bar(xx[finclip_id] - width/2, temp.loc[temp.tag == 'finclip', c].to_numpy('float'), width = width, color = 'orange', label = 'finclip')\n",
    "    plt.title(f'fish #{c}')\n",
    "    plt.legend();"
   ]
  },
  {
   "cell_type": "markdown",
   "metadata": {},
   "source": [
    "# PCBs in fin clips vs muscle"
   ]
  },
  {
   "cell_type": "markdown",
   "metadata": {},
   "source": [
    "### Blank Corrected"
   ]
  },
  {
   "cell_type": "code",
   "execution_count": null,
   "metadata": {},
   "outputs": [],
   "source": [
    "muscle = pd.read_excel('MusclePCB.xlsx', sheet_name= 'DATA')\n",
    "\n",
    "rlnd = muscle.loc[muscle.iloc[:,-6] == \"ND\", muscle.columns[-4]].dropna() #reporting limits who are NDs\n",
    "muscle.loc[rlnd.index, muscle.columns[-5]] = rlnd.to_numpy('float32')/np.sqrt(2) #reporting limts /sqrt(2) instead of ND in Blank column\n",
    "\n",
    "c = muscle.columns[~muscle.columns.str.contains(\"unnamed\", case = False)]\n",
    "\n",
    "muscle = muscle.iloc[:, [0] + list(range(2,len(muscle.columns), 3))] #all needed columns, removing extras\n",
    "muscle.columns = c.str.removeprefix(\"Nechako mort #\")\n",
    "muscle.drop(index = [0,1,2,3,4], inplace = True) #deleting first 4 rows\n",
    "muscle.drop(columns = 'Spiked Matrix (102)', inplace = True) #deleting Spiked Matrix (102)\n",
    "\n",
    "muscle.set_index('CLIENT_ID', inplace = True) #change client_id column to index, it is not column anymore, cuase we want to change it to float\n",
    "muscle = muscle.astype(\"float\") #all table is now float\n",
    "muscle.reset_index(inplace = True)\n",
    "muscle.insert(1,\"tag\", \"muscle\") \n",
    "\n",
    "\n",
    "#blank correction: \n",
    "\n",
    "muscle.loc[~muscle[\"Lab Blank (101)\"].isna(), muscle.columns[2:-1]] -= muscle.loc[~muscle[\"Lab Blank (101)\"].isna(), muscle.columns[-1]].to_numpy('float')[:,np.newaxis] #columnwise\n",
    "muscle.iloc[:, 2::] = muscle.iloc[:,2::].where((muscle.iloc[:,2::]>0) | (muscle.iloc[:, 2::].isna()), 0) #change - to 0\n",
    "muscle.drop(index = muscle.index[muscle.CLIENT_ID.str.contains('recovery', case = False)], inplace=True)\n",
    "muscle.drop(index = muscle.index[muscle.CLIENT_ID.str.contains('WHO')], inplace=True)\n",
    "muscle.drop(columns='Lab Blank (101)', inplace = True)\n",
    "\n",
    "#lipid normalization:\n",
    "muscle_l = muscle.copy()\n",
    "lipid= muscle_l.loc[muscle_l.CLIENT_ID.str.contains(\"lipid\", case = False), :]\n",
    "id = muscle_l.index.to_numpy() != lipid.index.to_numpy() \n",
    "muscle_l.loc[id,muscle_l.columns[2::]]/= muscle_l.loc[~id, muscle_l.columns[2::]].to_numpy('float')\n",
    "muscle_l.drop(index = muscle_l.index[muscle_l.CLIENT_ID.str.contains('lipid', case = False)], inplace=True)\n",
    "#muscle_l.where((muscle_l.iloc[:, 2:]>0) | (muscle_l.iloc[:, 2:].isna()), 0, inplace = True) #change - to 0\n",
    "\n",
    "muscle_l\n"
   ]
  },
  {
   "cell_type": "code",
   "execution_count": null,
   "metadata": {},
   "outputs": [],
   "source": [
    "finclip = pd.read_excel(\"./generated excels/pcb.xlsx\", sheet_name=\"blank_corrected\")\n",
    "finclip.rename(columns={finclip.columns[0]: 'CLIENT_ID'}, inplace=True)\n",
    "finclip.columns = finclip.columns.str.removesuffix(\"-Trembleur\")\n",
    "finclip.insert(1, 'tag', 'finclip')\n",
    "finclip.head()"
   ]
  },
  {
   "cell_type": "code",
   "execution_count": null,
   "metadata": {},
   "outputs": [],
   "source": [
    "pcb_blankcorrected = pd.concat([finclip, muscle], axis = 0)\n",
    "pcb_blankcorrected.reset_index(drop=True, inplace=True)\n",
    "pcb_blankcorrected.drop(index = pcb_blankcorrected.index[pcb_blankcorrected.CLIENT_ID.str.contains('Total', case = False)], inplace=True)\n",
    "pcb_blankcorrected.drop(index = pcb_blankcorrected.index[pcb_blankcorrected.CLIENT_ID.str.contains('Decachloro Biphenyl', case = False)], inplace=True)\n",
    "pcb_blankcorrected.drop(index = pcb_blankcorrected.index[pcb_blankcorrected.CLIENT_ID.str.contains('Lipid', case = False)], inplace = True)\n",
    "pcb_blankcorrected.head()"
   ]
  },
  {
   "cell_type": "code",
   "execution_count": null,
   "metadata": {},
   "outputs": [],
   "source": [
    "t = pcb_blankcorrected.copy()\n",
    "\n",
    "t = t.loc[:, t.loc[t.tag == 'muscle', :].sum(axis=0) != 0] # for removing the rest (without muscle)\n",
    "x = np.arange(len(t.columns[2:]))*2\n",
    "width = 0.8\n",
    "bottom1 = 0\n",
    "bottom2 = 0\n",
    "plt.figure(facecolor='white', figsize=(15, 10))\n",
    "plt.xticks(np.r_[x+(width/2), x-(width/2)], np.r_[t.columns[2:]+\"-finclip\", t.columns[2:]+\"-muscle\"], rotation = 60, ha = 'right', fontsize = 12)\n",
    "cmap = plt.get_cmap('Spectral')\n",
    "z_c = len(t['CLIENT_ID'].unique())\n",
    "for i, r in enumerate(t[\"CLIENT_ID\"].unique()):\n",
    "    color = cmap(i/z_c)\n",
    "    temp = t.loc[(t.CLIENT_ID == r) & (t.tag == \"muscle\"), t.columns[2:]]\n",
    "    y = temp.to_numpy(\"float\")[0]/1000000\n",
    "    plt.bar(x - (width/2),y, width=width, color = color, bottom = bottom1)\n",
    "    y[np.isnan(y)] = 0\n",
    "    bottom1 = bottom1 + y\n",
    "    \n",
    "    temp = t.loc[(t.CLIENT_ID == r) & (t.tag == \"finclip\"), temp.columns]\n",
    "    y = temp.to_numpy(\"float\")[0]/1000000\n",
    "    plt.bar(x + width/2, y, width=width, label = f\"{r}\", color = color, bottom = bottom2)\n",
    "    y[np.isnan(y)] = 0\n",
    "    bottom2 = bottom2 + y\n",
    "    \n",
    "    plt.title('polychlorinated Biphenyl (PCBs)', fontsize = 20)\n",
    "    #plt.legend(bbox_to_anchor = (1, 1), ncol = 4)\n",
    "\n",
    "\n",
    "sm = plt.cm.ScalarMappable(cmap=cmap, norm=plt.Normalize(vmin=0, vmax=209))\n",
    "sm.set_array([])  # Setting an empty array to the color bar\n",
    "cbar = plt.colorbar(sm, ticks=np.arange(1, 210, 16))\n",
    "cbar.set_label('#polychlorinated Biphenyl (PCBs) congeners')\n",
    "\n",
    "plt.ylabel(\"mg/kg [ww]\", fontsize = 12)\n",
    "plt.yticks(fontsize = 12);"
   ]
  },
  {
   "cell_type": "markdown",
   "metadata": {},
   "source": [
    "### Lipid normalized"
   ]
  },
  {
   "cell_type": "code",
   "execution_count": null,
   "metadata": {},
   "outputs": [],
   "source": [
    "finclip_l = pd.read_excel(\"./generated excels/pcb.xlsx\", sheet_name=\"lipid_normalized\")\n",
    "finclip_l.rename(columns={finclip_l.columns[0]: 'CLIENT_ID'}, inplace=True)\n",
    "finclip_l.columns = finclip_l.columns.str.removesuffix(\"-Trembleur\")\n",
    "finclip_l.insert(1, 'tag', 'finclip')\n",
    "finclip_l.head()"
   ]
  },
  {
   "cell_type": "code",
   "execution_count": null,
   "metadata": {},
   "outputs": [],
   "source": [
    "pcb_lipidnomalized = pd.concat([finclip_l, muscle_l], axis = 0)\n",
    "pcb_lipidnomalized.reset_index(drop=True, inplace=True)\n",
    "pcb_lipidnomalized.drop(index = pcb_lipidnomalized.index[pcb_lipidnomalized.CLIENT_ID.str.contains('Total', case = False)], inplace=True)\n",
    "pcb_lipidnomalized.drop(index = pcb_lipidnomalized.index[pcb_lipidnomalized.CLIENT_ID.str.contains('Decachloro Biphenyl', case = False)], inplace=True)\n",
    "pcb_lipidnomalized.drop(index = pcb_lipidnomalized.index[pcb_lipidnomalized.CLIENT_ID.str.contains('Lipid', case = False)], inplace = True)\n",
    "pcb_lipidnomalized.head()"
   ]
  },
  {
   "cell_type": "code",
   "execution_count": null,
   "metadata": {},
   "outputs": [],
   "source": [
    "a = pcb_lipidnomalized.loc[pcb_lipidnomalized.tag == 'finclip', :]\n",
    "a.iloc[113, 2:]"
   ]
  },
  {
   "cell_type": "code",
   "execution_count": null,
   "metadata": {},
   "outputs": [],
   "source": [
    "t = pcb_lipidnomalized.copy()\n",
    "\n",
    "t = t.loc[:, t.loc[t.tag == 'muscle', :].sum(axis=0) != 0] # for removing the rest (without muscle)\n",
    "x = np.arange(len(t.columns[2:]))*2\n",
    "width = 0.8\n",
    "bottom1 = 0\n",
    "bottom2 = 0\n",
    "plt.figure(facecolor='white', figsize=(15, 10))\n",
    "plt.xticks(np.r_[x+(width/2), x-(width/2)], np.r_[t.columns[2:]+\"-finclip\", t.columns[2:]+\"-muscle\"], rotation = 60, ha = 'right', fontsize = 12)\n",
    "cmap = plt.get_cmap('Spectral')\n",
    "z_c = len(t['CLIENT_ID'].unique())\n",
    "for i, r in enumerate(t[\"CLIENT_ID\"].unique()):\n",
    "    color = cmap(i/z_c)\n",
    "    temp = t.loc[(t.CLIENT_ID == r) & (t.tag == \"muscle\"), t.columns[2:]]\n",
    "    y = temp.to_numpy(\"float\")[0]/1000000\n",
    "    plt.bar(x - (width/2),y, width=width, color = color, bottom = bottom1)\n",
    "    y[np.isnan(y)] = 0\n",
    "    bottom1 = bottom1 + y\n",
    "    \n",
    "    temp = t.loc[(t.CLIENT_ID == r) & (t.tag == \"finclip\"), temp.columns]\n",
    "    y = temp.to_numpy(\"float\")[0]/1000000\n",
    "    plt.bar(x + width/2, y, width=width, label = f\"{r}\", color = color, bottom = bottom2)\n",
    "    y[np.isnan(y)] = 0\n",
    "    bottom2 = bottom2 + y\n",
    "    \n",
    "    plt.title('polychlorinated Biphenyl (PCBs)', fontsize = 20)\n",
    "    # plt.legend(bbox_to_anchor = (1, 1), ncol = 4)\n",
    "\n",
    "\n",
    "sm = plt.cm.ScalarMappable(cmap=cmap, norm=plt.Normalize(vmin=0, vmax=209))\n",
    "sm.set_array([])  # Setting an empty array to the color bar\n",
    "cbar = plt.colorbar(sm, ticks=np.linspace(1, 209, 5).round(0))\n",
    "cbar.set_label('#polychlorinated Biphenyl (PCBs) congeners')\n",
    "\n",
    "plt.ylabel(\"mg/kg [lw]\", fontsize = 12)\n",
    "plt.yticks(fontsize = 12);"
   ]
  },
  {
   "cell_type": "code",
   "execution_count": 47,
   "metadata": {},
   "outputs": [],
   "source": [
    "from sklearn.feature_selection import mutual_info_regression\n",
    "t = pcb_blankcorrected\n",
    "mutual = np.zeros(t['CLIENT_ID'].unique().shape, dtype='float32')\n",
    "for i, anal in enumerate(t['CLIENT_ID'].unique()):\n",
    "    x = t.loc[t['CLIENT_ID'] == anal, t.columns[1:]].dropna(axis=1)\n",
    "    y = x.loc[x.tag == 'muscle', x.columns[2:]].to_numpy('float32').ravel()\n",
    "    x = x.loc[x.tag == 'finclip', x.columns[2:]].to_numpy('float32')\n",
    "    x = x.reshape(-1, 1)\n",
    "    try:\n",
    "        mutual[i] = mutual_info_regression(x, y, n_neighbors=2)\n",
    "    except ValueError:\n",
    "        mutual[i] = np.nan\n",
    "\n",
    "df = pd.DataFrame({'analyte': t['CLIENT_ID'].unique(), 'mutual_info': mutual})\n",
    "df.to_excel('mutual_info.xlsx', sheet_name='pcb_blankcorrected')"
   ]
  },
  {
   "cell_type": "code",
   "execution_count": null,
   "metadata": {},
   "outputs": [],
   "source": [
    "df"
   ]
  },
  {
   "cell_type": "markdown",
   "metadata": {},
   "source": [
    "## pearsonr"
   ]
  },
  {
   "cell_type": "code",
   "execution_count": 49,
   "metadata": {},
   "outputs": [],
   "source": [
    "from scipy.stats import pearsonr\n",
    "t = pcb_lipidnomalized\n",
    "pearson = np.zeros((t['CLIENT_ID'].unique().shape[0], 2), dtype='float32')\n",
    "for i, anal in enumerate(t['CLIENT_ID'].unique()):\n",
    "    x = t.loc[t['CLIENT_ID'] == anal, t.columns[1:]].dropna(axis=1)\n",
    "    y = x.loc[x.tag == 'muscle', x.columns[2:]].to_numpy('float32').ravel()\n",
    "    x = x.loc[x.tag == 'finclip', x.columns[2:]].to_numpy('float32').ravel()\n",
    "    try:\n",
    "        temp = pearsonr(x, y)\n",
    "        pearson[i][0] = temp.statistic\n",
    "        pearson[i][1] = temp.pvalue\n",
    "    except ValueError:\n",
    "        pearson[i] = np.nan\n",
    "\n",
    "pearson_lipidnormalized = pd.DataFrame({'analyte': t['CLIENT_ID'].unique(), 'statistic': pearson[:, 0], 'pvalue': pearson[:, 1]})\n"
   ]
  },
  {
   "cell_type": "code",
   "execution_count": 50,
   "metadata": {},
   "outputs": [],
   "source": [
    "from scipy.stats import pearsonr\n",
    "t = pcb_blankcorrected\n",
    "pearson = np.zeros((t['CLIENT_ID'].unique().shape[0], 2), dtype='float32')\n",
    "for i, anal in enumerate(t['CLIENT_ID'].unique()):\n",
    "    x = t.loc[t['CLIENT_ID'] == anal, t.columns[1:]].dropna(axis=1)\n",
    "    y = x.loc[x.tag == 'muscle', x.columns[2:]].to_numpy('float32').ravel()\n",
    "    x = x.loc[x.tag == 'finclip', x.columns[2:]].to_numpy('float32').ravel()\n",
    "    try:\n",
    "        temp = pearsonr(x, y)\n",
    "        pearson[i][0] = temp.statistic\n",
    "        pearson[i][1] = temp.pvalue\n",
    "    except ValueError:\n",
    "        pearson[i] = np.nan\n",
    "\n",
    "pearson_blankcorrected = pd.DataFrame({'analyte': t['CLIENT_ID'].unique(), 'statistic': pearson[:, 0], 'pvalue': pearson[:, 1]})\n"
   ]
  },
  {
   "cell_type": "code",
   "execution_count": 51,
   "metadata": {},
   "outputs": [],
   "source": [
    "with pd.ExcelWriter('PcbPunchVsMuscle_pearson.xlsx') as writer:\n",
    "    pearson_lipidnormalized.to_excel(writer, sheet_name='pcb_lipidnormalized')\n",
    "    pearson_blankcorrected.to_excel(writer, sheet_name='pcb_blankcorrected')"
   ]
  }
 ],
 "metadata": {
  "kernelspec": {
   "display_name": "Python 3",
   "language": "python",
   "name": "python3"
  },
  "language_info": {
   "codemirror_mode": {
    "name": "ipython",
    "version": 3
   },
   "file_extension": ".py",
   "mimetype": "text/x-python",
   "name": "python",
   "nbconvert_exporter": "python",
   "pygments_lexer": "ipython3",
   "version": "3.9.12"
  }
 },
 "nbformat": 4,
 "nbformat_minor": 2
}
