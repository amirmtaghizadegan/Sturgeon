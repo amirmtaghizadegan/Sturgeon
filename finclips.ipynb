{
 "cells": [
  {
   "cell_type": "code",
   "execution_count": null,
   "metadata": {},
   "outputs": [],
   "source": [
    "import numpy as np\n",
    "import pandas as pd\n",
    "import matplotlib.pyplot as plt"
   ]
  },
  {
   "cell_type": "markdown",
   "metadata": {},
   "source": [
    "# DX vs Finclips"
   ]
  },
  {
   "cell_type": "markdown",
   "metadata": {},
   "source": [
    "## Blank Correction & Lipid Nomalization"
   ]
  },
  {
   "cell_type": "code",
   "execution_count": null,
   "metadata": {},
   "outputs": [],
   "source": [
    "tagToId = pd.read_excel('muslce,fin clips dioxcin,furans.xlsx')\n",
    "finclip = pd.read_excel('muslce,fin clips dioxcin,furans.xlsx', sheet_name= 'Fin clips')\n",
    "rl_nd = finclip.loc[finclip.iloc[:, -6] == \"ND\", finclip.columns[-4]].dropna()\n",
    "\n",
    "finclip.loc[rl_nd.index, finclip.columns[-5]] = rl_nd.to_numpy('float32')/np.sqrt(2)\n",
    "\n",
    "c = finclip.columns\n",
    "c = c[~c.str.contains('Unnamed')]\n",
    "finclip = finclip.iloc[5:, [0]].join(finclip.iloc[5:, 2::3])\n",
    "finclip.columns = c.astype('str')\n",
    "id_to_name_dict = dict(zip(tagToId['Tag name'], tagToId['Fish ID']))\n",
    "id_to_name_dict.update({\"13-Trembleur\":\"13\"})\n",
    "finclip.rename(columns=id_to_name_dict, inplace=True)\n",
    "finclip.insert(1, 'tag', 'finclip')\n",
    "finclip.columns = finclip.columns.map(lambda x: str(x))\n",
    "lipid_id = finclip.iloc[:, 0].str.contains('lipid', case=False)\n",
    "id = finclip.loc[~lipid_id, finclip.columns[-2]].dropna().index\n",
    "finclip.loc[id, finclip.columns[2:-2]] -= finclip.loc[id, finclip.columns[-2]].to_numpy('float')[:, np.newaxis]\n",
    "finclip = finclip.iloc[:, :-2]\n",
    "print(f'count of samples corrected to negative: {np.sum((~(finclip.iloc[:, 2:].isna() | (finclip.iloc[:, 2:] > 0)).to_numpy()))}')\n",
    "print(f'position of corrected samples: {np.where((~(finclip.iloc[:, 2:].isna() | (finclip.iloc[:, 2:] > 0))).to_numpy())}')\n",
    "finclip.where((finclip.iloc[:, 2:]>0) | (finclip.iloc[:, 2:].isna()), 0, inplace = True)\n",
    "finclip\n",
    "\n",
    "finclip_l = finclip.copy()\n",
    "\n",
    "lipid_id = np.arange(len(finclip_l.CLIENT_ID))[finclip_l.CLIENT_ID.str.contains('Lipid', case = False)][0]\n",
    "finclip_l.iloc[lipid_id, 2:] /= 100\n",
    "id = list(range(finclip_l.shape[0]))\n",
    "id.pop(lipid_id)\n",
    "finclip_l.iloc[id, 2:] /= finclip_l.iloc[lipid_id, 2:]\n",
    "finclip_l"
   ]
  },
  {
   "cell_type": "code",
   "execution_count": null,
   "metadata": {},
   "outputs": [],
   "source": [
    "muscle = pd.read_excel('muslce,fin clips dioxcin,furans.xlsx', sheet_name= 'Muslce')\n",
    "rl_nd = muscle.loc[muscle.iloc[:, -6] == \"ND\", muscle.columns[-4]].dropna()\n",
    "muscle.loc[rl_nd.index, muscle.columns[-5]] = rl_nd.to_numpy('float32')/np.sqrt(2)\n",
    "\n",
    "c = muscle.columns\n",
    "c = c[~c.str.contains('Unnamed')]\n",
    "muscle = muscle.iloc[5:, [0]].join(muscle.iloc[5:, 2::3])\n",
    "c = list(c.str.removeprefix(\"Nechako mort #\"))\n",
    "muscle.columns = c\n",
    "muscle.insert(1, 'tag', 'muscle')\n",
    "\n",
    "lipid_id = muscle.iloc[:, 0].str.contains('lipid', case=False)\n",
    "id = muscle.loc[~lipid_id, muscle.columns[-2]].dropna().index\n",
    "muscle.loc[id, muscle.columns[2:-2]] -= muscle.loc[id, muscle.columns[-2]].to_numpy('float')[:, np.newaxis]\n",
    "muscle = muscle.iloc[:, :-2]\n",
    "print(f'count of samples corrected to negative: {np.sum((~(muscle.iloc[:, 2:].isna() | (muscle.iloc[:, 2:] > 0)).to_numpy()))}')\n",
    "print(f'position of corrected samples: {np.where((~(muscle.iloc[:, 2:].isna() | (muscle.iloc[:, 2:] > 0))).to_numpy())}')\n",
    "muscle.where((muscle.iloc[:, 2:]>0) | (muscle.iloc[:, 2:].isna()), 0, inplace = True)\n",
    "\n",
    "\n",
    "muscle_l = muscle.copy()\n",
    "\n",
    "lipid_id = np.arange(len(muscle_l.CLIENT_ID))[muscle_l.CLIENT_ID.str.contains('Lipid', case = False)][0]\n",
    "muscle_l.iloc[lipid_id, 2:] /= 100\n",
    "id = list(range(muscle_l.shape[0]))\n",
    "id.pop(lipid_id)\n",
    "muscle_l.iloc[id, 2:] /= muscle_l.iloc[lipid_id, 2:]\n",
    "muscle_l\n",
    "\n",
    "blankcorrect_table = pd.concat([finclip, muscle], axis = 0)\n",
    "\n",
    "blankcorrect_table['CLIENT_ID'] = blankcorrect_table[\"CLIENT_ID\"].astype(\"category\")\n",
    "blankcorrect_table['CLIENT_ID'] = blankcorrect_table['CLIENT_ID'].cat.set_categories(finclip['CLIENT_ID'])\n",
    "blankcorrect_table.sort_values(['CLIENT_ID'], inplace = True)\n",
    "blankcorrect_table.reset_index(drop=True, inplace=True)\n",
    "blankcorrect_table"
   ]
  },
  {
   "cell_type": "markdown",
   "metadata": {},
   "source": [
    "### lipid nomalized"
   ]
  },
  {
   "cell_type": "code",
   "execution_count": null,
   "metadata": {},
   "outputs": [],
   "source": [
    "lipid_table = pd.concat([finclip_l, muscle_l], axis = 0)\n",
    "lipid_table.sort_values(['CLIENT_ID'], inplace = True)\n",
    "lipid_table.reset_index(drop=True, inplace=True)\n",
    "lipid_table.drop(index=[0, 1], inplace=True)\n",
    "lipid_table.drop(index = lipid_table.index[lipid_table.CLIENT_ID.str.contains('WHO', case = False)], inplace=True)\n",
    "lipid_table.drop(index = lipid_table.index[lipid_table.CLIENT_ID.str.contains('Total', case = False)], inplace=True)\n",
    "lipid_table.drop(index = lipid_table.index[lipid_table.CLIENT_ID.str.contains('recovery', case = False)], inplace=True)\n",
    "lipid_table.head()"
   ]
  },
  {
   "cell_type": "code",
   "execution_count": null,
   "metadata": {},
   "outputs": [],
   "source": [
    "t= lipid_table\n",
    "width = 0.2\n",
    "for r in t[\"CLIENT_ID\"].unique():\n",
    "    plt.figure(facecolor='white')\n",
    "    temp = t.loc[(t.CLIENT_ID == r) & (t.tag == \"muscle\"), t.columns[2:]].dropna(axis=1)\n",
    "    x = np.arange(len(temp.columns)) - (width/2)\n",
    "    plt.xticks(np.arange(len(temp.columns)), temp.columns)\n",
    "    y = temp.to_numpy(\"float\")[0]\n",
    "\n",
    "    plt.bar(x,y, width=width, label = \"muscle\")\n",
    "\n",
    "\n",
    "    temp = t.loc[(t.CLIENT_ID == r) & (t.tag == \"finclip\"), temp.columns]\n",
    "    \n",
    "    y = temp.to_numpy(\"float\")[0]\n",
    "    \n",
    "    plt.bar(x + width,y, width=width, label = \"finclip\")\n",
    "    plt.title(f'{r}')\n",
    "    plt.legend()\n",
    "    \n"
   ]
  },
  {
   "cell_type": "code",
   "execution_count": null,
   "metadata": {},
   "outputs": [],
   "source": [
    "t= lipid_table\n",
    "\n",
    "for r in t[\"CLIENT_ID\"].unique():\n",
    "    plt.figure(facecolor='white')\n",
    "    temp = t.loc[(t.CLIENT_ID == r) & (t.tag == \"muscle\"), t.columns[2:]].dropna(axis=1)\n",
    "    x = np.arange(len(temp.columns)) \n",
    "    plt.xticks(np.arange(len(temp.columns)), temp.columns)\n",
    "    y = temp.to_numpy(\"float\")[0]\n",
    "    plt.xlabel(\"fish ID\")\n",
    "    plt.ylabel(\"pg/g lw\")\n",
    "    plt.scatter(x,y, label = \"muscle\")\n",
    "    \n",
    "\n",
    "    temp = t.loc[(t.CLIENT_ID == r) & (t.tag == \"finclip\"), temp.columns]\n",
    "    \n",
    "    y = temp.to_numpy(\"float\")[0]\n",
    "    \n",
    "    plt.scatter(x,y, label = \"finclip\")\n",
    "    plt.title(f'{r}')\n",
    "    plt.legend()"
   ]
  },
  {
   "cell_type": "code",
   "execution_count": null,
   "metadata": {},
   "outputs": [],
   "source": [
    "t= lipid_table\n",
    "x = np.arange(len(t.columns[2:]))*2\n",
    "width = 0.8\n",
    "plt.figure(facecolor='white', figsize=(10, 10))\n",
    "plt.xticks(np.r_[x+(width/2), x-(width/2)], np.r_[t.columns[2:]+\"-finclip\", t.columns[2:]+\"-muscle\"], rotation = 60, ha = 'right')\n",
    "cmap = plt.get_cmap('Spectral')\n",
    "z_c = len(t['CLIENT_ID'].unique())\n",
    "for i, r in enumerate(t[\"CLIENT_ID\"].unique()):\n",
    "    color = cmap(i/z_c)\n",
    "    temp = t.loc[(t.CLIENT_ID == r) & (t.tag == \"muscle\"), t.columns[2:]]\n",
    "    y = temp.to_numpy(\"float\")[0]\n",
    "    plt.bar(x - (width/2),y, width=width, color = color)\n",
    "\n",
    "    temp = t.loc[(t.CLIENT_ID == r) & (t.tag == \"finclip\"), temp.columns]\n",
    "    y = temp.to_numpy(\"float\")[0]\n",
    "    plt.bar(x + width/2, y, width=width, label = f\"{r}\", color = color)\n",
    "    \n",
    "    plt.title('overall')\n",
    "    plt.legend(bbox_to_anchor = (1, 1))\n",
    "    \n"
   ]
  },
  {
   "cell_type": "markdown",
   "metadata": {},
   "source": [
    "### each individual fish"
   ]
  },
  {
   "cell_type": "code",
   "execution_count": null,
   "metadata": {},
   "outputs": [],
   "source": [
    "t = lipid_table\n",
    "width = 0.3\n",
    "for c in t.columns[2:]:\n",
    "    plt.figure(facecolor='white', figsize = (8, 6))\n",
    "    temp = t[c].dropna()\n",
    "    # temp = temp.loc[temp != 0]\n",
    "    temp = t.loc[temp.index, :]\n",
    "    x = t.loc[temp.index, 'CLIENT_ID'].unique()\n",
    "    xx = np.arange(x.shape[0])\n",
    "    plt.xticks(xx, labels = x, rotation = 70, ha = 'right')\n",
    "    muscle_id = [i in temp.loc[temp['tag'] == 'muscle', \"CLIENT_ID\"].to_list() for i in x]\n",
    "    finclip_id = [i in temp.loc[temp['tag'] == 'finclip', \"CLIENT_ID\"].to_list() for i in x]\n",
    "    plt.bar(xx[muscle_id] + width/2, temp.loc[temp.tag == 'muscle', c].to_numpy('float'), width = width, color = 'blue', label = 'muscle')\n",
    "    plt.bar(xx[finclip_id] - width/2, temp.loc[temp.tag == 'finclip', c].to_numpy('float'), width = width, color = 'orange', label = 'finclip')\n",
    "    plt.title(f'fish #{c}')\n",
    "    plt.legend();"
   ]
  },
  {
   "cell_type": "markdown",
   "metadata": {},
   "source": [
    "# PCBs vs Finclips"
   ]
  },
  {
   "cell_type": "code",
   "execution_count": null,
   "metadata": {},
   "outputs": [],
   "source": [
    "muscle = pd.read_excel('MusclePCB.xlsx', sheet_name= 'DATA')\n",
    "\n",
    "rlnd = muscle.loc[muscle.iloc[:,-6] == \"ND\", muscle.columns[-4]].dropna() #reporting limits who are NDs\n",
    "muscle.loc[rlnd.index, muscle.columns[-5]] = rlnd.to_numpy('float32')/np.sqrt(2) #reporting limts /sqrt(2) instead of ND in Blank column\n",
    "\n",
    "c = muscle.columns[~muscle.columns.str.contains(\"unnamed\", case = False)]\n",
    "\n",
    "muscle = muscle.iloc[:, [0] + list(range(2,len(muscle.columns), 3))] #all needed columns, removing extras\n",
    "muscle.columns = c.str.removeprefix(\"Nechako mort #\")\n",
    "muscle.drop(index = [0,1,2,3,4], inplace = True) #deleting first 4 rows\n",
    "muscle.drop(columns = 'Spiked Matrix (102)', inplace = True) #deleting Spiked Matrix (102)\n",
    "\n",
    "muscle.set_index('CLIENT_ID', inplace = True) #change client_id column to index, it is not column anymore, cuase we want to change it to float\n",
    "muscle = muscle.astype(\"float\") #all table is now float\n",
    "muscle.reset_index(inplace = True)\n",
    "muscle.insert(1,\"tag\", \"muscle\") \n",
    "\n",
    "\n",
    "#blank correction: \n",
    "\n",
    "muscle.loc[~muscle[\"Lab Blank (101)\"].isna(), muscle.columns[2:-1]] -= muscle.loc[~muscle[\"Lab Blank (101)\"].isna(), muscle.columns[-1]].to_numpy('float')[:,np.newaxis] #columnwise\n",
    "\n",
    "#lipid normalization:\n",
    "\n",
    "lipid= muscle.loc[muscle.CLIENT_ID.str.contains(\"lipid\", case = False), :]\n",
    "id = muscle.index.to_numpy() != lipid.index.to_numpy() \n",
    "muscle.loc[id,muscle.columns[2::]]/= muscle.loc[~id, muscle.columns[2::]].to_numpy('float')\n",
    "\n",
    "#muscle.where((muscle.iloc[:, 2:]>0) | (muscle.iloc[:, 2:].isna()), 0, inplace = True) #change - to 0\n",
    "muscle.iloc[:, 2::] = muscle.iloc[:,2::].where((muscle.iloc[:,2::]>0) | (muscle.iloc[:, 2::].isna()), 0) #change - to 0\n",
    "muscle.drop(index = muscle.index[muscle.CLIENT_ID.str.contains('recovery', case = False)], inplace=True)\n",
    "muscle.drop(index = muscle.index[muscle.CLIENT_ID.str.contains('WHO')], inplace=True)\n",
    "muscle.drop(columns='Lab Blank (101)', inplace = True)\n",
    "muscle\n"
   ]
  },
  {
   "cell_type": "code",
   "execution_count": null,
   "metadata": {},
   "outputs": [],
   "source": [
    "finclip = pd.read_excel(\"./generated excels/pcb.xlsx\", sheet_name=\"lipid_normalized\")\n",
    "finclip.rename(columns={finclip.columns[0]: 'CLIENT_ID'}, inplace=True)\n",
    "finclip.columns = finclip.columns.str.removesuffix(\"-Trembleur\")\n",
    "finclip.insert(1, 'tag', 'finclip')\n",
    "finclip.head()"
   ]
  },
  {
   "cell_type": "code",
   "execution_count": null,
   "metadata": {},
   "outputs": [],
   "source": [
    "pcb_table = pd.concat([finclip, muscle], axis = 0)\n",
    "pcb_table.reset_index(drop=True, inplace=True)\n",
    "pcb_table.head()"
   ]
  },
  {
   "cell_type": "code",
   "execution_count": null,
   "metadata": {},
   "outputs": [],
   "source": [
    "pcb_table.drop(index = pcb_table.index[pcb_table.CLIENT_ID.str.contains('Total', case = False)], inplace=True)\n",
    "pcb_table.drop(index = pcb_table.index[pcb_table.CLIENT_ID.str.contains('Lipid', case = False)], inplace = True)\n",
    "pcb_table.head()"
   ]
  },
  {
   "cell_type": "code",
   "execution_count": null,
   "metadata": {},
   "outputs": [],
   "source": [
    "t = pcb_table\n",
    "x = np.arange(len(t.columns[2:]))*2\n",
    "width = 0.8\n",
    "plt.figure(facecolor='white', figsize=(10, 10))\n",
    "plt.xticks(np.r_[x+(width/2), x-(width/2)], np.r_[t.columns[2:]+\"-finclip\", t.columns[2:]+\"-muscle\"], rotation = 60, ha = 'right')\n",
    "cmap = plt.get_cmap('Spectral')\n",
    "z_c = len(t['CLIENT_ID'].unique())\n",
    "for i, r in enumerate(t[\"CLIENT_ID\"].unique()):\n",
    "    color = cmap(i/z_c)\n",
    "    temp = t.loc[(t.CLIENT_ID == r) & (t.tag == \"muscle\"), t.columns[2:]]\n",
    "    y = temp.to_numpy(\"float\")[0]\n",
    "    plt.bar(x - (width/2),y, width=width, color = color)\n",
    "\n",
    "    temp = t.loc[(t.CLIENT_ID == r) & (t.tag == \"finclip\"), temp.columns]\n",
    "    y = temp.to_numpy(\"float\")[0]\n",
    "    plt.bar(x + width/2, y, width=width, label = f\"{r}\", color = color)\n",
    "    plt.title('overall')\n",
    "    plt.legend(bbox_to_anchor = (1, 1), ncol = 4)"
   ]
  }
 ],
 "metadata": {
  "kernelspec": {
   "display_name": "Python 3",
   "language": "python",
   "name": "python3"
  },
  "language_info": {
   "codemirror_mode": {
    "name": "ipython",
    "version": 3
   },
   "file_extension": ".py",
   "mimetype": "text/x-python",
   "name": "python",
   "nbconvert_exporter": "python",
   "pygments_lexer": "ipython3",
   "version": "3.9.12"
  }
 },
 "nbformat": 4,
 "nbformat_minor": 2
}
