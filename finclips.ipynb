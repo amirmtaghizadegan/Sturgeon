{
 "cells": [
  {
   "cell_type": "code",
   "execution_count": null,
   "metadata": {},
   "outputs": [],
   "source": [
    "import numpy as np\n",
    "import pandas as pd\n",
    "import matplotlib.pyplot as plt"
   ]
  },
  {
   "cell_type": "markdown",
   "metadata": {},
   "source": [
    "# Blank Correction & Lipid Nomalization"
   ]
  },
  {
   "cell_type": "code",
   "execution_count": null,
   "metadata": {},
   "outputs": [],
   "source": [
    "tagToId = pd.read_excel('muslce,fin clips dioxcin,furans.xlsx')\n",
    "finclip = pd.read_excel('muslce,fin clips dioxcin,furans.xlsx', sheet_name= 'Fin clips')\n",
    "rl_nd = finclip.loc[finclip.iloc[:, -6] == \"ND\", finclip.columns[-4]].dropna()\n",
    "finclip.loc[rl_nd.index, finclip.columns[-5]] = rl_nd.to_numpy('float32')/np.sqrt(2)\n",
    "\n",
    "c = finclip.columns\n",
    "c = c[~c.str.contains('Unnamed')]\n",
    "finclip = finclip.iloc[5:, [0]].join(finclip.iloc[5:, 2::3])\n",
    "finclip.columns = c.astype('str')\n",
    "id_to_name_dict = dict(zip(tagToId['Tag name'], tagToId['Fish ID']))\n",
    "id_to_name_dict.update({\"13-Trembleur\":\"13\"})\n",
    "finclip.rename(columns=id_to_name_dict, inplace=True)\n",
    "finclip.insert(1, 'tag', 'finclip')\n",
    "finclip.columns = finclip.columns.map(lambda x: str(x))\n",
    "lipid_id = finclip.iloc[:, 0].str.contains('lipid', case=False)\n",
    "id = finclip.loc[~lipid_id, finclip.columns[-2]].dropna().index\n",
    "finclip.loc[id, finclip.columns[2:-2]] -= finclip.loc[id, finclip.columns[-2]].to_numpy('float')[:, np.newaxis]\n",
    "finclip = finclip.iloc[:, :-2]\n",
    "print(f'count of samples corrected to negative: {np.sum((~(finclip.iloc[:, 2:].isna() | (finclip.iloc[:, 2:] > 0)).to_numpy()))}')\n",
    "print(f'position of corrected samples: {np.where((~(finclip.iloc[:, 2:].isna() | (finclip.iloc[:, 2:] > 0))).to_numpy())}')\n",
    "finclip.where((finclip.iloc[:, 2:]>0) | (finclip.iloc[:, 2:].isna()), 0, inplace = True)\n",
    "finclip\n",
    "\n",
    "finclip_l = finclip.copy()\n",
    "\n",
    "lipid_id = np.arange(len(finclip_l.CLIENT_ID))[finclip_l.CLIENT_ID.str.contains('Lipid', case = False)][0]\n",
    "finclip_l.iloc[lipid_id, 2:] /= 100\n",
    "id = list(range(finclip_l.shape[0]))\n",
    "id.pop(lipid_id)\n",
    "finclip_l.iloc[id, 2:] /= finclip_l.iloc[lipid_id, 2:]\n",
    "finclip_l"
   ]
  },
  {
   "cell_type": "code",
   "execution_count": null,
   "metadata": {},
   "outputs": [],
   "source": [
    "muscle = pd.read_excel('muslce,fin clips dioxcin,furans.xlsx', sheet_name= 'Muslce')\n",
    "rl_nd = muscle.loc[muscle.iloc[:, -6] == \"ND\", muscle.columns[-4]].dropna()\n",
    "muscle.loc[rl_nd.index, muscle.columns[-5]] = rl_nd.to_numpy('float32')/np.sqrt(2)\n",
    "\n",
    "c = muscle.columns\n",
    "c = c[~c.str.contains('Unnamed')]\n",
    "muscle = muscle.iloc[5:, [0]].join(muscle.iloc[5:, 2::3])\n",
    "c = list(c.str.removeprefix(\"Nechako mort #\"))\n",
    "muscle.columns = c\n",
    "muscle.insert(1, 'tag', 'muscle')\n",
    "\n",
    "lipid_id = muscle.iloc[:, 0].str.contains('lipid', case=False)\n",
    "id = muscle.loc[~lipid_id, muscle.columns[-2]].dropna().index\n",
    "muscle.loc[id, muscle.columns[2:-2]] -= muscle.loc[id, muscle.columns[-2]].to_numpy('float')[:, np.newaxis]\n",
    "muscle = muscle.iloc[:, :-2]\n",
    "print(f'count of samples corrected to negative: {np.sum((~(muscle.iloc[:, 2:].isna() | (muscle.iloc[:, 2:] > 0)).to_numpy()))}')\n",
    "print(f'position of corrected samples: {np.where((~(muscle.iloc[:, 2:].isna() | (muscle.iloc[:, 2:] > 0))).to_numpy())}')\n",
    "muscle.where((muscle.iloc[:, 2:]>0) | (muscle.iloc[:, 2:].isna()), 0, inplace = True)\n",
    "\n",
    "\n",
    "muscle_l = muscle.copy()\n",
    "\n",
    "lipid_id = np.arange(len(muscle_l.CLIENT_ID))[muscle_l.CLIENT_ID.str.contains('Lipid', case = False)][0]\n",
    "muscle_l.iloc[lipid_id, 2:] /= 100\n",
    "id = list(range(muscle_l.shape[0]))\n",
    "id.pop(lipid_id)\n",
    "muscle_l.iloc[id, 2:] /= muscle_l.iloc[lipid_id, 2:]\n",
    "muscle_l\n",
    "\n",
    "blankcorrect_table = pd.concat([finclip, muscle], axis = 0)\n",
    "\n",
    "blankcorrect_table['CLIENT_ID'] = blankcorrect_table[\"CLIENT_ID\"].astype(\"category\")\n",
    "blankcorrect_table['CLIENT_ID'] = blankcorrect_table['CLIENT_ID'].cat.set_categories(finclip['CLIENT_ID'])\n",
    "blankcorrect_table.sort_values(['CLIENT_ID'], inplace = True)\n",
    "blankcorrect_table.reset_index(drop=True, inplace=True)\n",
    "blankcorrect_table"
   ]
  },
  {
   "cell_type": "markdown",
   "metadata": {},
   "source": [
    "### lipid nomalized"
   ]
  },
  {
   "cell_type": "code",
   "execution_count": null,
   "metadata": {},
   "outputs": [],
   "source": [
    "lipid_table = pd.concat([finclip_l, muscle_l], axis = 0)\n",
    "lipid_table.sort_values(['CLIENT_ID'], inplace = True)\n",
    "lipid_table.reset_index(drop=True, inplace=True)\n",
    "lipid_table"
   ]
  },
  {
   "cell_type": "code",
   "execution_count": null,
   "metadata": {},
   "outputs": [],
   "source": [
    "t= lipid_table\n",
    "width = 0.2\n",
    "for r in t[\"CLIENT_ID\"].unique():\n",
    "    plt.figure()\n",
    "    temp = t.loc[(t.CLIENT_ID == r) & (t.tag == \"muscle\"), t.columns[2:]].dropna(axis=1)\n",
    "    x = np.arange(len(temp.columns)) - (width/2)\n",
    "    plt.xticks(np.arange(len(temp.columns)), temp.columns)\n",
    "    y = temp.to_numpy(\"float\")[0]\n",
    "\n",
    "    plt.bar(x,y, width=width, label = \"muscle\")\n",
    "\n",
    "\n",
    "    temp = t.loc[(t.CLIENT_ID == r) & (t.tag == \"finclip\"), temp.columns]\n",
    "    \n",
    "    y = temp.to_numpy(\"float\")[0]\n",
    "    \n",
    "    plt.bar(x + width,y, width=width, label = \"finclip\")\n",
    "    plt.title(f'{r}')\n",
    "    plt.legend()\n",
    "    \n"
   ]
  },
  {
   "cell_type": "code",
   "execution_count": null,
   "metadata": {},
   "outputs": [],
   "source": [
    "t= lipid_table\n",
    "\n",
    "for r in t[\"CLIENT_ID\"].unique():\n",
    "    plt.figure()\n",
    "    temp = t.loc[(t.CLIENT_ID == r) & (t.tag == \"muscle\"), t.columns[2:]].dropna(axis=1)\n",
    "    x = np.arange(len(temp.columns)) \n",
    "    plt.xticks(np.arange(len(temp.columns)), temp.columns)\n",
    "    y = temp.to_numpy(\"float\")[0]\n",
    "    plt.xlabel(\"fish ID\")\n",
    "    plt.ylabel(\"pg/g lw\")\n",
    "    plt.scatter(x,y, label = \"muscle\")\n",
    "    \n",
    "\n",
    "    temp = t.loc[(t.CLIENT_ID == r) & (t.tag == \"finclip\"), temp.columns]\n",
    "    \n",
    "    y = temp.to_numpy(\"float\")[0]\n",
    "    \n",
    "    plt.scatter(x,y, label = \"finclip\")\n",
    "    plt.title(f'{r}')\n",
    "    plt.legend()"
   ]
  },
  {
   "cell_type": "code",
   "execution_count": null,
   "metadata": {},
   "outputs": [],
   "source": [
    "y"
   ]
  }
 ],
 "metadata": {
  "kernelspec": {
   "display_name": "Python 3",
   "language": "python",
   "name": "python3"
  },
  "language_info": {
   "codemirror_mode": {
    "name": "ipython",
    "version": 3
   },
   "file_extension": ".py",
   "mimetype": "text/x-python",
   "name": "python",
   "nbconvert_exporter": "python",
   "pygments_lexer": "ipython3",
   "version": "3.9.13"
  }
 },
 "nbformat": 4,
 "nbformat_minor": 2
}
