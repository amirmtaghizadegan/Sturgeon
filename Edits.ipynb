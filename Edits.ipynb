{
 "cells": [
  {
   "cell_type": "code",
   "execution_count": 1,
   "metadata": {},
   "outputs": [],
   "source": [
    "import pandas as pd\n",
    "import numpy as mp\n",
    "import matplotlib.pyplot as plt"
   ]
  },
  {
   "cell_type": "code",
   "execution_count": 2,
   "metadata": {},
   "outputs": [
    {
     "data": {
      "text/html": [
       "<div>\n",
       "<style scoped>\n",
       "    .dataframe tbody tr th:only-of-type {\n",
       "        vertical-align: middle;\n",
       "    }\n",
       "\n",
       "    .dataframe tbody tr th {\n",
       "        vertical-align: top;\n",
       "    }\n",
       "\n",
       "    .dataframe thead th {\n",
       "        text-align: right;\n",
       "    }\n",
       "</style>\n",
       "<table border=\"1\" class=\"dataframe\">\n",
       "  <thead>\n",
       "    <tr style=\"text-align: right;\">\n",
       "      <th></th>\n",
       "      <th>tag</th>\n",
       "      <th>length</th>\n",
       "      <th>weight</th>\n",
       "      <th>fulton</th>\n",
       "    </tr>\n",
       "  </thead>\n",
       "  <tbody>\n",
       "    <tr>\n",
       "      <th>0</th>\n",
       "      <td>1</td>\n",
       "      <td>214.5</td>\n",
       "      <td>46.6</td>\n",
       "      <td>0.472176</td>\n",
       "    </tr>\n",
       "    <tr>\n",
       "      <th>1</th>\n",
       "      <td>2</td>\n",
       "      <td>189.0</td>\n",
       "      <td>43.2</td>\n",
       "      <td>0.639880</td>\n",
       "    </tr>\n",
       "    <tr>\n",
       "      <th>2</th>\n",
       "      <td>3</td>\n",
       "      <td>221.0</td>\n",
       "      <td>39.4</td>\n",
       "      <td>0.365022</td>\n",
       "    </tr>\n",
       "    <tr>\n",
       "      <th>3</th>\n",
       "      <td>4</td>\n",
       "      <td>189.0</td>\n",
       "      <td>34.8</td>\n",
       "      <td>0.515459</td>\n",
       "    </tr>\n",
       "    <tr>\n",
       "      <th>4</th>\n",
       "      <td>5</td>\n",
       "      <td>251.0</td>\n",
       "      <td>67.9</td>\n",
       "      <td>0.429387</td>\n",
       "    </tr>\n",
       "    <tr>\n",
       "      <th>5</th>\n",
       "      <td>10</td>\n",
       "      <td>247.5</td>\n",
       "      <td>74.9</td>\n",
       "      <td>0.494033</td>\n",
       "    </tr>\n",
       "    <tr>\n",
       "      <th>6</th>\n",
       "      <td>11</td>\n",
       "      <td>223.0</td>\n",
       "      <td>65.1</td>\n",
       "      <td>0.587038</td>\n",
       "    </tr>\n",
       "    <tr>\n",
       "      <th>7</th>\n",
       "      <td>13</td>\n",
       "      <td>114.0</td>\n",
       "      <td>6.6</td>\n",
       "      <td>0.445481</td>\n",
       "    </tr>\n",
       "  </tbody>\n",
       "</table>\n",
       "</div>"
      ],
      "text/plain": [
       "   tag  length  weight    fulton\n",
       "0    1   214.5    46.6  0.472176\n",
       "1    2   189.0    43.2  0.639880\n",
       "2    3   221.0    39.4  0.365022\n",
       "3    4   189.0    34.8  0.515459\n",
       "4    5   251.0    67.9  0.429387\n",
       "5   10   247.5    74.9  0.494033\n",
       "6   11   223.0    65.1  0.587038\n",
       "7   13   114.0     6.6  0.445481"
      ]
     },
     "execution_count": 2,
     "metadata": {},
     "output_type": "execute_result"
    }
   ],
   "source": [
    "fishes = pd.read_excel(\"Copy of 2022 Sturgeon mortalities Biodata - Nechako River tracking Sept 22 2022.xlsx\" , sheet_name='2022 mortality track')[[\"Tracking #\", \"TOTAL\", \"kg\"]].dropna().rename(columns={\"Tracking #\" : \"tag\", \"TOTAL\" : \"length\", \"kg\":\"weight\"})\n",
    "fishes.reset_index(inplace=True, drop=True)\n",
    "b = 3 ## fulton factor coefficient\n",
    "fulton = fishes[\"weight\"] * 100000 / (fishes[\"length\"] ** b)\n",
    "fishes.insert(3, \"fulton\", fulton)\n",
    "fishes"
   ]
  },
  {
   "cell_type": "code",
   "execution_count": 16,
   "metadata": {},
   "outputs": [
    {
     "data": {
      "text/plain": [
       "Text(0.5, 1.0, 'Fulton (K)')"
      ]
     },
     "execution_count": 16,
     "metadata": {},
     "output_type": "execute_result"
    },
    {
     "data": {
      "image/png": "[encoded data removed]",
      "text/plain": [
       "<Figure size 640x480 with 1 Axes>"
      ]
     },
     "metadata": {},
     "output_type": "display_data"
    }
   ],
   "source": [
    "plt.bar(fishes.loc[:,\"tag\"].to_numpy(\"str\"), fishes.loc[:,\"fulton\"].to_numpy(\"single\"), color = \"green\")\n",
    "plt.xlabel(\"fish ID\")\n",
    "plt.ylabel(\"Fulton (K)\")\n",
    "plt.title(\"Fulton (K)\")\n"
   ]
  },
  {
   "cell_type": "code",
   "execution_count": 8,
   "metadata": {},
   "outputs": [
    {
     "data": {
      "text/plain": [
       "array([[ 1,  2,  3,  4,  5, 10, 11, 13]])"
      ]
     },
     "execution_count": 8,
     "metadata": {},
     "output_type": "execute_result"
    }
   ],
   "source": [
    "fishes.loc[:,[\"tag\"]].to_numpy().T"
   ]
  }
 ],
 "metadata": {
  "kernelspec": {
   "display_name": "base",
   "language": "python",
   "name": "python3"
  },
  "language_info": {
   "codemirror_mode": {
    "name": "ipython",
    "version": 3
   },
   "file_extension": ".py",
   "mimetype": "text/x-python",
   "name": "python",
   "nbconvert_exporter": "python",
   "pygments_lexer": "ipython3",
   "version": "3.9.13"
  },
  "orig_nbformat": 4
 },
 "nbformat": 4,
 "nbformat_minor": 2
}
