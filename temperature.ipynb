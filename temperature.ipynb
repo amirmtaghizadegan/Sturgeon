{
 "cells": [
  {
   "cell_type": "code",
   "execution_count": 1,
   "metadata": {},
   "outputs": [],
   "source": [
    "import pandas as pd\n",
    "import numpy as np\n",
    "import matplotlib.pyplot as plt\n",
    "from glob import glob\n",
    "import csv\n",
    "import matplotlib.dates as mdates"
   ]
  },
  {
   "cell_type": "code",
   "execution_count": 2,
   "metadata": {},
   "outputs": [
    {
     "data": {
      "text/html": [
       "<div>\n",
       "<style scoped>\n",
       "    .dataframe tbody tr th:only-of-type {\n",
       "        vertical-align: middle;\n",
       "    }\n",
       "\n",
       "    .dataframe tbody tr th {\n",
       "        vertical-align: top;\n",
       "    }\n",
       "\n",
       "    .dataframe thead th {\n",
       "        text-align: right;\n",
       "    }\n",
       "</style>\n",
       "<table border=\"1\" class=\"dataframe\">\n",
       "  <thead>\n",
       "    <tr style=\"text-align: right;\">\n",
       "      <th></th>\n",
       "      <th>sites</th>\n",
       "      <th>fish ID</th>\n",
       "      <th>obs</th>\n",
       "    </tr>\n",
       "  </thead>\n",
       "  <tbody>\n",
       "    <tr>\n",
       "      <th>0</th>\n",
       "      <td>NECHAKO RIVER AT VANDERHOOF</td>\n",
       "      <td>4</td>\n",
       "      <td>2022-08-27</td>\n",
       "    </tr>\n",
       "    <tr>\n",
       "      <th>1</th>\n",
       "      <td>NECHAKO RIVER AT VANDERHOOF</td>\n",
       "      <td>5</td>\n",
       "      <td>2022-08-27</td>\n",
       "    </tr>\n",
       "    <tr>\n",
       "      <th>2</th>\n",
       "      <td>NECHAKO RIVER AT VANDERHOOF</td>\n",
       "      <td>10</td>\n",
       "      <td>2022-08-28</td>\n",
       "    </tr>\n",
       "  </tbody>\n",
       "</table>\n",
       "</div>"
      ],
      "text/plain": [
       "                        sites   fish ID        obs\n",
       "0  NECHAKO RIVER AT VANDERHOOF        4 2022-08-27\n",
       "1  NECHAKO RIVER AT VANDERHOOF        5 2022-08-27\n",
       "2  NECHAKO RIVER AT VANDERHOOF       10 2022-08-28"
      ]
     },
     "execution_count": 2,
     "metadata": {},
     "output_type": "execute_result"
    }
   ],
   "source": [
    "obs = pd.read_excel(\"observed.xlsx\")\n",
    "obs[\"obs\"] = pd.to_datetime(obs[\"obs\"], format=\"%Y-%m-%d\")\n",
    "obs"
   ]
  },
  {
   "cell_type": "code",
   "execution_count": null,
   "metadata": {},
   "outputs": [],
   "source": [
    "\n",
    "folders = glob(\"waters data/*\")\n",
    "for folder in folders:\n",
    "    csv_files = glob(f'{folder}/*.csv')\n",
    "    title = folder.split(\"-\")[1].strip()\n",
    "    plt.figure(figsize=(27, 9), facecolor=\"white\")\n",
    "    plt.suptitle(title)\n",
    "    j = 0\n",
    "    observed = obs.loc[obs[\"sites \"] == title, :]\n",
    "    for csv_file in csv_files:\n",
    "        j += 1\n",
    "        plt.subplot(1, len(csv_files), j)\n",
    "        csvfile = open(csv_file, 'r')\n",
    "        i = 0\n",
    "        for row in csv.reader(csvfile, delimiter = ','):\n",
    "            i += 1\n",
    "            if i == 8:\n",
    "                title, unit = row[1:]\n",
    "                break\n",
    "        plt.title(title)\n",
    "        plt.ylabel(unit)\n",
    "        plt.xlabel(\"day\")\n",
    "        csv_data = pd.read_csv(csv_file, delimiter=\",\", skiprows=8).iloc[:, [0, 2]]\n",
    "        cols = csv_data.columns\n",
    "        columns = csv_data.columns.difference([cols[0]])\n",
    "        csv_data[columns] = csv_data[columns].astype(float)\n",
    "        csv_data[cols[0]] = pd.to_datetime(csv_data[cols[0]], format=\"%Y-%m-%d %H:%M:%S\")\n",
    "        csv_data = csv_data.resample('d', on=cols[0])\n",
    "        mean_dict = {                                                                                                             \n",
    "            cols[0]: 'first',                                                                                                    \n",
    "            cols[1]: 'mean',\n",
    "        }\n",
    "        means = csv_data.apply(mean_dict)\n",
    "        mins = csv_data.min()\n",
    "        maxs = csv_data.max()\n",
    "        observed = observed.merge(means, \"inner\", right_index=True, left_on = \"obs\")\n",
    "        plt.plot(*means.to_numpy().T, color = \"green\", label = \"mean\")\n",
    "        plt.plot(*mins.to_numpy().T, color = \"blue\", label = \"min\")\n",
    "        plt.plot(*maxs.to_numpy().T, color = \"red\", label = \"max\")\n",
    "        plt.scatter(observed[\"obs\"], observed[cols[1]], color = \"k\", label = \"first day observed\")\n",
    "        ax = plt.gca()\n",
    "        locator = mdates.AutoDateLocator(minticks=6, maxticks=12)\n",
    "        formatter = mdates.ConciseDateFormatter(locator)\n",
    "        ax.xaxis.set_major_locator(locator)\n",
    "        ax.xaxis.set_major_formatter(formatter)\n",
    "        plt.legend()\n",
    "    plt.savefig(f\"{folder}/fig.jpeg\");"
   ]
  }
 ],
 "metadata": {
  "kernelspec": {
   "display_name": "Python 3",
   "language": "python",
   "name": "python3"
  },
  "language_info": {
   "codemirror_mode": {
    "name": "ipython",
    "version": 3
   },
   "file_extension": ".py",
   "mimetype": "text/x-python",
   "name": "python",
   "nbconvert_exporter": "python",
   "pygments_lexer": "ipython3",
   "version": "3.9.12"
  }
 },
 "nbformat": 4,
 "nbformat_minor": 2
}
