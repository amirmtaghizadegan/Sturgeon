{
 "cells": [
  {
   "cell_type": "code",
   "execution_count": null,
   "metadata": {},
   "outputs": [],
   "source": [
    "import pandas as pd\n",
    "import numpy as np\n",
    "from matplotlib import pyplot as plt\n",
    "import os\n",
    "from scipy.stats import linregress"
   ]
  },
  {
   "cell_type": "code",
   "execution_count": null,
   "metadata": {},
   "outputs": [],
   "source": [
    "fish_info = pd.read_excel(\"fish_info.xlsx\")\n",
    "fish_info['Fish ID'] = fish_info['Fish ID'].astype('str')\n",
    "fish_info['Carcass Status'] = fish_info['Carcass Status'].astype('int8')\n",
    "fish_info.set_index('Fish ID', inplace=True)\n",
    "fish_info"
   ]
  },
  {
   "cell_type": "code",
   "execution_count": null,
   "metadata": {},
   "outputs": [],
   "source": [
    "data = pd.read_excel(\"matlab_XLR.xlsx\", sheet_name=\"Results Summary\")\n",
    "vn = data.columns\n",
    "lt_track = np.zeros(data.shape, dtype = \"bool\")\n",
    "for i in np.arange(3, len(vn)):\n",
    "    lt_track[:, i] = ~(data[vn[i]].str.removeprefix(\"<\") == data[vn[i]])\n",
    "    temp = data[vn[i]].str.removeprefix(\"<\")\n",
    "    data[vn[i]] = temp\n",
    "    \n",
    "data"
   ]
  },
  {
   "cell_type": "code",
   "execution_count": null,
   "metadata": {},
   "outputs": [],
   "source": [
    "data = data.loc[data.Units.str.contains('wwt'), :]\n",
    "liver_id = data.columns.str.contains('liver', case = False)\n",
    "muscle_id = data.columns.str.contains('MT', case = False)\n",
    "\n",
    "# ploting\n",
    "col_liver = data.columns[liver_id].str.removeprefix('White Sturgeon (WS #').str.removesuffix(') Liver')\n",
    "col_muscle = data.columns[muscle_id].str.removeprefix('White Sturgeon (WS #').str.removesuffix(') MT')\n",
    "x_liver = fish_info.loc[col_liver, 'Carcass Status'].to_numpy('int')\n",
    "x_muscle = fish_info.loc[col_muscle, 'Carcass Status'].to_numpy('int')\n",
    "\n",
    "\n",
    "for element in data['Analyte']:\n",
    "    plt.figure(figsize=(15, 6), facecolor='white')\n",
    "    \n",
    "    ## liver\n",
    "    y = data.loc[data.Analyte == element, liver_id].to_numpy('float32')\n",
    "    plt.subplot(1,2,1)\n",
    "    plt.scatter(x_liver, y)\n",
    "    plt.title('Liver')\n",
    "    plt.xlabel('carcass status')\n",
    "    plt.ylabel('mg/kg wwt')\n",
    "\n",
    "    slope, intercept, r_value, p_value, std_err = linregress(x_liver, y)\n",
    "    plt.plot(x_liver,slope * x_liver + intercept, label = 'linereg', color = 'green')\n",
    "    plt.annotate(f' y = {slope:.2f} * x + {intercept:.2f}'+\n",
    "                    \"\\n\"+f'p_value:{p_value:.2f}' + \"\\n\"+f'r_squared:{r_value ** 2:.2f}',\n",
    "                    (np.mean(plt.xlim())-np.diff(plt.xlim())*.13, plt.ylim()[1]-np.diff(plt.ylim())*.14))\n",
    "\n",
    "    # muscle\n",
    "    y = data.loc[data.Analyte == element, muscle_id].to_numpy('float32')\n",
    "    plt.subplot(1,2,2)\n",
    "    plt.scatter(x_muscle, y)\n",
    "    plt.title('Muscle')\n",
    "    plt.xlabel('carcass status')\n",
    "    plt.ylabel('mg/kg wwt')\n",
    "    \n",
    "    slope, intercept, r_value, p_value, std_err = linregress(x_muscle, y)\n",
    "    plt.plot(x_muscle,slope * x_muscle + intercept, label = 'linereg', color = 'green')\n",
    "    plt.annotate(f' y = {slope:.2f} * x + {intercept:.2f}'+\n",
    "                    \"\\n\"+f'p_value:{p_value:.2f}' + \"\\n\"+f'r_squared:{r_value ** 2:.2f}',\n",
    "                    (np.mean(plt.xlim())-np.diff(plt.xlim())*.13, plt.ylim()[1]-np.diff(plt.ylim())*.14))\n",
    "\n",
    "\n",
    "\n",
    "    plt.suptitle(f'element: {element}');\n",
    "    \n",
    "    if not os.path.exists('./pics/carcass/'):\n",
    "        os.mkdir('./pics/carcass/')\n",
    "    plt.savefig(f'./pics/carcass/{element}.jpg')\n",
    "    "
   ]
  },
  {
   "cell_type": "code",
   "execution_count": null,
   "metadata": {},
   "outputs": [],
   "source": []
  }
 ],
 "metadata": {
  "kernelspec": {
   "display_name": "Python 3",
   "language": "python",
   "name": "python3"
  },
  "language_info": {
   "codemirror_mode": {
    "name": "ipython",
    "version": 3
   },
   "file_extension": ".py",
   "mimetype": "text/x-python",
   "name": "python",
   "nbconvert_exporter": "python",
   "pygments_lexer": "ipython3",
   "version": "3.9.13"
  }
 },
 "nbformat": 4,
 "nbformat_minor": 2
}
