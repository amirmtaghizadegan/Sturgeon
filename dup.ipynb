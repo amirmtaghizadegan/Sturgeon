{
 "cells": [
  {
   "cell_type": "code",
   "execution_count": 312,
   "metadata": {},
   "outputs": [],
   "source": [
    "import numpy as np\n",
    "import pandas as pd\n",
    "import matplotlib.pyplot as plt\n",
    "import os\n",
    "import openpyxl as xl\n",
    "from sklearn.linear_model import LinearRegression\n",
    "from scipy.stats import linregress\n",
    "from sklearn.metrics import max_error\n",
    "from copy import deepcopy\n"
   ]
  },
  {
   "cell_type": "markdown",
   "metadata": {},
   "source": [
    "# Duplicates"
   ]
  },
  {
   "cell_type": "markdown",
   "metadata": {},
   "source": [
    "## loading duplicates"
   ]
  },
  {
   "cell_type": "code",
   "execution_count": null,
   "metadata": {},
   "outputs": [],
   "source": [
    "dups = pd.read_excel(\"matlab_XLR.xlsx\", sheet_name=\"Duplicates\")\n",
    "dups.head()"
   ]
  },
  {
   "cell_type": "code",
   "execution_count": null,
   "metadata": {},
   "outputs": [],
   "source": [
    "dups['Sample Result'] = dups['Sample Result'].str.removeprefix('<')\n",
    "dups['Duplicate Result'] = dups['Duplicate Result'].str.removeprefix('<')\n",
    "dups.head()"
   ]
  },
  {
   "cell_type": "markdown",
   "metadata": {},
   "source": [
    "calculating range, mean, error"
   ]
  },
  {
   "cell_type": "code",
   "execution_count": 315,
   "metadata": {},
   "outputs": [],
   "source": [
    "range = np.abs(dups['Sample Result'].to_numpy('float') - dups['Duplicate Result'].to_numpy('float'))\n",
    "mean = np.mean(np.c_[dups['Sample Result'].to_numpy('float'), dups['Duplicate Result'].to_numpy('float')], axis=1)\n",
    "error = range / mean * 100"
   ]
  },
  {
   "cell_type": "markdown",
   "metadata": {},
   "source": [
    "creating new tables"
   ]
  },
  {
   "cell_type": "code",
   "execution_count": 316,
   "metadata": {},
   "outputs": [],
   "source": [
    "nt = pd.DataFrame({'range': range, 'mean': mean, 'error (%)': error})"
   ]
  },
  {
   "cell_type": "code",
   "execution_count": 317,
   "metadata": {},
   "outputs": [],
   "source": [
    "dups = pd.concat([dups, nt], axis=1)"
   ]
  },
  {
   "cell_type": "markdown",
   "metadata": {},
   "source": [
    "# liver - muscle plot"
   ]
  },
  {
   "cell_type": "markdown",
   "metadata": {},
   "source": [
    "## loading data"
   ]
  },
  {
   "cell_type": "code",
   "execution_count": null,
   "metadata": {},
   "outputs": [],
   "source": [
    "data = pd.read_excel(\"matlab_XLR.xlsx\", sheet_name=\"Results Summary\")\n",
    "vn = data.columns\n",
    "lt_track = np.zeros(data.shape, dtype = \"bool\")\n",
    "for i in np.arange(3, len(vn)):\n",
    "    lt_track[:, i] = ~(data[vn[i]].str.removeprefix(\"<\") == data[vn[i]])\n",
    "    temp = data[vn[i]].str.removeprefix(\"<\")\n",
    "    data[vn[i]] = temp\n",
    "    \n",
    "data.head()\n"
   ]
  },
  {
   "cell_type": "markdown",
   "metadata": {},
   "source": [
    "# Ploting mentioned elements"
   ]
  },
  {
   "cell_type": "markdown",
   "metadata": {},
   "source": [
    "### 13 added"
   ]
  },
  {
   "cell_type": "code",
   "execution_count": null,
   "metadata": {},
   "outputs": [],
   "source": [
    "# elements = [\"Aluminum\", \"Zinc\", \"Mercury\"]\n",
    "## to plot all elements uncomment bellow\n",
    "elements = data[\"Analyte\"][1::2].to_list()\n",
    "\n",
    "# to save the picture of an element figure, set the corrosponding value to True\n",
    "# save_pic = [False, False, True]\n",
    "\n",
    "## to save all uncomment below\n",
    "save_pic = np.ones(len(elements), dtype=\"bool\")\n",
    "\n",
    "\n",
    "x = data.columns[3:]\n",
    "# seperating liver and mt using columns contatins the word \"Liver\"\n",
    "Liver_id = x.str.contains(\"Liver\")\n",
    "id_13 = x.str.contains(\"#13\")\n",
    "colorl = deepcopy(x.to_numpy)()\n",
    "colorl[Liver_id] = 'gray'\n",
    "colorl[~Liver_id] = 'darksalmon'\n",
    "colorl[id_13] = 'seagreen'\n",
    "ticklabel = x.str.removeprefix('White Sturgeon (WS #')\n",
    "ticklabel = ticklabel.str.replace(')','')\n",
    "ticklabel = ticklabel.str.replace('MT','', regex = False) \n",
    "ticklabel = ticklabel.str.replace('Liver','', regex= False) \n",
    "for i in np.arange(len(elements)):\n",
    "    # creating figure\n",
    "    fig, ax = plt.subplots(figsize=(10, 8))\n",
    "    fig.set_facecolor(\"white\")\n",
    "    # obtaining related data\n",
    "    values = np.array(data[np.logical_and(data[\"Analyte\"] == elements[i], data[\"Units\"] == \"mg/kg wwt\")].to_numpy()[:, 3:].ravel(), dtype=float)\n",
    "    # bar ploting mt\n",
    "    ax.bar(x[(~Liver_id)], values[(~Liver_id)], color = colorl[~Liver_id],label=\"Muscle\")\n",
    "    # bar ploting liver\n",
    "    ax.bar(x[Liver_id & (~id_13)], values[Liver_id & (~id_13)], color = colorl[Liver_id & (~id_13)], label=\"Liver\")\n",
    "    ax.bar(x[Liver_id & id_13], values[Liver_id & id_13], color = colorl[Liver_id & id_13], label=\"juvenile by catch\")\n",
    "    # ploting mean of mt\n",
    "    ax.plot(x[(~Liver_id) & (~id_13)], np.mean(values[(~Liver_id) & (~id_13)]) * np.ones(x[(~Liver_id) & (~id_13)].shape), color = \"darkred\", label = \"Muscle Average\", linestyle = \"dashed\", linewidth = 3)\n",
    "    # ploting mean of liver\n",
    "    ax.plot(x[Liver_id & (~id_13)], np.mean(values[Liver_id & (~id_13)]) * np.ones(x[Liver_id & (~id_13)].shape), color = \"dimgray\", label = \"Liver Average\", linestyle = \"dashed\", linewidth = 3)\n",
    "    # setting axis side names\n",
    "    ax.set_xlabel(\"\")\n",
    "    ax.set_ylabel(\"mg/kg wet weight\", fontsize = 25)\n",
    "    ax.set_title(elements[i], loc = 'left', fontsize = 30)\n",
    "    # setting xticks and xtick labels\n",
    "    ax.xaxis.set_ticks(np.arange(data.shape[1]-3))\n",
    "    ax.xaxis.set_ticklabels(ticklabel, fontsize = 12, fontweight = \"bold\")\n",
    "\n",
    "    # enabling legend\n",
    "    ax.legend(fontsize = 15)\n",
    "    plt.yticks(fontsize =20);\n",
    "    if not os.path.exists(\"./pics/plot+13/\"):\n",
    "        os.makedirs(\"./pics/plot+13/\")\n",
    "    if save_pic[i] == True:\n",
    "        fig.savefig(\"./pics/plot+13/\"+elements[i]+\".png\")"
   ]
  },
  {
   "cell_type": "markdown",
   "metadata": {},
   "source": [
    "# Statistics"
   ]
  },
  {
   "cell_type": "code",
   "execution_count": 320,
   "metadata": {},
   "outputs": [],
   "source": [
    "from scipy.stats import shapiro\n",
    "x = data.columns[3:]"
   ]
  },
  {
   "cell_type": "markdown",
   "metadata": {},
   "source": [
    "## Shapiro test"
   ]
  },
  {
   "cell_type": "code",
   "execution_count": null,
   "metadata": {},
   "outputs": [],
   "source": [
    "shapiro_dict = {}\n",
    "# elements = [\"Aluminum\", \"Zinc\", \"Mercury\"]\n",
    "elements = data[\"Analyte\"][1::2].to_list()\n",
    "for element in elements:\n",
    "    result_liver = shapiro(data.loc[np.logical_and(data[\"Analyte\"] == element, data[\"Units\"] == \"mg/kg wwt\")].iloc[:, 3:].to_numpy(\"double\")[:, Liver_id])\n",
    "    result_mt = shapiro(data.loc[np.logical_and(data[\"Analyte\"] == element, data[\"Units\"] == \"mg/kg wwt\")].iloc[:, 3:].to_numpy(\"double\")[:, ~Liver_id])\n",
    "    shapiro_dict.update({element: [*result_liver, *result_mt]})"
   ]
  },
  {
   "cell_type": "code",
   "execution_count": 322,
   "metadata": {},
   "outputs": [],
   "source": [
    "shapiro_table = pd.DataFrame(np.c_[np.array(list(shapiro_dict.keys()), dtype=\"str\"), np.array(list(shapiro_dict.values()))], columns=[\"analyte\", \"liver statistic\", \"liver p-value\", \"mt statistics\", \"mt p-value\"])"
   ]
  },
  {
   "cell_type": "markdown",
   "metadata": {},
   "source": [
    "## pearson correlation factor"
   ]
  },
  {
   "cell_type": "code",
   "execution_count": 323,
   "metadata": {},
   "outputs": [],
   "source": [
    "## extracting matching columns\n",
    "x = data.columns[3:]\n",
    "liver_temp = x[Liver_id].str.removesuffix(\" Liver\")\n",
    "mt_temp = x[~Liver_id].str.removesuffix(\" MT\")\n",
    "test_columns = []\n",
    "for cl in liver_temp:\n",
    "    if cl in mt_temp:\n",
    "        test_columns.append(cl)\n",
    "\n",
    "liver_columns = [x+\" Liver\" for x in test_columns]\n",
    "mt_columns = [x+\" MT\" for x in test_columns]"
   ]
  },
  {
   "cell_type": "code",
   "execution_count": 324,
   "metadata": {},
   "outputs": [],
   "source": [
    "from scipy.stats import pearsonr"
   ]
  },
  {
   "cell_type": "code",
   "execution_count": null,
   "metadata": {},
   "outputs": [],
   "source": [
    "pearson_dict = {}\n",
    "# elements = [\"Aluminum\", \"Zinc\", \"Mercury\"]\n",
    "elements = data[\"Analyte\"][1::2].to_list()\n",
    "for element in elements:\n",
    "    result = pearsonr(data.loc[np.logical_and(data[\"Analyte\"] == element, data[\"Units\"] == \"mg/kg wwt\"), liver_columns].to_numpy(\"double\").ravel(), data.loc[np.logical_and(data[\"Analyte\"] == element, data[\"Units\"] == \"mg/kg wwt\"), mt_columns].to_numpy(\"double\").ravel())\n",
    "    pearson_dict.update({element: [*result]})"
   ]
  },
  {
   "cell_type": "code",
   "execution_count": 326,
   "metadata": {},
   "outputs": [],
   "source": [
    "pearson_dict\n",
    "pearson_liver_mt_table = pd.DataFrame(np.c_[np.array(list(pearson_dict.keys()), dtype=\"str\")[:, np.newaxis], data.loc[data[\"Units\"] == \"mg/kg wwt\", [*liver_columns, *mt_columns]].to_numpy(\"single\"), np.array(list(pearson_dict.values()))], columns=[\"analyte\", *[*liver_columns, *mt_columns], \"statistic\", \"p-value\"])"
   ]
  },
  {
   "cell_type": "markdown",
   "metadata": {},
   "source": [
    "## pearson element by element correlation check"
   ]
  },
  {
   "cell_type": "markdown",
   "metadata": {},
   "source": [
    "### Overall"
   ]
  },
  {
   "cell_type": "code",
   "execution_count": 327,
   "metadata": {},
   "outputs": [],
   "source": [
    "lt_id = lt_track[:, 3:]\n",
    "id_13 = x.str.contains(\"#13\")\n",
    "## to consider #13 as well uncomment next line\n",
    "# id_13 = np.zeros_like(id_13, dtype=\"bool\")\n",
    "\n",
    "row_id = np.logical_and(data[\"Units\"].to_numpy() == \"mg/kg wwt\", ~np.all(lt_id == True, axis = 1))\n",
    "corr_matrix = np.corrcoef(data.loc[row_id, x[~id_13]].to_numpy(\"single\").T, rowvar=False).round(decimals = 2)\n",
    "elements = data[\"Analyte\"].loc[row_id].to_numpy()"
   ]
  },
  {
   "cell_type": "code",
   "execution_count": null,
   "metadata": {},
   "outputs": [],
   "source": [
    "fig, ax = plt.subplots(figsize = (34, 34))\n",
    "cmap = plt.cm.PiYG\n",
    "im = ax.imshow(np.tril(corr_matrix, k=0), cmap=cmap)\n",
    "fig.set_facecolor(\"white\")\n",
    "im.set_clim(-1, 1)\n",
    "ax.grid(False)\n",
    "ax.xaxis.set_ticks(np.arange(corr_matrix.shape[0]), elements, rotation = 90, color = \"r\", fontsize = 20)\n",
    "ax.yaxis.set_ticks(np.arange(corr_matrix.shape[0]), elements, color = \"r\", fontsize = 20)\n",
    "# ax.set_ylim(2.5, -0.5)\n",
    "for i in np.arange(corr_matrix.shape[0]):\n",
    "    ax.text(i, i, elements[i], ha = 'center', va = 'center',\n",
    "            color = 'white', fontsize = 9, rotation = 45, fontweight = \"bold\")\n",
    "    for j in np.arange(i):\n",
    "        ax.text(j, i, corr_matrix[i, j], ha='center', va='center',\n",
    "                color='k', fontsize = 12, fontweight = \"bold\")\n",
    "cbar = ax.figure.colorbar(im, ax=ax, format='% .2f')\n",
    "cbar.ax.tick_params(labelsize=20)\n",
    "plt.savefig(\"./pics/pearson.png\")\n",
    "plt.show()\n"
   ]
  },
  {
   "cell_type": "markdown",
   "metadata": {},
   "source": [
    "### just liver"
   ]
  },
  {
   "cell_type": "code",
   "execution_count": 329,
   "metadata": {},
   "outputs": [],
   "source": [
    "lt_id = lt_track[:, 3:]\n",
    "row_id = np.logical_and(data[\"Units\"].to_numpy() == \"mg/kg wwt\", ~np.all(lt_id[:, Liver_id] == True, axis = 1))\n",
    "corr_matrix_liver = np.corrcoef(data.loc[row_id, x[Liver_id & (~id_13)]].to_numpy(\"single\").T, rowvar=False).round(decimals = 2)\n",
    "elements = data[\"Analyte\"].loc[row_id].to_numpy()"
   ]
  },
  {
   "cell_type": "code",
   "execution_count": null,
   "metadata": {},
   "outputs": [],
   "source": [
    "fig, ax = plt.subplots(figsize = (32, 32))\n",
    "cmap = plt.cm.PiYG\n",
    "im = ax.imshow(np.tril(corr_matrix_liver, k=0), cmap=cmap)\n",
    "fig.set_facecolor(\"white\")\n",
    "im.set_clim(-1, 1)\n",
    "ax.grid(False)\n",
    "ax.xaxis.set_ticks(np.arange(corr_matrix_liver.shape[0]), elements, rotation = 90, color = \"r\", fontsize = 20)\n",
    "ax.yaxis.set_ticks(np.arange(corr_matrix_liver.shape[0]), elements, color = \"r\", fontsize = 20)\n",
    "# ax.set_ylim(2.5, -0.5)\n",
    "for i in np.arange(corr_matrix_liver.shape[0]):\n",
    "    ax.text(i, i, elements[i], ha = 'center', va = 'center',\n",
    "            color = 'white', fontsize = 9, rotation = 45, fontweight = \"bold\")\n",
    "    for j in np.arange(i):\n",
    "        ax.text(j, i, corr_matrix_liver[i, j], ha='center', va='center',\n",
    "                color='k', fontsize = 12, fontweight = \"bold\")\n",
    "cbar = ax.figure.colorbar(im, ax=ax, format='% .2f')\n",
    "cbar.ax.tick_params(labelsize=20)\n",
    "plt.savefig(\"./pics/pearson liver.png\")\n",
    "plt.show()\n"
   ]
  },
  {
   "cell_type": "markdown",
   "metadata": {},
   "source": [
    "### Just MT"
   ]
  },
  {
   "cell_type": "code",
   "execution_count": 331,
   "metadata": {},
   "outputs": [],
   "source": [
    "lt_id = lt_track[:, 3:]\n",
    "row_id = np.logical_and(data[\"Units\"].to_numpy() == \"mg/kg wwt\", ~np.all(lt_id[:, ~Liver_id] == True, axis = 1))\n",
    "corr_matrix_MT = np.corrcoef(data.loc[row_id, x[~Liver_id & (~id_13)]].to_numpy(\"single\").T, rowvar=False).round(decimals = 2)\n",
    "elements = data[\"Analyte\"].loc[row_id].to_numpy()"
   ]
  },
  {
   "cell_type": "code",
   "execution_count": null,
   "metadata": {},
   "outputs": [],
   "source": [
    "fig, ax = plt.subplots(figsize = (32, 32))\n",
    "cmap = plt.cm.PiYG\n",
    "im = ax.imshow(np.tril(corr_matrix_MT, k=0), cmap=cmap)\n",
    "fig.set_facecolor(\"white\")\n",
    "im.set_clim(-1, 1)\n",
    "ax.grid(False)\n",
    "ax.xaxis.set_ticks(np.arange(corr_matrix_MT.shape[0]), elements, rotation = 90, color = \"r\", fontsize = 20)\n",
    "ax.yaxis.set_ticks(np.arange(corr_matrix_MT.shape[0]), elements, color = \"r\", fontsize = 20)\n",
    "# ax.set_ylim(2.5, -0.5)\n",
    "for i in np.arange(corr_matrix_MT.shape[0]):\n",
    "    ax.text(i, i, elements[i], ha = 'center', va = 'center',\n",
    "            color = 'white', fontsize = 9, rotation = 45, fontweight = \"bold\")\n",
    "    for j in np.arange(i):\n",
    "        ax.text(j, i, corr_matrix_MT[i, j], ha='center', va='center',\n",
    "                color='k', fontsize = 12, fontweight = \"bold\")\n",
    "cbar = ax.figure.colorbar(im, ax=ax, format='% .2f')\n",
    "cbar.ax.tick_params(labelsize=20)\n",
    "plt.savefig(\"./pics/pearson mt.png\")\n",
    "plt.show()\n"
   ]
  },
  {
   "cell_type": "markdown",
   "metadata": {},
   "source": [
    "### corolation for selected elements\n",
    "MT first"
   ]
  },
  {
   "cell_type": "code",
   "execution_count": 333,
   "metadata": {},
   "outputs": [],
   "source": [
    "lt_id = lt_track[:, 3:]\n",
    "elements = [\"Lead\", \"Cadmium\", \"Molybdenum\", \"Mercury\", \"Selenium\", \"Copper\", \"Zinc\"]\n",
    "element_id = np.zeros(data[\"Analyte\"].shape, dtype=\"bool\")\n",
    "for i in np.arange(element_id.shape[0]):\n",
    "    if data[\"Analyte\"][i] in elements:\n",
    "        element_id[i] = True\n",
    "row_id = np.logical_and(data[\"Units\"].to_numpy() == \"mg/kg wwt\", ~np.all(lt_id[:, ~Liver_id] == True, axis = 1)) * element_id\n",
    "corr_matrix_MT = np.corrcoef(data.loc[row_id, x[~Liver_id & (~id_13)]].to_numpy(\"single\").T, rowvar=False).round(decimals = 2)\n",
    "elements = data[\"Analyte\"].loc[row_id].to_numpy()"
   ]
  },
  {
   "cell_type": "code",
   "execution_count": null,
   "metadata": {},
   "outputs": [],
   "source": [
    "fig, ax = plt.subplots(figsize = (15, 15))\n",
    "cmap = plt.cm.PiYG\n",
    "im = ax.imshow(np.tril(corr_matrix_MT, k=0), cmap=cmap)\n",
    "fig.set_facecolor(\"white\")\n",
    "im.set_clim(-1, 1)\n",
    "ax.grid(False)\n",
    "ax.xaxis.set_ticks(np.arange(corr_matrix_MT.shape[0]), elements, rotation = 90, color = \"r\", fontsize = 20)\n",
    "ax.yaxis.set_ticks(np.arange(corr_matrix_MT.shape[0]), elements, color = \"r\", fontsize = 20)\n",
    "# ax.set_ylim(2.5, -0.5)\n",
    "for i in np.arange(corr_matrix_MT.shape[0]):\n",
    "    ax.text(i, i, elements[i], ha = 'center', va = 'center',\n",
    "            color = 'white', fontsize = 12, rotation = 45, fontweight = \"bold\")\n",
    "    for j in np.arange(i):\n",
    "        ax.text(j, i, corr_matrix_MT[i, j], ha='center', va='center',\n",
    "                color='k', fontsize = 20, fontweight = \"bold\")\n",
    "cbar = ax.figure.colorbar(im, ax=ax, format='% .2f')\n",
    "plt.savefig(\"./pics/pearson_selected elements_MT.png\")\n",
    "plt.show()\n"
   ]
  },
  {
   "cell_type": "markdown",
   "metadata": {},
   "source": [
    "Liver"
   ]
  },
  {
   "cell_type": "code",
   "execution_count": null,
   "metadata": {},
   "outputs": [],
   "source": [
    "lt_id = lt_track[:, 3:]\n",
    "elements = [\"Lead\", \"Cadmium\", \"Molybdenum\", \"Mercury\", \"Selenium\", \"Copper\", \"Zinc\"]\n",
    "element_id = np.zeros(data[\"Analyte\"].shape, dtype=\"bool\")\n",
    "for i in np.arange(element_id.shape[0]):\n",
    "    if data[\"Analyte\"][i] in elements:\n",
    "        element_id[i] = True\n",
    "row_id = np.logical_and(data[\"Units\"].to_numpy() == \"mg/kg wwt\", ~np.all(lt_id[:, Liver_id] == True, axis = 1)) * element_id\n",
    "corr_matrix_MT = np.corrcoef(data.loc[row_id, x[Liver_id & (~id_13)]].to_numpy(\"single\").T, rowvar=False).round(decimals = 2)\n",
    "elements = data[\"Analyte\"].loc[row_id].to_numpy()\n",
    "\n",
    "fig, ax = plt.subplots(figsize = (15, 15))\n",
    "cmap = plt.cm.PiYG\n",
    "im = ax.imshow(np.tril(corr_matrix_MT, k=0), cmap=cmap)\n",
    "fig.set_facecolor(\"white\")\n",
    "im.set_clim(-1, 1)\n",
    "ax.grid(False)\n",
    "ax.xaxis.set_ticks(np.arange(corr_matrix_MT.shape[0]), elements, rotation = 90, color = \"r\", fontsize = 20)\n",
    "ax.yaxis.set_ticks(np.arange(corr_matrix_MT.shape[0]), elements, color = \"r\", fontsize = 20)\n",
    "# ax.set_ylim(2.5, -0.5)\n",
    "for i in np.arange(corr_matrix_MT.shape[0]):\n",
    "    ax.text(i, i, elements[i], ha = 'center', va = 'center',\n",
    "            color = 'white', fontsize = 12, rotation = 45, fontweight = \"bold\")\n",
    "    for j in np.arange(i):\n",
    "        ax.text(j, i, corr_matrix_MT[i, j], ha='center', va='center',\n",
    "                color='k', fontsize = 20, fontweight = \"bold\")\n",
    "cbar = ax.figure.colorbar(im, ax=ax, format='% .2f')\n",
    "cbar.ax.tick_params(labelsize=20)\n",
    "plt.savefig(\"./pics/pearson_selected elements_Liver.png\")\n",
    "plt.show()"
   ]
  },
  {
   "cell_type": "markdown",
   "metadata": {},
   "source": [
    "# One way Anova"
   ]
  },
  {
   "cell_type": "code",
   "execution_count": null,
   "metadata": {},
   "outputs": [],
   "source": [
    "from scipy.stats import f_oneway\n",
    "\n",
    "anova_dict = {}\n",
    "# elements = [\"Aluminum\", \"Zinc\", \"Mercury\"]\n",
    "elements = data[\"Analyte\"][1::2].to_list()\n",
    "for element in elements:\n",
    "    result = f_oneway(data.loc[np.logical_and(data[\"Analyte\"] == element, data[\"Units\"] == \"mg/kg wwt\"),\n",
    "                                liver_columns].to_numpy(\"double\").ravel(), \n",
    "                                data.loc[np.logical_and(data[\"Analyte\"] == element, data[\"Units\"] == \"mg/kg wwt\"), \n",
    "                                         mt_columns].to_numpy(\"double\").ravel())\n",
    "    anova_dict.update({element: [*result]})\n",
    "\n",
    "anova_table = pd.DataFrame(np.c_[np.array(list(anova_dict.keys()), dtype=\"str\")[:, np.newaxis],\n",
    "                                  data.loc[data[\"Units\"] == \"mg/kg wwt\",\n",
    "                                            [*liver_columns, *mt_columns]].to_numpy(\"single\"),\n",
    "                                              np.array(list(anova_dict.values()))],\n",
    "                                                columns=[\"analyte\", *[*liver_columns, *mt_columns],\n",
    "                                                          \"statistic\", \"p-value\"])"
   ]
  },
  {
   "cell_type": "markdown",
   "metadata": {},
   "source": [
    "## T test"
   ]
  },
  {
   "cell_type": "code",
   "execution_count": null,
   "metadata": {},
   "outputs": [],
   "source": [
    "from scipy.stats import ttest_ind\n",
    "\n",
    "ttest_dict = {}\n",
    "# elements = [\"Aluminum\", \"Zinc\", \"Mercury\"]\n",
    "elements = data[\"Analyte\"][1::2].to_list()\n",
    "for element in elements:\n",
    "    result = ttest_ind(data.loc[np.logical_and(data[\"Analyte\"] == element, data[\"Units\"] == \"mg/kg wwt\"),\n",
    "                                liver_columns].to_numpy(\"double\").ravel(), \n",
    "                                data.loc[np.logical_and(data[\"Analyte\"] == element, data[\"Units\"] == \"mg/kg wwt\"), \n",
    "                                         mt_columns].to_numpy(\"double\").ravel())\n",
    "    ttest_dict.update({element: [*result]})\n",
    "\n",
    "ttest_table = pd.DataFrame(np.c_[np.array(list(ttest_dict.keys()), dtype=\"str\")[:, np.newaxis],\n",
    "                                  data.loc[data[\"Units\"] == \"mg/kg wwt\",\n",
    "                                            [*liver_columns, *mt_columns]].to_numpy(\"single\"),\n",
    "                                              np.array(list(ttest_dict.values()))],\n",
    "                                                columns=[\"analyte\", *[*liver_columns, *mt_columns],\n",
    "                                                          \"statistic\", \"p-value\"])"
   ]
  },
  {
   "cell_type": "code",
   "execution_count": 338,
   "metadata": {},
   "outputs": [],
   "source": [
    "from scipy.stats import kruskal\n",
    "\n",
    "kruskal_dict = {}\n",
    "elements = [\"Cadmium\", \"Lead\", \"Selenium\"]\n",
    "# elements = data[\"Analyte\"][1::2].to_list()\n",
    "element_id = np.array([x in elements for x in data['Analyte']], dtype='bool')[1::2]\n",
    "# not_happend = []\n",
    "for element in elements:\n",
    "    try:\n",
    "      gp1 = data.loc[np.logical_and(data[\"Analyte\"] == element, data[\"Units\"] == \"mg/kg wwt\"),\n",
    "                                  liver_columns].to_numpy(\"double\").ravel()\n",
    "      gp2 = data.loc[np.logical_and(data[\"Analyte\"] == element, data[\"Units\"] == \"mg/kg wwt\"), \n",
    "                                          mt_columns].to_numpy(\"double\").ravel()\n",
    "      result, p_value = kruskal(gp1, gp2)\n",
    "      kruskal_dict.update({element: [result, p_value]})\n",
    "    except ValueError:\n",
    "       kruskal_dict.update({element: [np.NaN, np.NaN]})\n",
    "       \n",
    "\n",
    "kruskal_table = pd.DataFrame(np.c_[np.array(list(kruskal_dict.keys()), dtype=\"str\")[:, np.newaxis],\n",
    "                                  data.loc[data[\"Units\"] == \"mg/kg wwt\",\n",
    "                                            [*liver_columns, *mt_columns]].to_numpy(\"single\")[element_id, :],\n",
    "                                              np.array(list(kruskal_dict.values()))],\n",
    "                                                columns=[\"analyte\", *[*liver_columns, *mt_columns],\n",
    "                                                          \"h\", \"p-value\"])"
   ]
  },
  {
   "cell_type": "markdown",
   "metadata": {},
   "source": [
    "## Mannwhitney U Test"
   ]
  },
  {
   "cell_type": "code",
   "execution_count": 339,
   "metadata": {},
   "outputs": [],
   "source": [
    "from scipy.stats import mannwhitneyu\n",
    "\n",
    "mannwhit = {}\n",
    "# elements = [\"Cadmium\", \"Lead\", \"Selenium\"]\n",
    "elements = data[\"Analyte\"][1::2].to_list()\n",
    "element_id = np.array([x in elements for x in data['Analyte']], dtype='bool')[1::2]\n",
    "for element in elements:\n",
    "    try:\n",
    "      gp1 = data.loc[np.logical_and(data[\"Analyte\"] == element, data[\"Units\"] == \"mg/kg wwt\"),\n",
    "                                  liver_columns].to_numpy(\"double\").ravel()\n",
    "      gp2 = data.loc[np.logical_and(data[\"Analyte\"] == element, data[\"Units\"] == \"mg/kg wwt\"), \n",
    "                                          mt_columns].to_numpy(\"double\").ravel()\n",
    "      result, p_value = mannwhitneyu(gp1, gp2)\n",
    "      mannwhit.update({element: [result, p_value]})\n",
    "    except ValueError:\n",
    "       mannwhit.update({element: [np.NaN, np.NaN]})\n",
    "       \n",
    "\n",
    "mannwhit_table = pd.DataFrame(np.c_[np.array(list(mannwhit.keys()), dtype=\"str\")[:, np.newaxis],\n",
    "                                  data.loc[data[\"Units\"] == \"mg/kg wwt\",\n",
    "                                            [*liver_columns, *mt_columns]].to_numpy(\"single\")[element_id, :],\n",
    "                                              np.array(list(mannwhit.values()))],\n",
    "                                                columns=[\"analyte\", *[*liver_columns, *mt_columns],\n",
    "                                                          \"h\", \"p-value\"])"
   ]
  },
  {
   "cell_type": "markdown",
   "metadata": {},
   "source": [
    "## Outliers"
   ]
  },
  {
   "cell_type": "code",
   "execution_count": 340,
   "metadata": {},
   "outputs": [],
   "source": [
    "outlier_dict = {}\n",
    "# elements = [\"Aluminum\"]\n",
    "elements = data[\"Analyte\"][1::2].to_list()\n",
    "for element in elements:\n",
    "    temp = data.loc[np.logical_and(data[\"Analyte\"] == element, data[\"Units\"] == \"mg/kg wwt\")].iloc[:, 3:].to_numpy(\"double\")\n",
    "    q1 = np.percentile(temp[:, Liver_id], 25)\n",
    "    q3 = np.percentile(temp[:, Liver_id], 75)\n",
    "    iqr = q3 - q1\n",
    "    lower_bound = q1 - 1.5 * iqr\n",
    "    upper_bound = q3 + 1.5 * iqr\n",
    "    cols = data.columns[3:][Liver_id]\n",
    "    outlier_liver = cols[((temp[:, Liver_id] < lower_bound) | (temp[:, Liver_id] > upper_bound)).ravel()]\n",
    "    q1 = np.percentile(temp[:, ~Liver_id], 25)\n",
    "    q3 = np.percentile(temp[:, ~Liver_id], 75)\n",
    "    iqr = q3 - q1\n",
    "    lower_bound = q1 - 1.5 * iqr\n",
    "    upper_bound = q3 + 1.5 * iqr\n",
    "    cols = data.columns[3:][~Liver_id]\n",
    "    outlier_muscle = cols[((temp[:, ~Liver_id] < lower_bound) | (temp[:, ~Liver_id] > upper_bound)).ravel()]\n",
    "    \n",
    "    outlier_dict.update({element: [\", \".join(outlier_liver), \", \".join(outlier_muscle)]})\n",
    "outlier_table = pd.DataFrame(np.c_[np.array(list(outlier_dict.keys()), dtype=\"str\"), np.array(list(outlier_dict.values()))], columns=[\"analyte\", \"liver outlier\", \"muscle outlier\"])"
   ]
  },
  {
   "cell_type": "markdown",
   "metadata": {},
   "source": [
    "# Reading Punch Data"
   ]
  },
  {
   "cell_type": "code",
   "execution_count": 341,
   "metadata": {},
   "outputs": [],
   "source": [
    "punch_data = pd.read_excel(\"2303384 FINAL BAL Standard EDD 18 May 23 1649.xls\")\n",
    "\n",
    "temp = punch_data[\"Sample_Tag\"].str.split(\"- \")\n",
    "tag = []\n",
    "tissue = []\n",
    "for i in np.arange(temp.shape[0]):\n",
    "    if len(temp[i]) > 1:\n",
    "        tag.append(temp[i][0].strip())\n",
    "        tissue.append(temp[i][1].strip())\n",
    "    else:\n",
    "        tag.append((temp[i][0]).strip())\n",
    "        tissue.append(\"None\")\n",
    "\n",
    "punch_data.insert(4, \"Tag\", tag)\n",
    "punch_data.insert(4, \"Tissue\", tissue)\n",
    "punch_data.drop(columns=\"Sample_Tag\")\n",
    "\n",
    "# reading [fish_number - tag] from sheet excel sheet names\n",
    "temp_file = xl.reader.excel.load_workbook(\"2022 Nechako river WSG Mortality Summary.xlsx\")\n",
    "tags = temp_file.sheetnames\n",
    "tags = np.char.split(tags, \"-\")\n",
    "fish_number = []\n",
    "fish_tag = []\n",
    "for tag in tags:\n",
    "    fish_number.append(tag[0].strip())\n",
    "    fish_tag.append(tag[1].strip())\n",
    "tag_list = np.array(np.c_[fish_number, fish_tag])\n",
    "\n",
    "# maping tags to fish_numbers\n",
    "temp = punch_data['Tag'].copy().to_numpy()\n",
    "for i in np.arange(tag_list.shape[0]):\n",
    "    temp[punch_data['Tag'] == tag_list[i, 1]] = tag_list[i, 0]\n",
    "\n",
    "# replacing the results with Sample_Tag column :)\n",
    "punch_data[\"Sample_Tag\"] = temp\n",
    "\n",
    "punch_data = punch_data.loc[(punch_data[\"Tissue\"] == \"Liver\") | (punch_data[\"Tissue\"] == \"Muscle\")]\n",
    "# print(punch_data.columns)\n",
    "punch_data = punch_data.loc[:, punch_data.columns[[4, 5, 6, 11, 12, 14, 15, 28]]]\n",
    "\n",
    "element_ref = np.c_[np.unique(data[\"Analyte\"].to_numpy()[1:]), [\"Al\", \"An\", \"As\", \"Ba\", \"Be\", \"Bi\", \"B\", \"Cd\", \"Ca\", \"Ce\", \"Cr\", \"Co\", \"Cu\", \"Fn\", \"Pb\", \"Li\", \"Mg\", \"Mn\", \"Hg\", \"Mo\", \"Ni\", \"P\", \"K\", \"Ru\", \"Se\", \"Na\", \"St\", \"Te\", \"Ta\", \"Tin\", \"Ur\", \"Va\", \"Zn\", \"Zi\"]]\n",
    "\n",
    "elements = [element_ref[i==element_ref[:, 1], 0].item() for i in punch_data[\"Analyte\"]]\n",
    "punch_data[\"Analyte\"] = elements\n",
    "\n",
    "punch_data.replace(\"Muscle\", \"MT\", inplace=True)\n",
    "punch_data.reset_index(inplace=True)\n",
    "\n",
    "ours = punch_data[\"Result\"].to_numpy(\"single\").copy()\n",
    "for i in np.arange(ours.shape[0]):\n",
    "    temp = data.loc[(data[\"Analyte\"] == punch_data[\"Analyte\"][i]) & (data[\"Units\"] == \"mg/kg wwt\"), data.columns.str.contains(punch_data[\"Tissue\"][i]) & data.columns.str.contains(punch_data[\"Sample_Tag\"][i])].to_numpy(\"single\")\n",
    "    if temp.shape[1] == 0:\n",
    "        ours[i] = None\n",
    "    else:\n",
    "        ours[i] = temp.item(0)\n",
    "\n",
    "punch_data.insert(5, column=\"Ours\", value=ours)"
   ]
  },
  {
   "cell_type": "code",
   "execution_count": null,
   "metadata": {},
   "outputs": [],
   "source": [
    "punch_data"
   ]
  },
  {
   "cell_type": "code",
   "execution_count": null,
   "metadata": {},
   "outputs": [],
   "source": [
    "shapiro_table"
   ]
  },
  {
   "cell_type": "markdown",
   "metadata": {},
   "source": [
    "# Reading Punch Data"
   ]
  },
  {
   "cell_type": "code",
   "execution_count": 344,
   "metadata": {},
   "outputs": [],
   "source": [
    "punch_data = pd.read_excel(\"2303384 FINAL BAL Standard EDD 18 May 23 1649.xls\")\n",
    "\n",
    "temp = punch_data[\"Sample_Tag\"].str.split(\"- \")\n",
    "tag = []\n",
    "tissue = []\n",
    "for i in np.arange(temp.shape[0]):\n",
    "    if len(temp[i]) > 1:\n",
    "        tag.append(temp[i][0].strip())\n",
    "        tissue.append(temp[i][1].strip())\n",
    "    else:\n",
    "        tag.append((temp[i][0]).strip())\n",
    "        tissue.append(\"None\")\n",
    "\n",
    "punch_data.insert(4, \"Tag\", tag)\n",
    "punch_data.insert(4, \"Tissue\", tissue)\n",
    "punch_data.drop(columns=\"Sample_Tag\")\n",
    "\n",
    "# reading [fish_number - tag] from sheet excel sheet names\n",
    "temp_file = xl.reader.excel.load_workbook(\"2022 Nechako river WSG Mortality Summary.xlsx\")\n",
    "tags = temp_file.sheetnames\n",
    "tags = np.char.split(tags, \"-\")\n",
    "fish_number = []\n",
    "fish_tag = []\n",
    "for tag in tags:\n",
    "    fish_number.append(tag[0].strip())\n",
    "    fish_tag.append(tag[1].strip())\n",
    "tag_list = np.array(np.c_[fish_number, fish_tag])\n",
    "\n",
    "# maping tags to fish_numbers\n",
    "temp = punch_data['Tag'].copy().to_numpy()\n",
    "for i in np.arange(tag_list.shape[0]):\n",
    "    temp[punch_data['Tag'] == tag_list[i, 1]] = tag_list[i, 0]\n",
    "\n",
    "# replacing the results with Sample_Tag column :)\n",
    "punch_data[\"Sample_Tag\"] = temp\n",
    "\n",
    "punch_data = punch_data.loc[(punch_data[\"Tissue\"] == \"Liver\") | (punch_data[\"Tissue\"] == \"Muscle\")]\n",
    "# print(punch_data.columns)\n",
    "punch_data = punch_data.loc[:, punch_data.columns[[4, 5, 6, 11, 12, 14, 15, 28]]]\n",
    "\n",
    "element_ref = np.c_[np.unique(data[\"Analyte\"].to_numpy()[1:]), [\"Al\", \"An\", \"As\", \"Ba\", \"Be\", \"Bi\", \"B\", \"Cd\", \"Ca\", \"Ce\", \"Cr\", \"Co\", \"Cu\", \"Fn\", \"Pb\", \"Li\", \"Mg\", \"Mn\", \"Hg\", \"Mo\", \"Ni\", \"P\", \"K\", \"Ru\", \"Se\", \"Na\", \"St\", \"Te\", \"Ta\", \"Tin\", \"Ur\", \"Va\", \"Zn\", \"Zi\"]]\n",
    "\n",
    "elements = [element_ref[i==element_ref[:, 1], 0].item() for i in punch_data[\"Analyte\"]]\n",
    "punch_data[\"Analyte\"] = elements\n",
    "\n",
    "punch_data.replace(\"Muscle\", \"MT\", inplace=True)\n",
    "punch_data.reset_index(inplace=True)\n",
    "\n",
    "ours = punch_data[\"Result\"].to_numpy(\"single\").copy()\n",
    "for i in np.arange(ours.shape[0]):\n",
    "    temp = data.loc[(data[\"Analyte\"] == punch_data[\"Analyte\"][i]) & (data[\"Units\"] == \"mg/kg wwt\"), data.columns.str.contains(punch_data[\"Tissue\"][i]) & data.columns.str.contains(punch_data[\"Sample_Tag\"][i])].to_numpy(\"single\")\n",
    "    if temp.shape[1] == 0:\n",
    "        ours[i] = None\n",
    "    else:\n",
    "        ours[i] = temp.item(0)\n",
    "\n",
    "punch_data.insert(5, column=\"Ours\", value=ours)"
   ]
  },
  {
   "cell_type": "markdown",
   "metadata": {},
   "source": [
    "## Ploting punch data vs Ours"
   ]
  },
  {
   "cell_type": "code",
   "execution_count": null,
   "metadata": {},
   "outputs": [],
   "source": [
    "elements = punch_data[\"Analyte\"].unique()\n",
    "# elements = [\"Zinc\"]\n",
    "tissues = punch_data[\"Tissue\"].unique()\n",
    "tissue_names = tissues.copy()\n",
    "tissue_names[tissue_names == 'MT'] = \"Muscle\"\n",
    "for element in elements:\n",
    "    for tissue, name in zip(tissues, tissue_names):\n",
    "        fig, ax = plt.subplots(figsize = (10, 8))\n",
    "        fig.set_facecolor(\"white\")\n",
    "        temp = punch_data[[\"Sample_Tag\", \"Result\", \"Ours\"]].loc[(punch_data[\"Tissue\"] == tissue) & (punch_data[\"Analyte\"] == element) & (punch_data[\"Matrix\"] == \"Fish\")].dropna()\n",
    "        temp = temp.reindex(temp[\"Sample_Tag\"].str.removeprefix(\"#\").astype(\"int\").sort_values().index)\n",
    "        x = np.arange(temp[\"Sample_Tag\"].shape[0])\n",
    "        ax.bar(x, temp[\"Result\"].to_numpy(\"single\").T, width = 0.4, label = \"Punch\", color = \"royalblue\")\n",
    "        ax.bar(x+.4, temp[\"Ours\"].to_numpy(\"single\").T, width = 0.4, label = name, color = \"lightcoral\") \n",
    "        ax.set_xticks(x+0.2, temp[\"Sample_Tag\"].str.removeprefix(\"#\"), fontsize = 15, fontweight = \"bold\")\n",
    "        plt.yticks(fontsize = 15)\n",
    "        plt.xticks(fontsize = 15)\n",
    "\n",
    "        ax.set_title(f\"{element}\", fontsize = 25, loc = \"left\") #in {name}\"\n",
    "        ax.set_xlabel(\"Fish ID\", fontsize = 20)\n",
    "        ax.set_ylabel(\"mg/kg wet weight\",fontsize = 20)\n",
    "        ax.legend(fontsize = 20)\n",
    "        if not os.path.exists(\"./pics/punch_ours/\"):\n",
    "            os.makedirs(\"./pics/punch_ours/\")\n",
    "        fig.savefig(f\"./pics/punch_ours/{element}_{tissue}.png\")"
   ]
  },
  {
   "cell_type": "markdown",
   "metadata": {},
   "source": [
    "## Muscle punch vs Our Liver"
   ]
  },
  {
   "cell_type": "markdown",
   "metadata": {},
   "source": [
    "## punch vs Ours correlation"
   ]
  },
  {
   "cell_type": "code",
   "execution_count": 346,
   "metadata": {},
   "outputs": [],
   "source": [
    "mus_po_cor_dict = {}\n",
    "# elements = [\"Aluminum\", \"Zinc\", \"Mercury\"]\n",
    "elements = punch_data[\"Analyte\"].unique()\n",
    "for element in elements:\n",
    "    row_id = np.logical_and(punch_data[\"Analyte\"] == element, punch_data[\"Matrix\"] == \"Fish\") & (punch_data[\"Tissue\"] == \"MT\")\n",
    "    temp = punch_data.loc[row_id, [\"Sample_Tag\" ,\"Result\", \"Ours\"]].dropna()\n",
    "    result = pearsonr(temp[\"Ours\"].to_numpy(\"double\").ravel(),\n",
    "                       temp[\"Result\"].to_numpy(\"double\").ravel())\n",
    "    mus_po_cor_dict.update({element: [temp, result]})"
   ]
  },
  {
   "cell_type": "code",
   "execution_count": 347,
   "metadata": {},
   "outputs": [],
   "source": [
    "liver_po_cor_dict = {}\n",
    "# elements = [\"Aluminum\", \"Zinc\", \"Mercury\"]\n",
    "elements = punch_data[\"Analyte\"].unique()\n",
    "for element in elements:\n",
    "    row_id = np.logical_and(punch_data[\"Analyte\"] == element, punch_data[\"Matrix\"] == \"Fish\") & (punch_data[\"Tissue\"] == \"Liver\")\n",
    "    temp = punch_data.loc[row_id, [\"Sample_Tag\", \"Ours\"]].dropna()\n",
    "    temp2 = punch_data.loc[np.logical_and(punch_data[\"Analyte\"] == element, punch_data[\"Matrix\"] == \"Fish\") & (punch_data[\"Tissue\"] == \"MT\"), [\"Sample_Tag\", \"Result\"]]\n",
    "    temp = temp.merge(temp2, 'left', on = 'Sample_Tag')\n",
    "    result = pearsonr(temp[\"Ours\"].to_numpy(\"double\").ravel(),\n",
    "                       temp[\"Result\"].to_numpy(\"double\").ravel())\n",
    "    liver_po_cor_dict.update({element: [temp, result]})"
   ]
  },
  {
   "cell_type": "code",
   "execution_count": 348,
   "metadata": {},
   "outputs": [],
   "source": [
    "tags = list(mus_po_cor_dict.values())[0][0][\"Sample_Tag\"].to_numpy()\n",
    "values = np.zeros((len(mus_po_cor_dict), tags.shape[0] * 2), dtype=\"single\")\n",
    "stat = np.zeros((len(mus_po_cor_dict), 2))\n",
    "for i in np.arange(len(mus_po_cor_dict)):\n",
    "    item = list(mus_po_cor_dict.keys())[i]\n",
    "    values[i, :] = np.r_[mus_po_cor_dict[item][0][\"Result\"].to_numpy(\"single\"), mus_po_cor_dict[item][0][\"Ours\"].to_numpy(\"single\")]\n",
    "    stat[i, :] = np.array(mus_po_cor_dict[item][1]).round(2)\n",
    "mus_po_cor_table = pd.DataFrame(np.c_[np.array(list(mus_po_cor_dict.keys()), dtype=\"str\")[:, np.newaxis], values, stat],\n",
    "                                                columns=[\"analyte\", *[*(tags + \" Punch\"), *(tags + \" Ours\")],\n",
    "                                                          \"statistic\", \"p-value\"])"
   ]
  },
  {
   "cell_type": "code",
   "execution_count": 349,
   "metadata": {},
   "outputs": [],
   "source": [
    "tags = list(liver_po_cor_dict.values())[0][0][\"Sample_Tag\"].to_numpy()\n",
    "values = np.zeros((len(liver_po_cor_dict), tags.shape[0] * 2), dtype=\"single\")\n",
    "stat = np.zeros((len(liver_po_cor_dict), 2))\n",
    "for i in np.arange(len(liver_po_cor_dict)):\n",
    "    item = list(liver_po_cor_dict.keys())[i]\n",
    "    values[i, :] = np.r_[liver_po_cor_dict[item][0][\"Result\"].to_numpy(\"single\"), liver_po_cor_dict[item][0][\"Ours\"].to_numpy(\"single\")]\n",
    "    stat[i, :] = np.array(liver_po_cor_dict[item][1]).round(2)\n",
    "liver_po_cor_table = pd.DataFrame(np.c_[np.array(list(liver_po_cor_dict.keys()), dtype=\"str\")[:, np.newaxis], values, stat],\n",
    "                                                columns=[\"analyte\", *[*(tags + \" Punch\"), *(tags + \" Ours\")],\n",
    "                                                          \"statistic\", \"p-value\"])"
   ]
  },
  {
   "cell_type": "markdown",
   "metadata": {},
   "source": [
    "# Fishes height and weight"
   ]
  },
  {
   "cell_type": "markdown",
   "metadata": {},
   "source": [
    "### reading fishes properties and calculating Fulton's condition factor"
   ]
  },
  {
   "cell_type": "code",
   "execution_count": null,
   "metadata": {},
   "outputs": [],
   "source": [
    "fishes = pd.read_excel(\"Copy of 2022 Sturgeon mortalities Biodata - Nechako River tracking Sept 22 2022.xlsx\" , sheet_name='2022 mortality track')[[\"Tracking #\", \"TOTAL\", \"kg\"]].dropna().rename(columns={\"Tracking #\" : \"tag\", \"TOTAL\" : \"length\", \"kg\":\"weight\"})\n",
    "fishes.reset_index(inplace=True, drop=True)\n",
    "b = 3 ## fulton factor coefficient\n",
    "fulton = fishes[\"weight\"] * 100000 / (fishes[\"length\"] ** b)\n",
    "fishes.insert(3, \"fulton\", fulton)\n",
    "fishes"
   ]
  },
  {
   "cell_type": "code",
   "execution_count": null,
   "metadata": {},
   "outputs": [],
   "source": [
    "x = fishes['tag'].astype('str')\n",
    "y = fishes['fulton']\n",
    "colorl = ['darkgray'] * (len(x)-1) + ['seagreen']\n",
    "plt.figure(figsize= (15,10))\n",
    "plt.bar(x,y,color = colorl)\n",
    "#plt.title('Condition Factor',fontsize = 30, fontweight = 'bold',fontdict = {'family': 'serif'\n",
    "       # 'color':  'darkred',\n",
    "        #'weight': 'normal',\n",
    "        #'size': 16,\n",
    "       # })\n",
    "\n",
    "plt.xlabel('Fish ID', fontsize = 30)\n",
    "plt.ylabel('Fulton Condition Factor (K)', fontsize = 30)\n",
    "plt.xticks(fontsize =20)\n",
    "plt.yticks(fontsize =20);\n",
    "\n",
    "if not os.path.exists('./pics/fulton'):\n",
    "    os.mkdir('./pics/fulton')\n",
    "\n",
    "plt.savefig('./pics/fulton/barplot.jpg')\n"
   ]
  },
  {
   "cell_type": "code",
   "execution_count": 352,
   "metadata": {},
   "outputs": [],
   "source": [
    "# elements = [\"Aluminum\", \"Zinc\"]\n",
    "elements = data[\"Analyte\"][1::2]\n",
    "tissues = [\"Liver\", \"MT\"]\n",
    "fish_dict = {}\n",
    "for element in elements:\n",
    "    id_liver = np.empty_like(fishes.index, dtype=\"bool\")\n",
    "    id_mt = np.empty_like(fishes.index, dtype=\"bool\")\n",
    "    for i in np.arange(id_mt.shape[0]):\n",
    "        id_liver[i] = np.any(data.columns == f\"White Sturgeon (WS #{fishes['tag'][i]}) Liver\")\n",
    "        id_mt[i] = np.any((data.columns == f\"White Sturgeon (WS #{fishes['tag'][i]}) MT\"))\n",
    "    row_id = (data[\"Analyte\"] == element) & (data[\"Units\"] == \"mg/kg wwt\")\n",
    "    c_liver = np.char.add(np.char.add(\"White Sturgeon (WS #\", fishes['tag'][id_liver].to_numpy(\"str\")), \") Liver\")\n",
    "    c_MT = np.char.add(np.char.add(\"White Sturgeon (WS #\", fishes['tag'][id_mt].to_numpy(\"str\")), \") MT\")\n",
    "    temp_liver = fishes.loc[id_liver, :]\n",
    "    temp_liver.insert(3, \"liver\", data.loc[row_id, c_liver].to_numpy().T)\n",
    "    temp_mt = fishes.loc[id_mt, :]\n",
    "    temp_mt.insert(3, \"MT\", data.loc[row_id, c_MT].to_numpy().T)\n",
    "    fish_dict.update({element: [temp_liver, temp_mt]})\n",
    "        "
   ]
  },
  {
   "cell_type": "markdown",
   "metadata": {},
   "source": [
    "### Scatter plot"
   ]
  },
  {
   "cell_type": "code",
   "execution_count": null,
   "metadata": {},
   "outputs": [],
   "source": [
    "for element in fish_dict:    \n",
    "    liver = fish_dict[element][0]\n",
    "    mt = fish_dict[element][1]\n",
    "    fig, ax = plt.subplots(1, 2, figsize=(15, 6))\n",
    "    fig.set_facecolor(\"White\")\n",
    "    ax[0].scatter(*(liver[[\"length\", \"liver\"]].to_numpy(\"float\").T), label=\"Liver\")\n",
    "    ax[0].scatter(*(mt[[\"length\", \"MT\"]].to_numpy(\"float\").T), label=\"MT\")\n",
    "    ax[0].set_xlabel(\"Length (cm)\")\n",
    "    ax[0].set_ylabel(\"mg/kg wwt\")\n",
    "    ax[0].legend()\n",
    "    ax[1].scatter(*(liver[[\"weight\", \"liver\"]].to_numpy(\"float\").T), label=\"Liver\")\n",
    "    ax[1].scatter(*(mt[[\"weight\", \"MT\"]].to_numpy(\"float\").T), label=\"MT\")\n",
    "    ax[1].set_xlabel(\"Weight (kg)\")\n",
    "    ax[1].set_ylabel(\"mg/kg wwt\")\n",
    "    ax[1].legend()\n",
    "    fig.suptitle(element, fontsize=20, fontweight = \"bold\")\n",
    "    if not os.path.exists(\"./pics/scatter/\"):\n",
    "        os.mkdir(\"./pics/scatter/\")\n",
    "    fig.savefig(f\"./pics/scatter/{element}.png\")"
   ]
  },
  {
   "cell_type": "markdown",
   "metadata": {},
   "source": [
    "### Fulton Factor Plot"
   ]
  },
  {
   "cell_type": "code",
   "execution_count": null,
   "metadata": {},
   "outputs": [],
   "source": [
    "for element in fish_dict:    \n",
    "    liver = fish_dict[element][0]\n",
    "    mt = fish_dict[element][1]\n",
    "    fig, ax = plt.subplots(figsize=(8, 6))\n",
    "    fig.set_facecolor(\"White\")\n",
    "    ax.scatter(*(liver[[\"fulton\", \"liver\"]].to_numpy(\"float\").T), label=\"Liver\")\n",
    "    ax.scatter(*(mt[[\"fulton\", \"MT\"]].to_numpy(\"float\").T), label=\"MT\")\n",
    "    ax.set_xlabel(\"Fulton's condition factor\")\n",
    "    ax.set_ylabel(\"mg/kg wwt\")\n",
    "    ax.legend()\n",
    "    fig.suptitle(element, fontsize=20, fontweight = \"bold\")\n",
    "    if not os.path.exists(\"./pics/scatter/fulton/\"):\n",
    "        os.mkdir(\"./pics/scatter/fulton/\")\n",
    "    fig.savefig(f\"./pics/scatter/fulton/{element}.png\")"
   ]
  },
  {
   "cell_type": "markdown",
   "metadata": {},
   "source": [
    "## making excel for statistics\n",
    " dups, shapiro, pearson, anova, punch vs ours -> stats.xlsx"
   ]
  },
  {
   "cell_type": "code",
   "execution_count": 355,
   "metadata": {},
   "outputs": [],
   "source": [
    "with pd.ExcelWriter('stats.xlsx') as writer:\n",
    "    dups.to_excel(writer, sheet_name=\"dups\")\n",
    "    shapiro_table.to_excel(writer, sheet_name=\"shapiro\")\n",
    "    pearson_liver_mt_table.to_excel(writer, sheet_name=\"pearson liver-mt\")\n",
    "    anova_table.to_excel(writer, sheet_name= \"One Way Anova\")\n",
    "    ttest_table.to_excel(writer, sheet_name = \"t_test\")\n",
    "    mus_po_cor_table.to_excel(writer, sheet_name= \"punch vs ours MT Cor\")\n",
    "    liver_po_cor_table.to_excel(writer, sheet_name= \"punch vs ours liver Cor\")\n",
    "    kruskal_table.to_excel(writer, sheet_name = 'kruskal')\n",
    "    mannwhit_table.to_excel(writer, sheet_name = 'mannwhitney')\n",
    "    outlier_table.to_excel(writer, sheet_name = 'outlier')\n",
    "    "
   ]
  },
  {
   "cell_type": "code",
   "execution_count": null,
   "metadata": {},
   "outputs": [],
   "source": [
    "analyte_set = [\"Mercury\", \"Selenium\"]\n",
    "tissues = ['mus', 'liver']\n",
    "names = ['Muscle', 'Liver']\n",
    "for tissue, name in zip(tissues, names):\n",
    "    for analyte in analyte_set:\n",
    "        dict_name = eval(tissue + \"_po_cor_dict\")\n",
    "        temp = dict_name[analyte][0]\n",
    "        temp = temp.reindex(temp[\"Sample_Tag\"].str.removeprefix(\"#\").astype(\"int8\").sort_values().index)\n",
    "        model = LinearRegression()\n",
    "        model.fit(temp[\"Result\"].to_numpy().reshape(-1, 1), temp[\"Ours\"].to_numpy())\n",
    "        r_sq = model.score(temp[\"Result\"].to_numpy().reshape(-1, 1), temp[\"Ours\"].to_numpy())\n",
    "        fig, ax = plt.subplots(figsize=(8, 6))\n",
    "        fig.set_facecolor(\"white\")\n",
    "        ax.scatter(*temp[[\"Result\", \"Ours\"]].to_numpy().T)\n",
    "        ax.set_xlabel(\"Punch\", fontsize = 20)\n",
    "        ax.set_ylabel(name, fontsize = 25)\n",
    "        ax.set_title(analyte, fontsize = 25)\n",
    "        ax.plot(temp[\"Result\"].to_numpy().reshape(-1, 1), model.predict(temp[\"Result\"].to_numpy().reshape(-1, 1)), color = \"darkred\", label = 'regressed')\n",
    "        merror = max_error(temp[\"Ours\"].to_numpy(), model.predict(temp[\"Result\"].to_numpy().reshape(-1, 1)))\n",
    "        ax.annotate(f\"$r^2$ = {r_sq.round(2)}\\n{name} = {model.coef_[0].round(2)} * punch + {model.intercept_.round(2)}\\nmax_error = {merror:.2f}\",\n",
    "                    (0.01*np.diff(ax.get_xlim())[0]+ax.get_xlim()[0], ax.get_ylim()[1]-0.23*np.diff(ax.get_ylim())[0]), color = \"k\", fontweight = \"bold\", fontsize = 15);\n",
    "        ax.plot(temp[\"Result\"].to_numpy().reshape(-1, 1), temp[\"Result\"].to_numpy().reshape(-1, 1), label = \"1:1\")\n",
    "        plt.xticks(fontsize = 15)\n",
    "        plt.yticks(fontsize = 15)\n",
    "        plt.legend(loc = 'lower right')\n",
    "        if not os.path.exists(\"./pics/Reg\"):\n",
    "            os.mkdir(\"./pics/Reg\")\n",
    "        if not os.path.exists(f\"./pics/Reg/{name}\"):\n",
    "            os.mkdir(f\"./pics/Reg/{name}\")\n",
    "        fig.savefig(f\"./pics/Reg/{name}/{analyte}.png\")"
   ]
  },
  {
   "cell_type": "markdown",
   "metadata": {},
   "source": [
    "## Hatchery data"
   ]
  },
  {
   "cell_type": "code",
   "execution_count": 357,
   "metadata": {},
   "outputs": [],
   "source": [
    "# bismuth, cesium, Lithium, Phosphorus, Rubidum, Strontium, Tellurium and Zirconium are the 8 elements that exist in our data but not in hatcheri data.\n",
    "# inorganic arsenic, Silicon, Silver and Sulfur are the 4 elements that exist in Hatcheri data but not in our data.\n",
    "hatcheri_A = pd.read_excel(\"hatcheri.xlsx\", sheet_name= \"A\")\n",
    "hatcheri_B = pd.read_excel(\"Hatcheri.xlsx\", sheet_name= \"B\")\n",
    "hatcheri_C = pd.read_excel(\"Hatcheri.xlsx\", sheet_name= \"C\")"
   ]
  },
  {
   "cell_type": "code",
   "execution_count": 358,
   "metadata": {},
   "outputs": [],
   "source": [
    "elements = np.array([e for e in data.Analyte[1::2].to_numpy() if any(hatcheri_A.Analyte.str.contains(e))])\n",
    "mins = np.empty_like(elements, dtype=\"float\")\n",
    "maxs = mins.copy()\n",
    "means = mins.copy()\n",
    "sd = mins.copy()\n",
    "counts = mins.copy()\n",
    "detected = mins.copy()"
   ]
  },
  {
   "cell_type": "code",
   "execution_count": 359,
   "metadata": {},
   "outputs": [],
   "source": [
    "for i in np.arange(elements.shape[0]):\n",
    "    temp = data.loc[np.logical_and(data[\"Analyte\"] == elements[i], data[\"Units\"] == \"mg/kg wwt\"), data.columns.str.contains(\"MT\")].to_numpy(\"float\")\n",
    "    dl = data.loc[np.logical_and(data[\"Analyte\"] == elements[i], data[\"Units\"] == \"mg/kg wwt\"), \"Lowest\\nDetection Limit\"].to_numpy(\"float\")\n",
    "    mins[i] = temp.min()\n",
    "    means[i] = temp.mean()\n",
    "    maxs[i] = temp.max()\n",
    "    sd[i] = temp.std()\n",
    "    counts[i] = temp.shape[1]\n",
    "    detected[i] = (1-(np.sum(temp == dl)/temp.shape[1])) * 100\n"
   ]
  },
  {
   "cell_type": "code",
   "execution_count": 360,
   "metadata": {},
   "outputs": [],
   "source": [
    "hatcheri_D = pd.DataFrame({'Analyte': elements, 'Count of Results': counts.astype(np.int8), 'Detected':detected, 'Min': mins, 'Mean': means, 'Max': maxs, 'SD': sd})"
   ]
  },
  {
   "cell_type": "code",
   "execution_count": 361,
   "metadata": {},
   "outputs": [],
   "source": [
    "import pandas as pd\n",
    "from openpyxl import load_workbook\n",
    "\n",
    "excel_path = 'Hatcheri.xlsx'\n",
    "book = load_workbook(excel_path)\n",
    "writer = pd.ExcelWriter(excel_path, engine='openpyxl') \n",
    "if 'D' in book.sheetnames:\n",
    "    del book['D']\n",
    "writer.book = book\n",
    "hatcheri_D.to_excel(writer, index=False, sheet_name=\"D\")\n",
    "\n",
    "writer.save()\n",
    "writer.close()\n"
   ]
  },
  {
   "cell_type": "code",
   "execution_count": 362,
   "metadata": {},
   "outputs": [],
   "source": [
    "hatcheri_A[\"Size\"] = \"A\"\n",
    "hatcheri_B[\"Size\"] = \"B\"\n",
    "hatcheri_C[\"Size\"] = \"C\"\n",
    "hatcheri_D[\"Size\"] = \"D\""
   ]
  },
  {
   "cell_type": "code",
   "execution_count": null,
   "metadata": {},
   "outputs": [],
   "source": [
    "hatcheri = hatcheri_A.append([hatcheri_B, hatcheri_C, hatcheri_D])"
   ]
  },
  {
   "cell_type": "code",
   "execution_count": 364,
   "metadata": {},
   "outputs": [],
   "source": [
    "hatcheri.sort_values(by=\"Analyte\", inplace=True)"
   ]
  },
  {
   "cell_type": "code",
   "execution_count": null,
   "metadata": {},
   "outputs": [],
   "source": [
    "hatcheri"
   ]
  },
  {
   "cell_type": "code",
   "execution_count": 366,
   "metadata": {},
   "outputs": [],
   "source": [
    "elements = hatcheri[\"Analyte\"].unique()"
   ]
  },
  {
   "cell_type": "code",
   "execution_count": null,
   "metadata": {},
   "outputs": [],
   "source": [
    "for element in elements:\n",
    "    plt.figure(facecolor=\"white\", figsize=(10, 10))\n",
    "    plt.title(element)\n",
    "    temp = hatcheri.loc[hatcheri.Analyte == element, :].drop(columns=[\"Analyte\"])\n",
    "    temp.sort_values(by=\"Size\", inplace=True)\n",
    "    x = temp.Size\n",
    "    mins = temp.Min\n",
    "    maxs = temp.Max\n",
    "    means = temp.Mean\n",
    "    sd = temp.SD\n",
    "    plt.errorbar(x, means, sd, fmt='ok', lw=20, label = \"std\")\n",
    "    plt.errorbar(x, means, [means - mins, maxs - means],\n",
    "             fmt='o', color='gray', ecolor='gray', lw=3, label = \"fillet\")\n",
    "    plt.legend()\n",
    "    plt.xlabel(\"Size\")\n",
    "    plt.ylabel(\"mg/kg wwt\")\n",
    "    if not os.path.exists(\"./pics/Hatcheri\"):\n",
    "        os.mkdir(\"./pics/Hatcheri\")\n",
    "    plt.savefig(f\"./pics/Hatcheri/{element}.png\")\n",
    "    "
   ]
  },
  {
   "cell_type": "markdown",
   "metadata": {},
   "source": [
    "# PCB Finclip"
   ]
  },
  {
   "cell_type": "code",
   "execution_count": null,
   "metadata": {},
   "outputs": [],
   "source": [
    "col_names = pd.read_excel(\"PCB.xls\", sheet_name=\"DATA\", nrows=0).columns\n",
    "col_names = np.array(col_names[~col_names.str.contains(\"Unnamed\")][1:].repeat(3))\n",
    "for i in np.arange(tag_list.shape[0]):\n",
    "    col_names[col_names == tag_list[i, 1]] = tag_list[i, 0][1:]\n",
    "pcb = pd.read_excel(\"PCB.xls\", sheet_name=\"DATA\", skiprows = 5)\n",
    "pcb = pcb.loc[:int(np.where(pcb['UNITS'] == r\"% Lipid\")[0]), :]\n",
    "suffix = ['flag', 'value', 'RL'] * int(len(col_names) / 3)\n",
    "cols = [i + '_' + j for i, j in zip(col_names, suffix)]\n",
    "cols.insert(0, 'Units')\n",
    "pcb.columns = cols\n",
    "pcb.set_index('Units', inplace=True)\n",
    "\n",
    "blank_columns = np.where(pcb.columns.str.contains('Blank'))[0]\n",
    "rl_nd = pcb.loc[pcb.iloc[:, blank_columns[0]].str.contains(r'\\bND\\b(?!R)', na = False).to_numpy(), pcb.columns[blank_columns[2]]].dropna()\n",
    "pcb\n",
    "# Unit: pg/g (wet weight basis)"
   ]
  },
  {
   "cell_type": "markdown",
   "metadata": {},
   "source": [
    "### Blank correction"
   ]
  },
  {
   "cell_type": "code",
   "execution_count": null,
   "metadata": {},
   "outputs": [],
   "source": [
    "pcb_corrected = pcb.copy().iloc[:, 1:-2:3]\n",
    "pcb_corrected.columns = pcb_corrected.columns.str.removesuffix('_value')\n",
    "pcb_corrected.loc[rl_nd.index, pcb_corrected.columns[-1]] = rl_nd.to_numpy() / np.sqrt(2)\n",
    "id = pcb_corrected.iloc[:-1, -1].dropna().index\n",
    "pcb_corrected.loc[id, pcb_corrected.columns[:-1]] -= pcb_corrected.loc[id, pcb_corrected.columns[-1]].to_numpy()[:, np.newaxis]\n",
    "pcb_corrected = pcb_corrected.iloc[:, :-1]\n",
    "print(f'count of samples corrected to negative: {np.sum((~(pcb_corrected.isna() | (pcb_corrected > 0)).to_numpy()))}')\n",
    "print(f'position of corrected samples: {np.where((~(pcb_corrected.isna() | (pcb_corrected > 0))).to_numpy())}')\n",
    "pcb_corrected.iloc[np.where((~(pcb_corrected.isna() | (pcb_corrected > 0))).to_numpy())] = 0\n"
   ]
  },
  {
   "cell_type": "markdown",
   "metadata": {},
   "source": [
    "### Lipid Normalization"
   ]
  },
  {
   "cell_type": "code",
   "execution_count": 370,
   "metadata": {},
   "outputs": [],
   "source": [
    "lipid_normalized = pcb_corrected.copy()\n",
    "lipid_normalized.iloc[-1, :] /= 100\n",
    "lipid_normalized.iloc[:-1, :] /= lipid_normalized.iloc[-1, :]\n",
    "lipid_normalized.index = list(lipid_normalized.index[:-1])+['Lipid']"
   ]
  },
  {
   "cell_type": "code",
   "execution_count": 371,
   "metadata": {},
   "outputs": [],
   "source": [
    "if not os.path.exists(\"./generated excels/\"):\n",
    "    os.mkdir(\"./generated excels/\")\n",
    "with pd.ExcelWriter('./generated excels/pcb.xlsx') as writer:\n",
    "    pcb_corrected.to_excel(writer, sheet_name=\"blank_corrected\")\n",
    "    lipid_normalized.to_excel(writer, sheet_name=\"lipid_normalized\")"
   ]
  },
  {
   "cell_type": "code",
   "execution_count": 372,
   "metadata": {},
   "outputs": [],
   "source": [
    "total_pcbs = pcb_corrected.loc['TOTAL PCBs', :].dropna()"
   ]
  },
  {
   "cell_type": "code",
   "execution_count": null,
   "metadata": {},
   "outputs": [],
   "source": [
    "total_pcbs = pcb_corrected.loc['TOTAL PCBs', :].dropna()\n",
    "refs = pd.DataFrame(np.array([0.036, 0.0424, 2.5, .7, 2.5]) * 1e3, index = [\"2009 RBC\", 'Updated RBC', 'MRL', 'MDL', 'ACG'])\n",
    "n = total_pcbs.shape[0] + refs.shape[0]\n",
    "fig, ax = plt.subplots(figsize=(15, 15), facecolor = \"white\")\n",
    "ax.bar(total_pcbs.index[:-1], total_pcbs.to_numpy()[:-1], color = 'c', label = \"Nechako Mass Mortality\")\n",
    "ax.bar(total_pcbs.index[-1], total_pcbs.to_numpy()[-1], color = 'seagreen', label = \"Juvenile by Catch\")\n",
    "ax.bar(refs.index, refs.loc[:, 0].to_numpy(), color = 'k', label = 'Literature')\n",
    "ax.xaxis.set_ticks(np.arange(n))\n",
    "ax.xaxis.set_ticklabels(list(total_pcbs.index.str.removesuffix(\"_value\").str.removesuffix('-Trembleur')) + list(refs.index), rotation = 30, ha = 'right', fontsize = 12, fontweight = 'bold');\n",
    "ax.set_title(\"TOTAL PCBs\")\n",
    "ax.set_ylabel(\"pg/g (wet weight basis)\", fontsize = 15, fontweight = 'bold')\n",
    "ax.set_xlabel(\"Fish ID\", fontsize = 12, fontweight = 'bold')\n",
    "plt.legend();\n",
    "if not os.path.exists(\"./pics/PCBs\"):\n",
    "    os.mkdir(\"./pics/PCBs\")\n",
    "plt.savefig(\"./pics/PCBs/Total_PCBs.png\")"
   ]
  },
  {
   "cell_type": "code",
   "execution_count": null,
   "metadata": {},
   "outputs": [],
   "source": [
    "\n",
    "n = total_pcbs.shape[0] \n",
    "fig, ax = plt.subplots(figsize=(6, 4), facecolor = \"white\")\n",
    "ax.bar(total_pcbs.index, total_pcbs.to_numpy(), color = 'g', label = \"Ours\")\n",
    "\n",
    "ax.xaxis.set_ticks(np.arange(n))\n",
    "ax.xaxis.set_ticklabels(list(total_pcbs.index.str.removesuffix(\"_value\").str.removesuffix('-Trembleur')), fontsize = 12, fontweight = 'bold');\n",
    "ax.set_title(\"TOTAL PCBs\")\n",
    "ax.set_ylabel(\"pg/g (wet weight basis)\", fontsize = 15, fontweight = 'bold')\n",
    "ax.set_xlabel(\"Fish ID\", fontsize = 12, fontweight = 'bold')\n",
    "plt.legend();\n",
    "if not os.path.exists(\"./pics/PCBs\"):\n",
    "    os.mkdir(\"./pics/PCBs\")\n",
    "plt.savefig(\"./pics/PCBs/Total_PCBsNoref.png\")"
   ]
  },
  {
   "cell_type": "code",
   "execution_count": null,
   "metadata": {},
   "outputs": [],
   "source": [
    "total_pcbs = lipid_normalized.loc['TOTAL PCBs', :].dropna()/1000000\n",
    "n = total_pcbs.shape[0] \n",
    "fig, ax = plt.subplots(figsize=(6, 4), facecolor = \"white\")\n",
    "ax.bar(total_pcbs.index[:-1], total_pcbs.to_numpy()[:-1], color = 'k', label = \"Ours\")\n",
    "ax.bar(total_pcbs.index[-1], total_pcbs.to_numpy()[-1], color = 'seagreen', label = \"Ours\")\n",
    "\n",
    "ax.xaxis.set_ticks(np.arange(n))\n",
    "ax.xaxis.set_ticklabels(list(total_pcbs.index.str.removesuffix(\"_value\").str.removesuffix('-Trembleur')), fontsize = 12, fontweight = 'bold');\n",
    "ax.set_title(\"Total Polychlorinated Biphenyls (PCBs)\")\n",
    "ax.set_ylabel(\"$\\Sigma PCB \\enspace mg/kg \\enspace lw$\", fontsize = 15, fontweight = 'bold')\n",
    "ax.set_xlabel(\"Fish ID\", fontsize = 12, fontweight = 'bold')\n",
    "#plt.legend();\n",
    "if not os.path.exists(\"./pics/PCBs\"):\n",
    "    os.mkdir(\"./pics/PCBs\")\n",
    "plt.savefig(\"./pics/PCBs/Total_PCBsLipidN.png\")"
   ]
  },
  {
   "cell_type": "markdown",
   "metadata": {},
   "source": [
    "### Pie Chart"
   ]
  },
  {
   "cell_type": "code",
   "execution_count": null,
   "metadata": {},
   "outputs": [],
   "source": [
    "fig, ax = plt.subplots(1, pcb_corrected.shape[1], figsize = (13.39, 3))\n",
    "fig.set_facecolor(\"white\")\n",
    "fig.suptitle(\"PCBs detection proportion\", fontsize = 18, fontweight = \"bold\")\n",
    "for i, col in enumerate(pcb_corrected.columns):\n",
    "    broken = pcb_corrected.index[pcb_corrected.loc[:, col].isna() & pcb_corrected.index.str.contains(\"PCB-\")]\n",
    "    count = broken.to_series().apply(lambda x : x.count('+')).to_numpy().sum() + broken.size\n",
    "    ax[i].pie([209-count, count], labels = [\"\", \"\"], autopct='%1.1f%%', startangle=90, radius = 1.4, colors = ['lightgray', 'limegreen'])\n",
    "    ax[i].set_xlabel(f'#{col}', fontsize = 13)\n",
    "fig.legend([\"detected\", \"not detected\"], loc = 'upper right', bbox_to_anchor=(.9, 1), fontsize = 13);\n",
    "plt.tight_layout()"
   ]
  },
  {
   "cell_type": "markdown",
   "metadata": {},
   "source": [
    "## WG85756_DX_1"
   ]
  },
  {
   "cell_type": "code",
   "execution_count": null,
   "metadata": {},
   "outputs": [],
   "source": [
    "col_names = pd.read_excel(\"WG85756_DX_1.xls\", sheet_name=\"DATA\", nrows=0).columns\n",
    "col_names = np.array(col_names[~col_names.str.contains(\"Unnamed\")][1:].repeat(3))\n",
    "for i in np.arange(tag_list.shape[0]):\n",
    "    col_names[col_names == tag_list[i, 1]] = tag_list[i, 0][1:]\n",
    "DX = pd.read_excel(\"WG85756_DX_1.xls\", sheet_name=\"DATA\", skiprows = 5)\n",
    "DX = DX.loc[:int(np.where(DX['UNITS'] == r\"% Lipid\")[0]), :]\n",
    "suffix = ['flag', 'value', 'RL'] * int(len(col_names) / 3)\n",
    "cols = [i + '_' + j for i, j in zip(col_names, suffix)]\n",
    "cols.insert(0, 'Units')\n",
    "DX.columns = cols\n",
    "DX.set_index('Units', inplace=True)\n",
    "\n",
    "blank_columns = np.where(DX.columns.str.contains('Blank'))[0]\n",
    "rl_nd = DX.loc[DX.iloc[:, blank_columns[0]].str.contains(r'\\bND\\b(?!R)', na = False).to_numpy(), DX.columns[blank_columns[2]]].dropna()\n",
    "DX\n",
    "# Unit: pg/g (wet weight basis)"
   ]
  },
  {
   "cell_type": "markdown",
   "metadata": {},
   "source": [
    "### Blank correction"
   ]
  },
  {
   "cell_type": "code",
   "execution_count": null,
   "metadata": {},
   "outputs": [],
   "source": [
    "DX_corrected = DX.copy().iloc[:, 1:-2:3]\n",
    "DX_corrected.columns = DX_corrected.columns.str.removesuffix('_value')\n",
    "DX_corrected.loc[rl_nd.index, DX_corrected.columns[-1]] = rl_nd.to_numpy() / np.sqrt(2)\n",
    "id = DX_corrected.iloc[:-1, -1].dropna().index\n",
    "DX_corrected.loc[id, DX_corrected.columns[:-1]] -= DX_corrected.loc[id, DX_corrected.columns[-1]].to_numpy()[:, np.newaxis]\n",
    "DX_corrected = DX_corrected.iloc[:, :-1]\n",
    "print(f'count of samples corrected to negative: {np.sum((~(DX_corrected.isna() | (DX_corrected > 0)).to_numpy()))}')\n",
    "print(f'position of corrected samples: {np.where((~(DX_corrected.isna() | (DX_corrected > 0))).to_numpy())}')\n",
    "DX_corrected.iloc[np.where((~(DX_corrected.isna() | (DX_corrected > 0))).to_numpy())] = 0\n"
   ]
  },
  {
   "cell_type": "markdown",
   "metadata": {},
   "source": [
    "### Lipid normalization"
   ]
  },
  {
   "cell_type": "code",
   "execution_count": 379,
   "metadata": {},
   "outputs": [],
   "source": [
    "lipid_normalized_dx = DX_corrected.copy()\n",
    "lipid_normalized_dx.iloc[-1, :] /= 100\n",
    "lipid_normalized_dx.iloc[:-1, :] /= lipid_normalized_dx.iloc[-1, :]\n",
    "lipid_normalized_dx.index = list(lipid_normalized_dx.index[:-1])+['Lipid']\n"
   ]
  },
  {
   "cell_type": "code",
   "execution_count": 380,
   "metadata": {},
   "outputs": [],
   "source": [
    "if not os.path.exists(\"./generated excels/\"):\n",
    "    os.mkdir(\"./generated excels/\")\n",
    "with pd.ExcelWriter('./generated excels/DX.xlsx') as writer:\n",
    "    DX_corrected.to_excel(writer, sheet_name=\"blank_corrected\")\n",
    "    lipid_normalized_dx.to_excel(writer, sheet_name=\"lipid_normalized\")"
   ]
  },
  {
   "cell_type": "markdown",
   "metadata": {},
   "source": [
    "# DX graphs"
   ]
  },
  {
   "cell_type": "code",
   "execution_count": 381,
   "metadata": {},
   "outputs": [],
   "source": [
    "DX_corrected = pd.read_excel(\"./generated excels/DX.xlsx\", sheet_name=\"lipid_normalized\")\n",
    "dx = DX_corrected.T\n",
    "dx.reset_index(inplace=True)\n",
    "cols = dx.iloc[0, :].to_list()\n",
    "cols[0] = 'Fish_ID'\n",
    "dx.columns = cols\n",
    "dx.drop(index = 0, inplace = True)\n",
    "dx.reset_index(drop = True, inplace = True)\n",
    "dx['Fish_ID'] = dx['Fish_ID'].str.removesuffix('-Trembleur')\n",
    "dx.set_index('Fish_ID', inplace = True)"
   ]
  },
  {
   "cell_type": "code",
   "execution_count": null,
   "metadata": {},
   "outputs": [],
   "source": [
    "dx"
   ]
  },
  {
   "cell_type": "code",
   "execution_count": null,
   "metadata": {},
   "outputs": [],
   "source": [
    "fig, ax = plt.subplots(figsize=(10, 8), facecolor = \"white\")\n",
    "(dx.loc[dx.sum(1) != 0, dx.columns[:-1]]/1000000).plot(use_index=True, kind = 'bar', stacked = True, title = 'Polychlorinated dibenzo-p-dioxins (PCDDs) and dibenzofurans (PCDFs)',\n",
    "          xlabel = 'Fish ID', colormap= plt.colormaps[\"tab20c\"], ax = ax);\n",
    "plt.ylabel('mg/kg lw', fontsize = 15)\n",
    "plt.xlabel('Fish ID', fontsize = 15)\n",
    "plt.title('Polychlorinated dibenzo-p-dioxins (PCDDs) and dibenzofurans (PCDFs)', fontsize = 20)\n",
    "plt.xticks(rotation = 0, fontweight = \"bold\", fontsize = 12)\n",
    "plt.yticks(fontsize = 12)\n",
    "plt.legend(bbox_to_anchor = (1, 1))\n",
    "if not os.path.exists(\"./pics/DX\"):\n",
    "        os.mkdir(\"./pics/DX\")\n",
    "plt.savefig(f\"./pics/DX/stacked_DX.png\")"
   ]
  },
  {
   "cell_type": "code",
   "execution_count": 384,
   "metadata": {},
   "outputs": [],
   "source": [
    "dx.drop(columns= dx.columns[dx.columns.str.contains(\"lipid\", case = False)], inplace = True)"
   ]
  },
  {
   "cell_type": "code",
   "execution_count": null,
   "metadata": {},
   "outputs": [],
   "source": [
    "fig, ax = plt.subplots(figsize=(10, 8), facecolor = \"white\")\n",
    "(dx.T / (dx.sum(1) + 1e-20)*100).loc[:, dx.sum(1) != 0].T.plot(use_index=True, kind = 'bar', stacked = True, title = 'DX', ylabel = 'percent (%)', xlabel = 'Fish ID', colormap= plt.colormaps[\"tab20c\"], ax = ax)\n",
    "plt.ylabel('Percent (%)', fontsize = 15)\n",
    "plt.xlabel('Fish ID', fontsize = 15)\n",
    "plt.title('Polychlorinated dibenzo-p-dioxins (PCDDs) and dibenzofurans (PCDFs)', fontsize = 20)\n",
    "plt.xticks(rotation = 0, fontweight = \"bold\", fontsize = 12)\n",
    "plt.yticks(fontsize = 12)\n",
    "plt.legend(bbox_to_anchor=(1.0, 1));\n",
    "if not os.path.exists(\"./pics/DX\"):\n",
    "        os.mkdir(\"./pics/DX\")\n",
    "plt.savefig(f\"./pics/DX/stacked_percent_DX.png\")"
   ]
  },
  {
   "cell_type": "markdown",
   "metadata": {},
   "source": [
    "# PCB graphs"
   ]
  },
  {
   "cell_type": "code",
   "execution_count": 386,
   "metadata": {},
   "outputs": [],
   "source": [
    "pcb_corrected = pd.read_excel(\"./generated excels/pcb.xlsx\", sheet_name=\"blank_corrected\")"
   ]
  },
  {
   "cell_type": "code",
   "execution_count": 387,
   "metadata": {},
   "outputs": [],
   "source": [
    "pcb_corrected = pcb_corrected.iloc[:-12, :]\n",
    "pcb_corrected.set_index('Units', inplace=True)"
   ]
  },
  {
   "cell_type": "code",
   "execution_count": 388,
   "metadata": {},
   "outputs": [],
   "source": [
    "import math as m"
   ]
  },
  {
   "cell_type": "code",
   "execution_count": null,
   "metadata": {},
   "outputs": [],
   "source": [
    "xtick_labels = []\n",
    "xticks = list(np.arange(0, pcb_corrected.shape[0], 15)) + [pcb_corrected.shape[0]-1]\n",
    "for i in xticks:\n",
    "    xtick_labels.append(pcb_corrected.index[i])\n",
    "for col in pcb_corrected:\n",
    "    fig, ax = plt.subplots(figsize = (15, 10))\n",
    "    ax.set_title(col)\n",
    "    ax.bar(pcb_corrected.index, pcb_corrected[col], color = 'k')\n",
    "    ax.xaxis.set_ticks(xticks)\n",
    "    ax.xaxis.set_ticklabels(xtick_labels, rotation = 40, ha = \"right\")\n",
    "    ax.set_ylabel(\"pg/g (wet weight basis)\")\n",
    "    ax.set_xlabel(\"$PCB_x$\")\n",
    "    for iter, i in enumerate(pcb_corrected.index):\n",
    "        if '+' in i:\n",
    "            ax.annotate(i,\n",
    "            xy=(iter, pcb_corrected.loc[i, col]), xycoords='data',\n",
    "            xytext=(iter+10, pcb_corrected.loc[i, col]+50), textcoords='data',\n",
    "            arrowprops=dict(arrowstyle=\"->\", connectionstyle=\"arc3\"), rotation = 73)\n"
   ]
  },
  {
   "cell_type": "code",
   "execution_count": null,
   "metadata": {},
   "outputs": [],
   "source": [
    "xtick_labels = []\n",
    "xticks = list(np.arange(0, pcb_corrected.shape[0], 15)) + [pcb_corrected.shape[0]-1]\n",
    "for i in xticks:\n",
    "    xtick_labels.append(pcb_corrected.index[i])\n",
    "for col in pcb_corrected:\n",
    "    fig, ax = plt.subplots(figsize = (15, 10))\n",
    "    ax.set_title(col)\n",
    "    ax.bar(pcb_corrected.index, pcb_corrected[col], color = 'k')\n",
    "    ax.xaxis.set_ticks(xticks)\n",
    "    ax.xaxis.set_ticklabels(xtick_labels, rotation = 40, ha = \"right\")\n",
    "    ax.set_ylabel(\"pg/g (wet weight basis)\")\n",
    "    ax.set_xlabel(\"$PCB_x$\")"
   ]
  },
  {
   "cell_type": "markdown",
   "metadata": {},
   "source": [
    "### all compounds are muted"
   ]
  },
  {
   "cell_type": "code",
   "execution_count": null,
   "metadata": {},
   "outputs": [],
   "source": [
    "id = ~pcb_corrected.index.str.contains(\"+\", regex=False)\n",
    "xtick_labels = []\n",
    "xticks = list(np.arange(0, pcb_corrected.loc[id, :].shape[0], 15)) + [pcb_corrected.loc[id, :].shape[0]-1]\n",
    "for i in xticks:\n",
    "    xtick_labels.append(pcb_corrected.loc[id, :].index[i])\n",
    "for col in pcb_corrected:\n",
    "    fig, ax = plt.subplots(figsize = (15, 10))\n",
    "    ax.set_title(col)\n",
    "    ax.bar(pcb_corrected.index[id], pcb_corrected.loc[id, col], color = 'k')\n",
    "    ax.xaxis.set_ticks(xticks)\n",
    "    ax.xaxis.set_ticklabels(xtick_labels, rotation = 40, ha = \"right\")\n",
    "    ax.set_ylabel(\"pg/g (wet weight basis)\")\n",
    "    ax.set_xlabel(\"$PCB_x$\")"
   ]
  },
  {
   "cell_type": "markdown",
   "metadata": {},
   "source": [
    "### splited compounds"
   ]
  },
  {
   "cell_type": "code",
   "execution_count": null,
   "metadata": {},
   "outputs": [],
   "source": [
    "for col in pcb_corrected:\n",
    "    pcbx = np.zeros((209,))\n",
    "    id = ~pcb_corrected.index.str.contains(\"+\", regex=False)\n",
    "    idx = pcb_corrected[id].index.str.removeprefix(\"PCB-\").to_numpy('uint8')-1\n",
    "    pcbx[idx] = pcb_corrected.loc[id, col].ravel()\n",
    "    for i in pcb_corrected[~id].index:\n",
    "        for k , j in enumerate(i.split('+')):\n",
    "            if k == 0:\n",
    "                pcbx[int(j.strip()[4:])-1] = pcb_corrected.loc[i, col] / len(i.split('+'))\n",
    "            else:\n",
    "                pcbx[int(j.strip())-1] = pcb_corrected.loc[i, col] / len(i.split('+'))\n",
    "    fig, ax = plt.subplots(figsize = (15, 10))\n",
    "    ax.set_title(col)\n",
    "    ax.bar(np.arange(1, 210), pcbx, color = 'k')\n",
    "    ax.xaxis.set_ticks(np.arange(1, 210, 10))\n",
    "    ax.xaxis.set_ticklabels(np.arange(1, 210, 10), rotation = 40, ha = \"right\")\n",
    "    ax.set_ylabel(\"pg/g (wet weight basis)\")\n",
    "    ax.set_xlabel(\"$PCB_x$\")\n"
   ]
  },
  {
   "cell_type": "markdown",
   "metadata": {},
   "source": [
    "# age table"
   ]
  },
  {
   "cell_type": "code",
   "execution_count": null,
   "metadata": {},
   "outputs": [],
   "source": [
    "age_table = pd.read_excel('./2022 Mortality Fin Ray Aging.xlsx')\n",
    "age_table['Sample'] = age_table['Sample'].str.removeprefix(\"WS\")\n",
    "age_table"
   ]
  },
  {
   "cell_type": "code",
   "execution_count": null,
   "metadata": {},
   "outputs": [],
   "source": [
    "pcb_corrected"
   ]
  },
  {
   "cell_type": "markdown",
   "metadata": {},
   "source": [
    "# Ploting pcb vs age"
   ]
  },
  {
   "cell_type": "code",
   "execution_count": null,
   "metadata": {},
   "outputs": [],
   "source": [
    "ages = [age_table.loc[age_table[\"Sample\"].str.contains(c[:2]), 'Age Estimate'].to_numpy()[0] for c in pcb_corrected.columns]\n",
    "for pcb_i in pcb_corrected.index:\n",
    "    if ~np.isnan(pcb_corrected.loc[pcb_i, :].to_numpy()).all():\n",
    "        plt.figure(figsize=(6, 4), facecolor = 'White')\n",
    "        plt.scatter(ages, pcb_corrected.loc[pcb_i, :].to_numpy())\n",
    "        plt.xlabel(\"Age\")\n",
    "        plt.ylabel(\"pg/g (wet weight basis)\")\n",
    "        plt.title(f'{pcb_i}')\n",
    "        temp = pcb_corrected.loc[pcb_i, :].to_numpy() > 0\n",
    "        if temp.sum() > 1:\n",
    "            slope, intercept, r_value, p_value, std_err = linregress(np.array(ages, dtype=np.single)[temp].ravel(), pcb_corrected.loc[pcb_i, :].to_numpy('single')[temp].ravel())\n",
    "            model = LinearRegression()\n",
    "            model.fit(np.array(ages, dtype=np.single)[temp].reshape(-1, 1), pcb_corrected.loc[pcb_i, :].to_numpy()[temp].reshape(-1, 1))\n",
    "            r_sq = r_value ** 2\n",
    "            plt.plot(ages, model.predict(np.array(ages).reshape(-1, 1)), color = 'orange')\n",
    "            plt.annotate(f\"$r^2$ = {r_sq:.4f}\\npcb = {model.coef_[0][0]:.2f} * Age + {model.intercept_[0]:.2f}\\nP-Value = {p_value:.2f}\",\n",
    "                      (0.01*np.diff(plt.xlim())[0]+plt.xlim()[0],0.01*np.diff(plt.ylim())[0]+plt.ylim()[0]), color = 'k', fontweight = \"bold\")\n",
    "    if not os.path.exists(\"./pics/pcbs/scatter/Age\"):\n",
    "        os.mkdir(\"./pics/pcbs/scatter\")\n",
    "        os.mkdir(\"./pics/pcbs/scatter/Age\")\n",
    "    plt.savefig(f\"./pics/pcbs/scatter/Age/{pcb_i}.png\")"
   ]
  },
  {
   "cell_type": "markdown",
   "metadata": {},
   "source": [
    "# DX vs Age"
   ]
  },
  {
   "cell_type": "code",
   "execution_count": 396,
   "metadata": {},
   "outputs": [],
   "source": [
    "dx = dx.T"
   ]
  },
  {
   "cell_type": "code",
   "execution_count": null,
   "metadata": {},
   "outputs": [],
   "source": [
    "ages = [age_table.loc[age_table[\"Sample\"].str.contains(c[:2]), 'Age Estimate'].to_numpy()[0] for c in dx.columns]\n",
    "for dx_i in dx.index:\n",
    "    if ~np.isnan(dx.loc[dx_i, :].to_numpy('single')).all():\n",
    "        plt.figure(figsize=(10, 10), facecolor = 'White')\n",
    "        plt.scatter(ages, dx.loc[dx_i, :].to_numpy('double'))\n",
    "        plt.xlabel(\"Age\")\n",
    "        plt.ylabel(\"pg/g (wet weight basis)\")\n",
    "        plt.title(f'{dx_i}')\n",
    "        temp = dx.loc[dx_i, :].to_numpy() > 0\n",
    "        if temp.sum()>1:\n",
    "            slope, intercept, r_value, p_value, std_err = linregress(np.array(ages, dtype=np.single)[temp].ravel(), dx.loc[dx_i, :].to_numpy('single')[temp].ravel())\n",
    "            model = LinearRegression()\n",
    "            model.fit(np.array(ages, dtype=np.single)[temp].reshape(-1, 1), dx.loc[dx_i, :].to_numpy()[temp].reshape(-1, 1))\n",
    "            r_sq = model.score(np.array(ages, dtype=np.single)[temp].reshape(-1, 1), dx.loc[dx_i, :].to_numpy()[temp].reshape(-1, 1))\n",
    "            plt.plot(ages, model.predict(np.array(ages).reshape(-1, 1)), color = 'orange')\n",
    "            plt.annotate(f\"$r^2$ = {r_sq:.4f}\\nDx = {model.coef_[0][0]:.2f} * Age + {model.intercept_[0]:.2f}\\nP-Value = {p_value:.2f}\",\n",
    "                        (0.01*np.diff(plt.xlim())[0]+plt.xlim()[0],0.01*np.diff(plt.ylim())[0]+plt.ylim()[0]), color = 'k', fontweight = \"bold\")\n",
    "    if not os.path.exists(\"./pics/Dx/scatter/Age\"):\n",
    "        os.mkdir(\"./pics/Dx/scatter\")\n",
    "        os.mkdir(\"./pics/Dx/scatter/Age\")\n",
    "    plt.savefig(f\"./pics/Dx/scatter/Age/{dx_i}.png\")"
   ]
  },
  {
   "cell_type": "markdown",
   "metadata": {},
   "source": [
    "# pcb vs weight and fulton factor"
   ]
  },
  {
   "cell_type": "code",
   "execution_count": null,
   "metadata": {},
   "outputs": [],
   "source": [
    "fish_info = fish_dict['Aluminum'][0].loc[:, ['tag', 'weight', 'fulton']]\n",
    "fish_info['tag'].iloc[-1] = '13'\n",
    "fish_info"
   ]
  },
  {
   "cell_type": "code",
   "execution_count": null,
   "metadata": {},
   "outputs": [],
   "source": [
    "weight = fish_info['weight'].to_numpy('single')\n",
    "pcb_corrected.rename(columns={'13-Trembleur': '13'}, inplace = True)\n",
    "p = pcb_corrected.loc[:, fish_info['tag'].to_numpy('str')]\n",
    "for pcb_i in p.index:\n",
    "    if ~np.isnan(p.loc[pcb_i, :].to_numpy()).all():\n",
    "        plt.figure(figsize=(6, 4), facecolor=\"white\")\n",
    "        plt.scatter(weight, p.loc[pcb_i, :].to_numpy())\n",
    "        plt.xlabel(\"Weight (Kg)\")\n",
    "        plt.ylabel(\"pg/g (wet weight basis)\")\n",
    "        plt.title(f'{pcb_i}')\n",
    "        temp = p.loc[pcb_i, :].to_numpy() > 0\n",
    "        if temp.sum() > 1:\n",
    "            model = LinearRegression()\n",
    "            slope, intercept, r_value, p_value, std_err = linregress(weight[temp], p.loc[pcb_i, :].to_numpy('single')[temp].ravel())\n",
    "            history = model.fit(np.array(weight, dtype=np.single)[temp].reshape(-1, 1), p.loc[pcb_i, :].to_numpy()[temp].reshape(-1, 1))\n",
    "            r_sq = model.score(np.array(weight, dtype=np.single)[temp].reshape(-1, 1), p.loc[pcb_i, :].to_numpy()[temp].reshape(-1, 1))\n",
    "            plt.plot(weight, model.predict(np.array(weight).reshape(-1, 1)), color = 'orange')\n",
    "            plt.annotate(f\"$r^2$ = {r_sq:.4f}\\npcb = {model.coef_[0][0]:.2f} * weight + {model.intercept_[0]:.2f}\\nP-Value = {p_value:.2f}\",\n",
    "                      (0.01*np.diff(plt.xlim())[0]+plt.xlim()[0],0.01*np.diff(plt.ylim())[0]+plt.ylim()[0]), color = 'k', fontweight = \"bold\")\n",
    "    if not os.path.exists(\"./pics/pcbs/scatter/Weight\"):\n",
    "        os.mkdir(\"./pics/pcbs/scatter/Weight\")\n",
    "    plt.savefig(f\"./pics/pcbs/scatter/Weight/{pcb_i}.png\")"
   ]
  },
  {
   "cell_type": "code",
   "execution_count": null,
   "metadata": {},
   "outputs": [],
   "source": [
    "weight = fish_info['fulton'].to_numpy('single')\n",
    "p = pcb_corrected.loc[:, fish_info['tag'].to_numpy('str')]\n",
    "for pcb_i in p.index:\n",
    "    if ~np.isnan(p.loc[pcb_i, :].to_numpy()).all():\n",
    "        plt.figure(figsize=(6, 4), facecolor=\"white\")\n",
    "        plt.scatter(weight, p.loc[pcb_i, :].to_numpy())\n",
    "        plt.xlabel(\"Fulton's condition factor\")\n",
    "        plt.ylabel(\"pg/g (wet weight basis)\")\n",
    "        plt.title(f'{pcb_i}')\n",
    "        temp = p.loc[pcb_i, :].to_numpy() > 0\n",
    "        if temp.sum() > 1:\n",
    "            model = LinearRegression()\n",
    "            slope, intercept, r_value, p_value, std_err = linregress(weight[temp], p.loc[pcb_i, :].to_numpy('single')[temp].ravel())\n",
    "            history = model.fit(np.array(weight, dtype=np.single)[temp].reshape(-1, 1), p.loc[pcb_i, :].to_numpy()[temp].reshape(-1, 1))\n",
    "            r_sq = model.score(np.array(weight, dtype=np.single)[temp].reshape(-1, 1), p.loc[pcb_i, :].to_numpy()[temp].reshape(-1, 1))\n",
    "            plt.plot(weight, model.predict(np.array(weight).reshape(-1, 1)), color = 'orange')\n",
    "            plt.annotate(f\"$r^2$ = {r_sq:.4f}\\npcb = {model.coef_[0][0]:.2f} * fulton + {model.intercept_[0]:.2f}\\nP-Value = {p_value:.2f}\",\n",
    "                      (0.01*np.diff(plt.xlim())[0]+plt.xlim()[0],0.01*np.diff(plt.ylim())[0]+plt.ylim()[0]), color = 'k', fontweight = \"bold\")\n",
    "    if not os.path.exists(\"./pics/pcbs/scatter/fulton\"):\n",
    "        os.mkdir(\"./pics/pcbs/scatter/fulton\")\n",
    "    plt.savefig(f\"./pics/pcbs/scatter/fulton/{pcb_i}.png\")"
   ]
  },
  {
   "cell_type": "markdown",
   "metadata": {},
   "source": [
    "# DX vs weight and fulton"
   ]
  },
  {
   "cell_type": "code",
   "execution_count": null,
   "metadata": {},
   "outputs": [],
   "source": [
    "dx"
   ]
  },
  {
   "cell_type": "code",
   "execution_count": null,
   "metadata": {},
   "outputs": [],
   "source": [
    "weight = fish_info['weight'].to_numpy('single')\n",
    "p = dx.loc[:, fish_info['tag'].to_numpy('str')]\n",
    "for pcb_i in p.index:\n",
    "    if ~np.isnan(p.loc[pcb_i, :].to_numpy('single')).all():\n",
    "        plt.figure(figsize=(10, 10), facecolor = 'White')\n",
    "        plt.scatter(weight, p.loc[pcb_i, :].to_numpy('double'))\n",
    "        plt.xlabel(\"Weight (Kg)\")\n",
    "        plt.ylabel(\"pg/g (wet weight basis)\")\n",
    "        plt.title(f'{pcb_i}')\n",
    "        temp = p.loc[pcb_i, :].to_numpy('single') > 0\n",
    "        if temp.sum() > 1:\n",
    "            model = LinearRegression()\n",
    "            slope, intercept, r_value, p_value, std_err = linregress(weight[temp], p.loc[pcb_i, :].to_numpy('single')[temp].ravel())\n",
    "            history = model.fit(np.array(weight, dtype=np.single)[temp].reshape(-1, 1), p.loc[pcb_i, :].to_numpy()[temp].reshape(-1, 1))\n",
    "            r_sq = model.score(np.array(weight, dtype=np.single)[temp].reshape(-1, 1), p.loc[pcb_i, :].to_numpy()[temp].reshape(-1, 1))\n",
    "            plt.plot(weight, model.predict(np.array(weight).reshape(-1, 1)), color = 'orange')\n",
    "            plt.annotate(f\"$r^2$ = {r_sq:.4f}\\nDx = {model.coef_[0][0]:.2f} * weight + {model.intercept_[0]:.2f}\\nP-Value = {p_value:.2f}\",\n",
    "                      (0.01*np.diff(plt.xlim())[0]+plt.xlim()[0],0.01*np.diff(plt.ylim())[0]+plt.ylim()[0]), color = 'k', fontweight = \"bold\")\n",
    "    if not os.path.exists(\"./pics/Dx/scatter/Weight\"):\n",
    "        os.mkdir(\"./pics/Dx/scatter/Weight\")\n",
    "    plt.savefig(f\"./pics/Dx/scatter/Weight/{pcb_i}.png\")"
   ]
  },
  {
   "cell_type": "code",
   "execution_count": null,
   "metadata": {},
   "outputs": [],
   "source": [
    "weight = fish_info['fulton'].to_numpy('single')\n",
    "p = dx.loc[:, fish_info['tag'].to_numpy('str')]\n",
    "for pcb_i in p.index:\n",
    "    if ~np.isnan(p.loc[pcb_i, :].to_numpy('single')).all():\n",
    "        plt.figure(figsize=(10, 10), facecolor = 'White')\n",
    "        plt.scatter(weight, p.loc[pcb_i, :].to_numpy('double'))\n",
    "        plt.xlabel(\"Fulton's condition factor\")\n",
    "        plt.ylabel(\"pg/g (wet weight basis)\")\n",
    "        plt.title(f'{pcb_i}')\n",
    "        temp = p.loc[pcb_i, :].to_numpy('single') > 0\n",
    "        if temp.sum() > 1:\n",
    "            model = LinearRegression()\n",
    "            slope, intercept, r_value, p_value, std_err = linregress(weight[temp], p.loc[pcb_i, :].to_numpy('single')[temp].ravel())\n",
    "            history = model.fit(np.array(weight, dtype=np.single)[temp].reshape(-1, 1), p.loc[pcb_i, :].to_numpy()[temp].reshape(-1, 1))\n",
    "            r_sq = model.score(np.array(weight, dtype=np.single)[temp].reshape(-1, 1), p.loc[pcb_i, :].to_numpy()[temp].reshape(-1, 1))\n",
    "            plt.plot(weight, model.predict(np.array(weight).reshape(-1, 1)), color = 'orange')\n",
    "            plt.annotate(f\"$r^2$ = {r_sq:.4f}\\nDx = {model.coef_[0][0]:.2f} * fulton + {model.intercept_[0]:.2f}\\nP-Value = {p_value:.2f}\",\n",
    "                      (0.01*np.diff(plt.xlim())[0]+plt.xlim()[0],0.01*np.diff(plt.ylim())[0]+plt.ylim()[0]), color = 'k', fontweight = \"bold\")\n",
    "    if not os.path.exists(\"./pics/Dx/scatter/fulton\"):\n",
    "        os.mkdir(\"./pics/Dx/scatter/fulton\")\n",
    "    plt.savefig(f\"./pics/Dx/scatter/fulton/{pcb_i}.png\")"
   ]
  },
  {
   "cell_type": "markdown",
   "metadata": {},
   "source": [
    "# Repeating all with Log"
   ]
  },
  {
   "cell_type": "code",
   "execution_count": null,
   "metadata": {},
   "outputs": [],
   "source": [
    "ages = [age_table.loc[age_table[\"Sample\"].str.contains(c[:2]), 'Age Estimate'].to_numpy()[0] for c in pcb_corrected.columns]\n",
    "for pcb_i in pcb_corrected.index:\n",
    "    if ~np.isnan(pcb_corrected.loc[pcb_i, :].to_numpy()).all():\n",
    "        plt.figure(figsize=(6, 4), facecolor = 'White')\n",
    "        plt.scatter(ages, np.log10(pcb_corrected.loc[pcb_i, :].to_numpy()))\n",
    "        plt.xlabel(\"Age\")\n",
    "        plt.ylabel(\"log10 pg/g (wet weight basis)\")\n",
    "        plt.title(f'{pcb_i}')\n",
    "        temp = pcb_corrected.loc[pcb_i, :].to_numpy() > 0\n",
    "        if temp.sum() > 1:\n",
    "            slope, intercept, r_value, p_value, std_err = linregress(np.array(ages, dtype=np.single)[temp].ravel(), np.log10(pcb_corrected.loc[pcb_i, :].to_numpy('single')[temp].ravel()))\n",
    "            model = LinearRegression()\n",
    "            history = model.fit(np.array(ages, dtype=np.single)[temp].reshape(-1, 1), np.log10(pcb_corrected.loc[pcb_i, :].to_numpy()[temp].reshape(-1, 1)))\n",
    "            r_sq = r_value ** 2\n",
    "            plt.plot(ages, model.predict(np.array(ages).reshape(-1, 1)), color = 'orange')\n",
    "            plt.annotate(f\"$r^2$ = {r_sq:.4f}\\n\" + r'$log_{10}^{(pcb)}$' + f\"= {model.coef_[0][0]:.2f} * Age + {model.intercept_[0]:.2f}\\nP-Value = {p_value:.2f}\",\n",
    "                      (0.01*np.diff(plt.xlim())[0]+plt.xlim()[0],0.01*np.diff(plt.ylim())[0]+plt.ylim()[0]), color = 'k', fontweight = \"bold\")\n",
    "    if not os.path.exists(\"./pics/pcbs/scatter/Age_log\"):\n",
    "        os.mkdir(\"./pics/pcbs/scatter/Age_log\")\n",
    "    plt.savefig(f\"./pics/pcbs/scatter/Age_log/{pcb_i}.png\")"
   ]
  },
  {
   "cell_type": "code",
   "execution_count": null,
   "metadata": {},
   "outputs": [],
   "source": [
    "ages = [age_table.loc[age_table[\"Sample\"].str.contains(c[:2]), 'Age Estimate'].to_numpy()[0] for c in dx.columns]\n",
    "for dx_i in dx.index:\n",
    "    if ~np.isnan(dx.loc[dx_i, :].to_numpy('single')).all():\n",
    "        plt.figure(figsize=(6, 4), facecolor = 'White')\n",
    "        plt.scatter(ages, np.log10(dx.loc[dx_i, :].to_numpy('double')))\n",
    "        plt.xlabel(\"Age\")\n",
    "        plt.ylabel(\"pg/g (wet weight basis)\")\n",
    "        plt.title(f'{dx_i}')\n",
    "        temp = dx.loc[dx_i, :].to_numpy() > 0\n",
    "        if temp.sum()>1:\n",
    "            slope, intercept, r_value, p_value, std_err = linregress(np.array(ages, dtype=np.single)[temp].ravel(), np.log10(dx.loc[dx_i, :].to_numpy('single')[temp].ravel()))\n",
    "            model = LinearRegression()\n",
    "            model.fit(np.array(ages, dtype=np.single)[temp].reshape(-1, 1), np.log10(dx.loc[dx_i, :].to_numpy('single')[temp].reshape(-1, 1)))\n",
    "            r_sq = model.score(np.array(ages, dtype=np.single)[temp].reshape(-1, 1), np.log10(dx.loc[dx_i, :].to_numpy('single')[temp].reshape(-1, 1)))\n",
    "            plt.plot(ages, model.predict(np.array(ages).reshape(-1, 1)), color = 'orange')\n",
    "            plt.annotate(f\"$r^2$ = {r_sq:.4f}\\n\"+r'$log_{10}^{Dx}' + f\" = {model.coef_[0][0]:.2f} * Age + {model.intercept_[0]:.2f}\\nP-Value = {p_value:.2f}\",\n",
    "                        (0.01*np.diff(plt.xlim())[0]+plt.xlim()[0],0.01*np.diff(plt.ylim())[0]+plt.ylim()[0]), color = 'k', fontweight = \"bold\")\n",
    "    if not os.path.exists(\"./pics/Dx/scatter/Age_log\"):\n",
    "        os.mkdir(\"./pics/Dx/scatter/Age_log\")\n",
    "    plt.savefig(f\"./pics/Dx/scatter/Age_log/{dx_i}.png\")"
   ]
  },
  {
   "cell_type": "code",
   "execution_count": null,
   "metadata": {},
   "outputs": [],
   "source": [
    "weight = fish_info['weight'].to_numpy('single')\n",
    "p = np.log10(pcb_corrected.loc[:, fish_info['tag'].to_numpy('str')])\n",
    "for pcb_i in p.index:\n",
    "    if ~np.isnan(p.loc[pcb_i, :].to_numpy()).all():\n",
    "        plt.figure(figsize=(6, 4), facecolor=\"white\")\n",
    "        plt.scatter(weight, p.loc[pcb_i, :].to_numpy())\n",
    "        plt.xlabel(\"Weight (Kg)\")\n",
    "        plt.ylabel(\"log10 pg/g (wet weight basis)\")\n",
    "        plt.title(f'{pcb_i}')\n",
    "        temp = p.loc[pcb_i, :].to_numpy() > 0\n",
    "        if temp.sum() > 1:\n",
    "            model = LinearRegression()\n",
    "            slope, intercept, r_value, p_value, std_err = linregress(weight[temp], p.loc[pcb_i, :].to_numpy('single')[temp].ravel())\n",
    "            history = model.fit(np.array(weight, dtype=np.single)[temp].reshape(-1, 1), p.loc[pcb_i, :].to_numpy()[temp].reshape(-1, 1))\n",
    "            r_sq = model.score(np.array(weight, dtype=np.single)[temp].reshape(-1, 1), p.loc[pcb_i, :].to_numpy()[temp].reshape(-1, 1))\n",
    "            plt.plot(weight, model.predict(np.array(weight).reshape(-1, 1)), color = 'orange')\n",
    "            plt.annotate(f\"$r^2$ = {r_sq:.4f}\\n\" + r'$log_{10}^{pcb}$' f\" = {model.coef_[0][0]:.2f} * weight + {model.intercept_[0]:.2f}\\nP-Value = {p_value:.2f}\",\n",
    "                      (0.01*np.diff(plt.xlim())[0]+plt.xlim()[0],0.01*np.diff(plt.ylim())[0]+plt.ylim()[0]), color = 'k', fontweight = \"bold\")\n",
    "    if not os.path.exists(\"./pics/pcbs/scatter/Weight_log\"):\n",
    "        os.mkdir(\"./pics/pcbs/scatter/Weight_log\")\n",
    "    plt.savefig(f\"./pics/pcbs/scatter/Weight_log/{pcb_i}.png\")"
   ]
  },
  {
   "cell_type": "code",
   "execution_count": null,
   "metadata": {},
   "outputs": [],
   "source": [
    "weight = fish_info['fulton'].to_numpy('single')\n",
    "p = np.log10(pcb_corrected.loc[:, fish_info['tag'].to_numpy('str')])\n",
    "for pcb_i in p.index:\n",
    "    if ~np.isnan(p.loc[pcb_i, :].to_numpy()).all():\n",
    "        plt.figure(figsize=(6, 4), facecolor=\"white\")\n",
    "        plt.scatter(weight, p.loc[pcb_i, :].to_numpy())\n",
    "        plt.xlabel(\"Fulton's condition factor\")\n",
    "        plt.ylabel(\"log10 pg/g (wet weight basis)\")\n",
    "        plt.title(f'{pcb_i}')\n",
    "        temp = p.loc[pcb_i, :].to_numpy() > 0\n",
    "        if temp.sum() > 1:\n",
    "            model = LinearRegression()\n",
    "            slope, intercept, r_value, p_value, std_err = linregress(weight[temp], p.loc[pcb_i, :].to_numpy('single')[temp].ravel())\n",
    "            history = model.fit(np.array(weight, dtype=np.single)[temp].reshape(-1, 1), p.loc[pcb_i, :].to_numpy()[temp].reshape(-1, 1))\n",
    "            r_sq = model.score(np.array(weight, dtype=np.single)[temp].reshape(-1, 1), p.loc[pcb_i, :].to_numpy()[temp].reshape(-1, 1))\n",
    "            plt.plot(weight, model.predict(np.array(weight).reshape(-1, 1)), color = 'orange')\n",
    "            plt.annotate(f\"$r^2$ = {r_sq:.4f}\\n\" + r'$log_{10}^{pcb}$' f\" = {model.coef_[0][0]:.2f} * fulton + {model.intercept_[0]:.2f}\\nP-Value = {p_value:.2f}\",\n",
    "                      (0.01*np.diff(plt.xlim())[0]+plt.xlim()[0],0.01*np.diff(plt.ylim())[0]+plt.ylim()[0]), color = 'k', fontweight = \"bold\")\n",
    "    if not os.path.exists(\"./pics/pcbs/scatter/fulton_log\"):\n",
    "        os.mkdir(\"./pics/pcbs/scatter/fulton_log\")\n",
    "    plt.savefig(f\"./pics/pcbs/scatter/fulton_log/{pcb_i}.png\")"
   ]
  },
  {
   "cell_type": "code",
   "execution_count": null,
   "metadata": {},
   "outputs": [],
   "source": [
    "weight = fish_info['weight'].to_numpy('single')\n",
    "p = np.log10(dx.loc[:, fish_info['tag'].to_numpy('str')].astype(\"double\"))\n",
    "for pcb_i in p.index:\n",
    "    if ~np.isnan(p.loc[pcb_i, :].to_numpy('single')).all():\n",
    "        plt.figure(figsize=(6, 4), facecolor = 'White')\n",
    "        plt.scatter(weight, p.loc[pcb_i, :].to_numpy('double'))\n",
    "        plt.xlabel(\"Weight (Kg)\")\n",
    "        plt.ylabel(\"log10 pg/g (wet weight basis)\")\n",
    "        plt.title(f'{pcb_i}')\n",
    "        temp = p.loc[pcb_i, :].to_numpy('single') > 0\n",
    "        if temp.sum() > 1:\n",
    "            model = LinearRegression()\n",
    "            slope, intercept, r_value, p_value, std_err = linregress(weight[temp], p.loc[pcb_i, :].to_numpy('single')[temp].ravel())\n",
    "            history = model.fit(np.array(weight, dtype=np.single)[temp].reshape(-1, 1), p.loc[pcb_i, :].to_numpy()[temp].reshape(-1, 1))\n",
    "            r_sq = model.score(np.array(weight, dtype=np.single)[temp].reshape(-1, 1), p.loc[pcb_i, :].to_numpy()[temp].reshape(-1, 1))\n",
    "            plt.plot(weight, model.predict(np.array(weight).reshape(-1, 1)), color = 'orange')\n",
    "            plt.annotate(f\"$r^2$ = {r_sq:.4f}\\n\" + r'$log_{10}^{Dx}$' f\" = {model.coef_[0][0]:.2f} * weight + {model.intercept_[0]:.2f}\\nP-Value = {p_value:.2f}\",\n",
    "                      (0.01*np.diff(plt.xlim())[0]+plt.xlim()[0],0.01*np.diff(plt.ylim())[0]+plt.ylim()[0]), color = 'k', fontweight = \"bold\")\n",
    "    if not os.path.exists(\"./pics/Dx/scatter/Weight_log\"):\n",
    "        os.mkdir(\"./pics/Dx/scatter/Weight_log\")\n",
    "    plt.savefig(f\"./pics/Dx/scatter/Weight_log/{pcb_i}.png\")"
   ]
  },
  {
   "cell_type": "code",
   "execution_count": null,
   "metadata": {},
   "outputs": [],
   "source": [
    "weight = fish_info['fulton'].to_numpy('single')\n",
    "p = np.log10(dx.loc[:, fish_info['tag'].to_numpy('str')].astype(\"double\"))\n",
    "for pcb_i in p.index:\n",
    "    if ~np.isnan(p.loc[pcb_i, :].to_numpy('single')).all():\n",
    "        plt.figure(figsize=(6, 4), facecolor = 'White')\n",
    "        plt.scatter(weight, p.loc[pcb_i, :].to_numpy('double'))\n",
    "        plt.xlabel(\"Fulton's condition factor\")\n",
    "        plt.ylabel(\"log10 pg/g (wet weight basis)\")\n",
    "        plt.title(f'{pcb_i}')\n",
    "        temp = p.loc[pcb_i, :].to_numpy('single') > 0\n",
    "        if temp.sum() > 1:\n",
    "            model = LinearRegression()\n",
    "            slope, intercept, r_value, p_value, std_err = linregress(weight[temp], p.loc[pcb_i, :].to_numpy('single')[temp].ravel())\n",
    "            history = model.fit(np.array(weight, dtype=np.single)[temp].reshape(-1, 1), p.loc[pcb_i, :].to_numpy()[temp].reshape(-1, 1))\n",
    "            r_sq = model.score(np.array(weight, dtype=np.single)[temp].reshape(-1, 1), p.loc[pcb_i, :].to_numpy()[temp].reshape(-1, 1))\n",
    "            plt.plot(weight, model.predict(np.array(weight).reshape(-1, 1)), color = 'orange')\n",
    "            plt.annotate(f\"$r^2$ = {r_sq:.4f}\\n\" + r'$log_{10}^{Dx}$' f\" = {model.coef_[0][0]:.2f} * fulton + {model.intercept_[0]:.2f}\\nP-Value = {p_value:.2f}\",\n",
    "                      (0.01*np.diff(plt.xlim())[0]+plt.xlim()[0],0.01*np.diff(plt.ylim())[0]+plt.ylim()[0]), color = 'k', fontweight = \"bold\")\n",
    "    if not os.path.exists(\"./pics/Dx/scatter/fulton_log\"):\n",
    "        os.mkdir(\"./pics/Dx/scatter/fulton_log\")\n",
    "    plt.savefig(f\"./pics/Dx/scatter/fulton_log/{pcb_i}.png\")"
   ]
  },
  {
   "cell_type": "markdown",
   "metadata": {},
   "source": [
    "# Repeating all for lipid normalized"
   ]
  },
  {
   "cell_type": "code",
   "execution_count": 410,
   "metadata": {},
   "outputs": [],
   "source": [
    "pcb_lipid = pd.read_excel(\"./generated excels/pcb.xlsx\", sheet_name=\"lipid_normalized\")\n",
    "pcb_lipid = pcb_lipid.iloc[:-12, :]\n",
    "c = pcb_lipid.columns.tolist()\n",
    "c[0] = \"Units\"\n",
    "pcb_lipid.columns = c\n",
    "pcb_lipid.set_index('Units', inplace=True)"
   ]
  },
  {
   "cell_type": "code",
   "execution_count": null,
   "metadata": {},
   "outputs": [],
   "source": [
    "pcb_lipid"
   ]
  },
  {
   "cell_type": "code",
   "execution_count": null,
   "metadata": {},
   "outputs": [],
   "source": [
    "ages = [age_table.loc[age_table[\"Sample\"].str.contains(c[:2]), 'Age Estimate'].to_numpy()[0] for c in pcb_lipid.columns]\n",
    "for pcb_i in pcb_lipid.index:\n",
    "    if ~np.isnan(pcb_lipid.loc[pcb_i, :].to_numpy()).all():\n",
    "        plt.figure(figsize=(6, 4), facecolor = 'White')\n",
    "        plt.scatter(ages, pcb_lipid.loc[pcb_i, :].to_numpy())\n",
    "        plt.xlabel(\"Age\")\n",
    "        plt.ylabel(\"pg/g (wet weight basis)\")\n",
    "        plt.title(f'{pcb_i}')\n",
    "        temp = pcb_lipid.loc[pcb_i, :].to_numpy() > 0\n",
    "        if temp.sum() > 1:\n",
    "            slope, intercept, r_value, p_value, std_err = linregress(np.array(ages, dtype=np.single)[temp].ravel(), pcb_lipid.loc[pcb_i, :].to_numpy('single')[temp].ravel())\n",
    "            model = LinearRegression()\n",
    "            history = model.fit(np.array(ages, dtype=np.single)[temp].reshape(-1, 1), pcb_lipid.loc[pcb_i, :].to_numpy()[temp].reshape(-1, 1))\n",
    "            r_sq = r_value ** 2\n",
    "            plt.plot(ages, model.predict(np.array(ages).reshape(-1, 1)), color = 'orange')\n",
    "            plt.annotate(f\"$r^2$ = {r_sq:.4f}\\n\" + 'pcb' + f\"= {model.coef_[0][0]:.2f} * Age + {model.intercept_[0]:.2f}\\nP-Value = {p_value:.2f}\",\n",
    "                      (0.01*np.diff(plt.xlim())[0]+plt.xlim()[0], .1 * np.diff(plt.ylim())[0]+plt.ylim()[1]), color = 'k', fontweight = \"bold\")\n",
    "            plt.ylim(plt.ylim()[0], .3 * np.diff(plt.ylim())[0]+plt.ylim()[1])\n",
    "    if not os.path.exists(\"./pics/pcbs/scatter/Age_lipid\"):\n",
    "        os.mkdir(\"./pics/pcbs/scatter/Age_lipid\")\n",
    "    plt.savefig(f\"./pics/pcbs/scatter/Age_lipid/{pcb_i}.png\")"
   ]
  },
  {
   "cell_type": "code",
   "execution_count": 413,
   "metadata": {},
   "outputs": [],
   "source": [
    "dx = pd.read_excel(\"./generated excels/DX.xlsx\", sheet_name = \"lipid_normalized\")\n",
    "dx = dx.iloc[:-9, :]\n",
    "dx.columns = c\n",
    "dx.set_index('Units', inplace=True)"
   ]
  },
  {
   "cell_type": "code",
   "execution_count": null,
   "metadata": {},
   "outputs": [],
   "source": [
    "ages = [age_table.loc[age_table[\"Sample\"].str.contains(c[:2]), 'Age Estimate'].to_numpy()[0] for c in dx.columns]\n",
    "for dx_i in dx.index:\n",
    "    if ~np.isnan(dx.loc[dx_i, :].to_numpy('single')).all():\n",
    "        plt.figure(figsize=(6, 4), facecolor = 'White')\n",
    "        plt.scatter(ages, dx.loc[dx_i, :].to_numpy('double'))\n",
    "        plt.xlabel(\"Age\")\n",
    "        plt.ylabel(\"pg/g (wet weight basis)\")\n",
    "        plt.title(f'{dx_i}')\n",
    "        temp = dx.loc[dx_i, :].to_numpy() > 0\n",
    "        if temp.sum()>1:\n",
    "            slope, intercept, r_value, p_value, std_err = linregress(np.array(ages, dtype=np.single)[temp].ravel(), dx.loc[dx_i, :].to_numpy('single')[temp].ravel())\n",
    "            model = LinearRegression()\n",
    "            model.fit(np.array(ages, dtype=np.single)[temp].reshape(-1, 1), dx.loc[dx_i, :].to_numpy('single')[temp].reshape(-1, 1))\n",
    "            r_sq = model.score(np.array(ages, dtype=np.single)[temp].reshape(-1, 1), dx.loc[dx_i, :].to_numpy('single')[temp].reshape(-1, 1))\n",
    "            plt.plot(ages, model.predict(np.array(ages).reshape(-1, 1)), color = 'orange')\n",
    "            plt.annotate(f\"$r^2$ = {r_sq:.4f}\\n\"+ r'Dx' + f\" = {model.coef_[0][0]:.2f} * Age + {model.intercept_[0]:.2f}\\nP-Value = {p_value:.2f}\",\n",
    "                        (0.01*np.diff(plt.xlim())[0]+plt.xlim()[0], .1 * np.diff(plt.ylim())[0]+plt.ylim()[1]), color = 'k', fontweight = \"bold\")\n",
    "            plt.ylim(plt.ylim()[0], .3 * np.diff(plt.ylim())[0]+plt.ylim()[1])\n",
    "    if not os.path.exists(\"./pics/Dx/scatter/Age_lipid\"):\n",
    "        os.mkdir(\"./pics/Dx/scatter/Age_lipid\")\n",
    "    plt.savefig(f\"./pics/Dx/scatter/Age_lipid/{dx_i}.png\")"
   ]
  },
  {
   "cell_type": "code",
   "execution_count": null,
   "metadata": {},
   "outputs": [],
   "source": [
    "weight = fish_info['weight'].to_numpy('single')\n",
    "pcb_lipid.rename(columns={'13-Trembleur': '13'}, inplace = True)\n",
    "p = pcb_lipid.loc[:, fish_info['tag'].to_numpy('str')]\n",
    "for pcb_i in p.index:\n",
    "    if ~np.isnan(p.loc[pcb_i, :].to_numpy()).all():\n",
    "        plt.figure(figsize=(6, 4), facecolor=\"white\")\n",
    "        plt.scatter(weight, p.loc[pcb_i, :].to_numpy())\n",
    "        plt.xlabel(\"Weight (Kg)\")\n",
    "        plt.ylabel(\"pg/g (wet weight basis)\")\n",
    "        plt.title(f'{pcb_i}')\n",
    "        temp = p.loc[pcb_i, :].to_numpy() > 0\n",
    "        if temp.sum() > 1:\n",
    "            model = LinearRegression()\n",
    "            slope, intercept, r_value, p_value, std_err = linregress(weight[temp], p.loc[pcb_i, :].to_numpy('single')[temp].ravel())\n",
    "            history = model.fit(np.array(weight, dtype=np.single)[temp].reshape(-1, 1), p.loc[pcb_i, :].to_numpy()[temp].reshape(-1, 1))\n",
    "            r_sq = model.score(np.array(weight, dtype=np.single)[temp].reshape(-1, 1), p.loc[pcb_i, :].to_numpy()[temp].reshape(-1, 1))\n",
    "            plt.plot(weight, model.predict(np.array(weight).reshape(-1, 1)), color = 'orange')\n",
    "            plt.annotate(f\"$r^2$ = {r_sq:.4f}\\n\" + r'$pcb$' f\" = {model.coef_[0][0]:.2f} * weight + {model.intercept_[0]:.2f}\\nP-Value = {p_value:.2f}\",\n",
    "                      (0.01*np.diff(plt.xlim())[0]+plt.xlim()[0], .1 * np.diff(plt.ylim())[0]+plt.ylim()[1]), color = 'k', fontweight = \"bold\")\n",
    "            plt.ylim(plt.ylim()[0], .3 * np.diff(plt.ylim())[0]+plt.ylim()[1])\n",
    "    if not os.path.exists(\"./pics/pcbs/scatter/Weight_lipid\"):\n",
    "        os.mkdir(\"./pics/pcbs/scatter/Weight_lipid\")\n",
    "    plt.savefig(f\"./pics/pcbs/scatter/Weight_lipid/{pcb_i}.png\")"
   ]
  },
  {
   "cell_type": "code",
   "execution_count": null,
   "metadata": {},
   "outputs": [],
   "source": [
    "weight = fish_info['fulton'].to_numpy('single')\n",
    "p = pcb_corrected.loc[:, fish_info['tag'].to_numpy('str')]\n",
    "for pcb_i in p.index:\n",
    "    if ~np.isnan(p.loc[pcb_i, :].to_numpy()).all():\n",
    "        plt.figure(figsize=(6, 4), facecolor=\"white\")\n",
    "        plt.scatter(weight, p.loc[pcb_i, :].to_numpy())\n",
    "        plt.xlabel(\"Fulton's condition factor\")\n",
    "        plt.ylabel(\"pg/g (wet weight basis)\")\n",
    "        plt.title(f'{pcb_i}')\n",
    "        temp = p.loc[pcb_i, :].to_numpy() > 0\n",
    "        if temp.sum() > 1:\n",
    "            model = LinearRegression()\n",
    "            slope, intercept, r_value, p_value, std_err = linregress(weight[temp], p.loc[pcb_i, :].to_numpy('single')[temp].ravel())\n",
    "            history = model.fit(np.array(weight, dtype=np.single)[temp].reshape(-1, 1), p.loc[pcb_i, :].to_numpy()[temp].reshape(-1, 1))\n",
    "            r_sq = model.score(np.array(weight, dtype=np.single)[temp].reshape(-1, 1), p.loc[pcb_i, :].to_numpy()[temp].reshape(-1, 1))\n",
    "            plt.plot(weight, model.predict(np.array(weight).reshape(-1, 1)), color = 'orange')\n",
    "            plt.annotate(f\"$r^2$ = {r_sq:.4f}\\n\" + r'pcb' f\" = {model.coef_[0][0]:.2f} * fulton + {model.intercept_[0]:.2f}\\nP-Value = {p_value:.2f}\",\n",
    "                      (0.01*np.diff(plt.xlim())[0]+plt.xlim()[0], .1 * np.diff(plt.ylim())[0]+plt.ylim()[1]), color = 'k', fontweight = \"bold\")\n",
    "            plt.ylim(plt.ylim()[0], .3 * np.diff(plt.ylim())[0]+plt.ylim()[1])\n",
    "    if not os.path.exists(\"./pics/pcbs/scatter/fulton_lipid\"):\n",
    "        os.mkdir(\"./pics/pcbs/scatter/fulton_lipid\")\n",
    "    plt.savefig(f\"./pics/pcbs/scatter/fulton_lipid/{pcb_i}.png\")"
   ]
  },
  {
   "cell_type": "code",
   "execution_count": null,
   "metadata": {},
   "outputs": [],
   "source": [
    "weight = fish_info['fulton'].to_numpy('single')\n",
    "p = pcb_corrected.loc[:, fish_info['tag'].to_numpy('str')]\n",
    "for pcb_i in p.index:\n",
    "    if ~np.isnan(p.loc[pcb_i, :].to_numpy()).all():\n",
    "        plt.figure(figsize=(6, 4), facecolor=\"white\")\n",
    "        plt.scatter(weight, p.loc[pcb_i, :].to_numpy())\n",
    "        plt.xlabel(\"Fulton's condition factor\")\n",
    "        plt.ylabel(\"pg/g (wet weight basis)\")\n",
    "        plt.title(f'{pcb_i}')\n",
    "        temp = p.loc[pcb_i, :].to_numpy() > 0\n",
    "        if temp.sum() > 1:\n",
    "            model = LinearRegression()\n",
    "            slope, intercept, r_value, p_value, std_err = linregress(weight[temp], p.loc[pcb_i, :].to_numpy('single')[temp].ravel())\n",
    "            history = model.fit(np.array(weight, dtype=np.single)[temp].reshape(-1, 1), p.loc[pcb_i, :].to_numpy()[temp].reshape(-1, 1))\n",
    "            r_sq = model.score(np.array(weight, dtype=np.single)[temp].reshape(-1, 1), p.loc[pcb_i, :].to_numpy()[temp].reshape(-1, 1))\n",
    "            plt.plot(weight, model.predict(np.array(weight).reshape(-1, 1)), color = 'orange')\n",
    "            plt.annotate(f\"$r^2$ = {r_sq:.4f}\\n\" + r'pcb' f\" = {model.coef_[0][0]:.2f} * fulton + {model.intercept_[0]:.2f}\\nP-Value = {p_value:.2f}\",\n",
    "                      (0.01*np.diff(plt.xlim())[0]+plt.xlim()[0], .1 * np.diff(plt.ylim())[0]+plt.ylim()[1]), color = 'k', fontweight = \"bold\")\n",
    "            plt.ylim(plt.ylim()[0], .3 * np.diff(plt.ylim())[0]+plt.ylim()[1])\n",
    "    if not os.path.exists(\"./pics/pcbs/scatter/fulton_lipid\"):\n",
    "        os.mkdir(\"./pics/pcbs/scatter/fulton_lipid\")\n",
    "    plt.savefig(f\"./pics/pcbs/scatter/fulton_lipid/{pcb_i}.png\")"
   ]
  },
  {
   "cell_type": "code",
   "execution_count": null,
   "metadata": {},
   "outputs": [],
   "source": [
    "weight = fish_info['fulton'].to_numpy('single')\n",
    "dx.rename(columns={'13-Trembleur': '13'}, inplace = True)\n",
    "p = dx.loc[:, fish_info['tag'].to_numpy('str')].astype(\"double\")\n",
    "for pcb_i in p.index:\n",
    "    if ~np.isnan(p.loc[pcb_i, :].to_numpy('single')).all():\n",
    "        plt.figure(figsize=(6, 4), facecolor = 'White')\n",
    "        plt.scatter(weight, p.loc[pcb_i, :].to_numpy('double'))\n",
    "        plt.xlabel(\"Fulton's condition factor\")\n",
    "        plt.ylabel(\"pg/g (wet weight basis)\")\n",
    "        plt.title(f'{pcb_i}')\n",
    "        temp = p.loc[pcb_i, :].to_numpy('single') > 0\n",
    "        if temp.sum() > 1:\n",
    "            model = LinearRegression()\n",
    "            slope, intercept, r_value, p_value, std_err = linregress(weight[temp], p.loc[pcb_i, :].to_numpy('single')[temp].ravel())\n",
    "            history = model.fit(np.array(weight, dtype=np.single)[temp].reshape(-1, 1), p.loc[pcb_i, :].to_numpy()[temp].reshape(-1, 1))\n",
    "            r_sq = model.score(np.array(weight, dtype=np.single)[temp].reshape(-1, 1), p.loc[pcb_i, :].to_numpy()[temp].reshape(-1, 1))\n",
    "            plt.plot(weight, model.predict(np.array(weight).reshape(-1, 1)), color = 'orange')\n",
    "            plt.annotate(f\"$r^2$ = {r_sq:.4f}\\n\" + r'$Dx' f\" = {model.coef_[0][0]:.2f} * fulton + {model.intercept_[0]:.2f}\\nP-Value = {p_value:.2f}\",\n",
    "                      (0.01*np.diff(plt.xlim())[0]+plt.xlim()[0], .1 * np.diff(plt.ylim())[0]+plt.ylim()[1]), color = 'k', fontweight = \"bold\")\n",
    "            plt.ylim(plt.ylim()[0], .3 * np.diff(plt.ylim())[0]+plt.ylim()[1])\n",
    "    if not os.path.exists(\"./pics/Dx/scatter/fulton_lipid\"):\n",
    "        os.mkdir(\"./pics/Dx/scatter/fulton_lipid\")\n",
    "    plt.savefig(f\"./pics/Dx/scatter/fulton_lipid/{pcb_i}.png\")"
   ]
  },
  {
   "cell_type": "markdown",
   "metadata": {},
   "source": [
    "# Multi-Panel Box Plot"
   ]
  },
  {
   "cell_type": "code",
   "execution_count": null,
   "metadata": {},
   "outputs": [],
   "source": [
    "analytes = punch_data.Analyte.unique()\n",
    "analytes = analytes[[0, 2, 1, -2, 3, -1]]\n",
    "fig, axs = plt.subplots(3, 2, facecolor = 'white', figsize = (12, 15), sharey = 'row')\n",
    "axs = axs.flatten()\n",
    "for i, analyte in enumerate(analytes):\n",
    "    # plt.subplot(3, 2, i+1)\n",
    "    result = punch_data.loc[(punch_data.Matrix == 'Fish') & (punch_data.Analyte == analyte) & ~punch_data.Sample_Tag.str.contains('13'), ['Tissue', 'Sample_Tag', 'Ours', 'Result']]\n",
    "    id = result.Tissue == 'Liver'\n",
    "    plot_data = np.c_[result.loc[id, ['Ours']].to_numpy(), result.loc[~id, ['Ours', 'Result']].to_numpy()]\n",
    "    plot_data = plot_data.T.tolist()\n",
    "    if np.isnan(plot_data[0][-1]):\n",
    "        del plot_data[0][-1]\n",
    "    axs[i].boxplot(plot_data);\n",
    "    axs[i].set_title(analyte, fontweight = 'bold', fontsize = 14)\n",
    "    axs[2].set_ylabel('mg/kg wwt.', fontweight = 'bold', fontsize = 14)\n",
    "    if i < 4: \n",
    "        axs[i].tick_params(labelbottom=False)\n",
    "    else:\n",
    "        axs[i].set_xticklabels(['Liver', 'Muscle', 'Punch'], rotation = 45, fontsize = 14, fontweight = 'bold')\n"
   ]
  },
  {
   "cell_type": "markdown",
   "metadata": {},
   "source": [
    "## Quartiles"
   ]
  },
  {
   "cell_type": "code",
   "execution_count": 457,
   "metadata": {},
   "outputs": [],
   "source": [
    "t = data\n",
    "quartiles = t.drop(columns=t.columns[3:])\n",
    "quartiles['tag'] = 'MT'\n",
    "qs = np.quantile(t.iloc[:, 3:12].to_numpy('float32'), [0, .25, .5, .75, 1], axis = 1)\n",
    "qs = pd.DataFrame(qs.T, columns=['Q0', 'Q1', 'Q2', 'Q3', 'Q4'])\n",
    "quartiles = pd.concat([quartiles, qs], axis = 1)\n",
    "qs = quartiles.copy()\n",
    "qs.tag = 'Liver'\n",
    "qs.iloc[:, 4:] = np.quantile(t.iloc[:, 12:].to_numpy('float32'), [0, .25, .5, .75, 1], axis = 1).T\n",
    "quartiles = pd.concat([quartiles, qs], axis = 0)\n",
    "quartiles = quartiles.sort_values('Analyte').reset_index(drop = True)\n",
    "quartiles.to_excel('quartiles.xlsx')"
   ]
  },
  {
   "cell_type": "code",
   "execution_count": null,
   "metadata": {},
   "outputs": [],
   "source": []
  }
 ],
 "metadata": {
  "kernelspec": {
   "display_name": "Python 3",
   "language": "python",
   "name": "python3"
  },
  "language_info": {
   "codemirror_mode": {
    "name": "ipython",
    "version": 3
   },
   "file_extension": ".py",
   "mimetype": "text/x-python",
   "name": "python",
   "nbconvert_exporter": "python",
   "pygments_lexer": "ipython3",
   "version": "3.9.12"
  },
  "orig_nbformat": 4
 },
 "nbformat": 4,
 "nbformat_minor": 2
}
